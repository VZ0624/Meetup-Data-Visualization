{
 "cells": [
  {
   "cell_type": "markdown",
   "metadata": {},
   "source": [
    "Team: Tina Peng, Vanessa Zheng "
   ]
  },
  {
   "cell_type": "code",
   "execution_count": 1,
   "metadata": {},
   "outputs": [
    {
     "data": {
      "text/html": [
       "<script>requirejs.config({paths: { 'plotly': ['https://cdn.plot.ly/plotly-latest.min']},});if(!window.Plotly) {{require(['plotly'],function(plotly) {window.Plotly=plotly;});}}</script>"
      ],
      "text/vnd.plotly.v1+html": [
       "<script>requirejs.config({paths: { 'plotly': ['https://cdn.plot.ly/plotly-latest.min']},});if(!window.Plotly) {{require(['plotly'],function(plotly) {window.Plotly=plotly;});}}</script>"
      ]
     },
     "metadata": {},
     "output_type": "display_data"
    }
   ],
   "source": [
    "from plotly.offline import init_notebook_mode, iplot\n",
    "from IPython.display import display, HTML\n",
    "import pandas as pd\n",
    "init_notebook_mode(connected=True)\n",
    "import pickle\n",
    "from itertools import product"
   ]
  },
  {
   "cell_type": "markdown",
   "metadata": {},
   "source": [
    "# Load Data"
   ]
  },
  {
   "cell_type": "code",
   "execution_count": 2,
   "metadata": {
    "scrolled": true
   },
   "outputs": [],
   "source": [
    "topic = pd.read_csv('topics.csv', encoding='latin')"
   ]
  },
  {
   "cell_type": "code",
   "execution_count": 3,
   "metadata": {},
   "outputs": [],
   "source": [
    "member = pd.read_csv('members.csv', encoding='latin')"
   ]
  },
  {
   "cell_type": "code",
   "execution_count": 4,
   "metadata": {
    "collapsed": true
   },
   "outputs": [],
   "source": [
    "member = member[['member_id', 'country','joined', 'group_id']]  # subset for memory issue"
   ]
  },
  {
   "cell_type": "code",
   "execution_count": 5,
   "metadata": {
    "collapsed": true
   },
   "outputs": [],
   "source": [
    "groups = pd.read_csv('groups.csv', encoding='latin')"
   ]
  },
  {
   "cell_type": "code",
   "execution_count": 6,
   "metadata": {
    "collapsed": true
   },
   "outputs": [],
   "source": [
    "groups = groups[['group_id', 'city_id', 'city', 'country', 'created']]"
   ]
  },
  {
   "cell_type": "code",
   "execution_count": 7,
   "metadata": {
    "collapsed": true
   },
   "outputs": [],
   "source": [
    "groups_topic = pd.read_csv('groups_topics.csv', encoding='latin')"
   ]
  },
  {
   "cell_type": "code",
   "execution_count": 8,
   "metadata": {},
   "outputs": [
    {
     "data": {
      "text/plain": [
       "2509"
      ]
     },
     "execution_count": 8,
     "metadata": {},
     "output_type": "execute_result"
    }
   ],
   "source": [
    "len(topic.topic_id.unique())"
   ]
  },
  {
   "cell_type": "markdown",
   "metadata": {},
   "source": [
    "# Prepare data for {topic: groups}"
   ]
  },
  {
   "cell_type": "code",
   "execution_count": 9,
   "metadata": {
    "collapsed": true
   },
   "outputs": [],
   "source": [
    "data = pd.merge(groups_topic, groups, on='group_id')"
   ]
  },
  {
   "cell_type": "code",
   "execution_count": 10,
   "metadata": {},
   "outputs": [
    {
     "data": {
      "text/html": [
       "<div>\n",
       "<style>\n",
       "    .dataframe thead tr:only-child th {\n",
       "        text-align: right;\n",
       "    }\n",
       "\n",
       "    .dataframe thead th {\n",
       "        text-align: left;\n",
       "    }\n",
       "\n",
       "    .dataframe tbody tr th {\n",
       "        vertical-align: top;\n",
       "    }\n",
       "</style>\n",
       "<table border=\"1\" class=\"dataframe\">\n",
       "  <thead>\n",
       "    <tr style=\"text-align: right;\">\n",
       "      <th></th>\n",
       "      <th>topic_id</th>\n",
       "      <th>topic_key</th>\n",
       "      <th>topic_name</th>\n",
       "      <th>group_id</th>\n",
       "      <th>city_id</th>\n",
       "      <th>city</th>\n",
       "      <th>country</th>\n",
       "      <th>created</th>\n",
       "    </tr>\n",
       "  </thead>\n",
       "  <tbody>\n",
       "    <tr>\n",
       "      <th>0</th>\n",
       "      <td>83</td>\n",
       "      <td>sportsfans</td>\n",
       "      <td>Sports Fan</td>\n",
       "      <td>241031</td>\n",
       "      <td>10001</td>\n",
       "      <td>New York</td>\n",
       "      <td>US</td>\n",
       "      <td>2006-05-04 20:06:50</td>\n",
       "    </tr>\n",
       "    <tr>\n",
       "      <th>1</th>\n",
       "      <td>10581</td>\n",
       "      <td>social</td>\n",
       "      <td>Social</td>\n",
       "      <td>241031</td>\n",
       "      <td>10001</td>\n",
       "      <td>New York</td>\n",
       "      <td>US</td>\n",
       "      <td>2006-05-04 20:06:50</td>\n",
       "    </tr>\n",
       "    <tr>\n",
       "      <th>2</th>\n",
       "      <td>25356</td>\n",
       "      <td>baseball-at-a-sports-bar</td>\n",
       "      <td>Baseball at a sports bar</td>\n",
       "      <td>241031</td>\n",
       "      <td>10001</td>\n",
       "      <td>New York</td>\n",
       "      <td>US</td>\n",
       "      <td>2006-05-04 20:06:50</td>\n",
       "    </tr>\n",
       "    <tr>\n",
       "      <th>3</th>\n",
       "      <td>83</td>\n",
       "      <td>sportsfans</td>\n",
       "      <td>Sports Fan</td>\n",
       "      <td>289172</td>\n",
       "      <td>60601</td>\n",
       "      <td>Chicago</td>\n",
       "      <td>US</td>\n",
       "      <td>2006-07-22 23:26:21</td>\n",
       "    </tr>\n",
       "    <tr>\n",
       "      <th>4</th>\n",
       "      <td>10451</td>\n",
       "      <td>sports</td>\n",
       "      <td>Sports and Recreation</td>\n",
       "      <td>289172</td>\n",
       "      <td>60601</td>\n",
       "      <td>Chicago</td>\n",
       "      <td>US</td>\n",
       "      <td>2006-07-22 23:26:21</td>\n",
       "    </tr>\n",
       "  </tbody>\n",
       "</table>\n",
       "</div>"
      ],
      "text/plain": [
       "   topic_id                 topic_key                topic_name  group_id  \\\n",
       "0        83                sportsfans                Sports Fan    241031   \n",
       "1     10581                    social                    Social    241031   \n",
       "2     25356  baseball-at-a-sports-bar  Baseball at a sports bar    241031   \n",
       "3        83                sportsfans                Sports Fan    289172   \n",
       "4     10451                    sports     Sports and Recreation    289172   \n",
       "\n",
       "   city_id      city country              created  \n",
       "0    10001  New York      US  2006-05-04 20:06:50  \n",
       "1    10001  New York      US  2006-05-04 20:06:50  \n",
       "2    10001  New York      US  2006-05-04 20:06:50  \n",
       "3    60601   Chicago      US  2006-07-22 23:26:21  \n",
       "4    60601   Chicago      US  2006-07-22 23:26:21  "
      ]
     },
     "execution_count": 10,
     "metadata": {},
     "output_type": "execute_result"
    }
   ],
   "source": [
    "data.head()"
   ]
  },
  {
   "cell_type": "code",
   "execution_count": 11,
   "metadata": {
    "collapsed": true
   },
   "outputs": [],
   "source": [
    "data['created'] = pd.to_datetime(data['created'])  # convert column type for time operation "
   ]
  },
  {
   "cell_type": "code",
   "execution_count": 12,
   "metadata": {
    "collapsed": true
   },
   "outputs": [],
   "source": [
    "data['year'] = data['created'].apply(lambda x: x.year)"
   ]
  },
  {
   "cell_type": "markdown",
   "metadata": {},
   "source": [
    "get cumulative sum for each year and topic id:"
   ]
  },
  {
   "cell_type": "code",
   "execution_count": 13,
   "metadata": {
    "collapsed": true
   },
   "outputs": [],
   "source": [
    "group_count = data.groupby(['topic_id','year']).agg({'group_id':'count'}).reset_index()\n",
    "\n",
    "group_count.columns = ['topic_id', 'year', 'number_of_join']\n",
    "\n",
    "topic_group_count = group_count.groupby(by=['topic_id','year']).sum().groupby(level=[0]).cumsum().reset_index()"
   ]
  },
  {
   "cell_type": "code",
   "execution_count": 14,
   "metadata": {
    "collapsed": true
   },
   "outputs": [],
   "source": [
    "# pickle.dump(topic_group_count, open('meetups-data-from-meetupcom/data/topic_group_count.pkl', 'wb'))"
   ]
  },
  {
   "cell_type": "code",
   "execution_count": 15,
   "metadata": {
    "collapsed": true
   },
   "outputs": [],
   "source": [
    "topic_group_year = topic_group_count.pivot(index='year', columns='topic_id')  \n",
    "group_count = topic_group_year.stack().reset_index()  # reshape for graphing"
   ]
  },
  {
   "cell_type": "code",
   "execution_count": 16,
   "metadata": {
    "scrolled": true
   },
   "outputs": [
    {
     "data": {
      "text/html": [
       "<div>\n",
       "<style>\n",
       "    .dataframe thead tr:only-child th {\n",
       "        text-align: right;\n",
       "    }\n",
       "\n",
       "    .dataframe thead th {\n",
       "        text-align: left;\n",
       "    }\n",
       "\n",
       "    .dataframe tbody tr th {\n",
       "        vertical-align: top;\n",
       "    }\n",
       "</style>\n",
       "<table border=\"1\" class=\"dataframe\">\n",
       "  <thead>\n",
       "    <tr style=\"text-align: right;\">\n",
       "      <th></th>\n",
       "      <th>year</th>\n",
       "      <th>topic_id</th>\n",
       "      <th>number_of_join</th>\n",
       "    </tr>\n",
       "  </thead>\n",
       "  <tbody>\n",
       "    <tr>\n",
       "      <th>0</th>\n",
       "      <td>2002</td>\n",
       "      <td>182</td>\n",
       "      <td>1.0</td>\n",
       "    </tr>\n",
       "    <tr>\n",
       "      <th>63</th>\n",
       "      <td>2003</td>\n",
       "      <td>182</td>\n",
       "      <td>3.0</td>\n",
       "    </tr>\n",
       "    <tr>\n",
       "      <th>167</th>\n",
       "      <td>2005</td>\n",
       "      <td>182</td>\n",
       "      <td>4.0</td>\n",
       "    </tr>\n",
       "    <tr>\n",
       "      <th>531</th>\n",
       "      <td>2008</td>\n",
       "      <td>182</td>\n",
       "      <td>6.0</td>\n",
       "    </tr>\n",
       "    <tr>\n",
       "      <th>695</th>\n",
       "      <td>2009</td>\n",
       "      <td>182</td>\n",
       "      <td>7.0</td>\n",
       "    </tr>\n",
       "    <tr>\n",
       "      <th>904</th>\n",
       "      <td>2010</td>\n",
       "      <td>182</td>\n",
       "      <td>12.0</td>\n",
       "    </tr>\n",
       "    <tr>\n",
       "      <th>1133</th>\n",
       "      <td>2011</td>\n",
       "      <td>182</td>\n",
       "      <td>13.0</td>\n",
       "    </tr>\n",
       "    <tr>\n",
       "      <th>1394</th>\n",
       "      <td>2012</td>\n",
       "      <td>182</td>\n",
       "      <td>21.0</td>\n",
       "    </tr>\n",
       "    <tr>\n",
       "      <th>1695</th>\n",
       "      <td>2013</td>\n",
       "      <td>182</td>\n",
       "      <td>30.0</td>\n",
       "    </tr>\n",
       "    <tr>\n",
       "      <th>2047</th>\n",
       "      <td>2014</td>\n",
       "      <td>182</td>\n",
       "      <td>40.0</td>\n",
       "    </tr>\n",
       "    <tr>\n",
       "      <th>2451</th>\n",
       "      <td>2015</td>\n",
       "      <td>182</td>\n",
       "      <td>52.0</td>\n",
       "    </tr>\n",
       "    <tr>\n",
       "      <th>2901</th>\n",
       "      <td>2016</td>\n",
       "      <td>182</td>\n",
       "      <td>72.0</td>\n",
       "    </tr>\n",
       "    <tr>\n",
       "      <th>3420</th>\n",
       "      <td>2017</td>\n",
       "      <td>182</td>\n",
       "      <td>110.0</td>\n",
       "    </tr>\n",
       "  </tbody>\n",
       "</table>\n",
       "</div>"
      ],
      "text/plain": [
       "      year  topic_id  number_of_join\n",
       "0     2002       182             1.0\n",
       "63    2003       182             3.0\n",
       "167   2005       182             4.0\n",
       "531   2008       182             6.0\n",
       "695   2009       182             7.0\n",
       "904   2010       182            12.0\n",
       "1133  2011       182            13.0\n",
       "1394  2012       182            21.0\n",
       "1695  2013       182            30.0\n",
       "2047  2014       182            40.0\n",
       "2451  2015       182            52.0\n",
       "2901  2016       182            72.0\n",
       "3420  2017       182           110.0"
      ]
     },
     "execution_count": 16,
     "metadata": {},
     "output_type": "execute_result"
    }
   ],
   "source": [
    "group_count[group_count.topic_id==182]"
   ]
  },
  {
   "cell_type": "code",
   "execution_count": 17,
   "metadata": {
    "collapsed": true
   },
   "outputs": [],
   "source": [
    "# pickle.dump(topic_group_year, open('meetups-data-from-meetupcom/data/topic_group_year.pkl', 'wb'))"
   ]
  },
  {
   "cell_type": "markdown",
   "metadata": {},
   "source": [
    "# Prepare data for {topic: members}"
   ]
  },
  {
   "cell_type": "code",
   "execution_count": 18,
   "metadata": {
    "collapsed": true
   },
   "outputs": [],
   "source": [
    "member['joined'] = pd.to_datetime(member['joined'])"
   ]
  },
  {
   "cell_type": "code",
   "execution_count": 19,
   "metadata": {
    "collapsed": true
   },
   "outputs": [],
   "source": [
    "member['year'] = member['joined'].apply(lambda x: x.year)"
   ]
  },
  {
   "cell_type": "code",
   "execution_count": 20,
   "metadata": {
    "scrolled": true
   },
   "outputs": [
    {
     "data": {
      "text/html": [
       "<div>\n",
       "<style>\n",
       "    .dataframe thead tr:only-child th {\n",
       "        text-align: right;\n",
       "    }\n",
       "\n",
       "    .dataframe thead th {\n",
       "        text-align: left;\n",
       "    }\n",
       "\n",
       "    .dataframe tbody tr th {\n",
       "        vertical-align: top;\n",
       "    }\n",
       "</style>\n",
       "<table border=\"1\" class=\"dataframe\">\n",
       "  <thead>\n",
       "    <tr style=\"text-align: right;\">\n",
       "      <th></th>\n",
       "      <th>member_id</th>\n",
       "      <th>country</th>\n",
       "      <th>joined</th>\n",
       "      <th>group_id</th>\n",
       "      <th>year</th>\n",
       "    </tr>\n",
       "  </thead>\n",
       "  <tbody>\n",
       "    <tr>\n",
       "      <th>0</th>\n",
       "      <td>3</td>\n",
       "      <td>us</td>\n",
       "      <td>2007-05-01 22:04:37</td>\n",
       "      <td>490552</td>\n",
       "      <td>2007</td>\n",
       "    </tr>\n",
       "    <tr>\n",
       "      <th>1</th>\n",
       "      <td>3</td>\n",
       "      <td>us</td>\n",
       "      <td>2011-01-23 14:13:17</td>\n",
       "      <td>1474611</td>\n",
       "      <td>2011</td>\n",
       "    </tr>\n",
       "    <tr>\n",
       "      <th>2</th>\n",
       "      <td>3</td>\n",
       "      <td>us</td>\n",
       "      <td>2010-12-30 18:47:34</td>\n",
       "      <td>1490492</td>\n",
       "      <td>2010</td>\n",
       "    </tr>\n",
       "    <tr>\n",
       "      <th>3</th>\n",
       "      <td>3</td>\n",
       "      <td>us</td>\n",
       "      <td>2011-01-03 14:45:21</td>\n",
       "      <td>1515830</td>\n",
       "      <td>2011</td>\n",
       "    </tr>\n",
       "    <tr>\n",
       "      <th>4</th>\n",
       "      <td>3</td>\n",
       "      <td>us</td>\n",
       "      <td>2010-12-30 18:34:50</td>\n",
       "      <td>1574965</td>\n",
       "      <td>2010</td>\n",
       "    </tr>\n",
       "  </tbody>\n",
       "</table>\n",
       "</div>"
      ],
      "text/plain": [
       "   member_id country              joined  group_id  year\n",
       "0          3      us 2007-05-01 22:04:37    490552  2007\n",
       "1          3      us 2011-01-23 14:13:17   1474611  2011\n",
       "2          3      us 2010-12-30 18:47:34   1490492  2010\n",
       "3          3      us 2011-01-03 14:45:21   1515830  2011\n",
       "4          3      us 2010-12-30 18:34:50   1574965  2010"
      ]
     },
     "execution_count": 20,
     "metadata": {},
     "output_type": "execute_result"
    }
   ],
   "source": [
    "member.head()"
   ]
  },
  {
   "cell_type": "markdown",
   "metadata": {},
   "source": [
    "Calculate the number of member for each group, then calculate the sum for each topic id:"
   ]
  },
  {
   "cell_type": "code",
   "execution_count": 21,
   "metadata": {
    "collapsed": true
   },
   "outputs": [],
   "source": [
    "member_count = member.groupby(['group_id', 'year']).size().reset_index()"
   ]
  },
  {
   "cell_type": "code",
   "execution_count": 22,
   "metadata": {
    "collapsed": true
   },
   "outputs": [],
   "source": [
    "member_count.columns = ['group_id', 'year','member_number']"
   ]
  },
  {
   "cell_type": "code",
   "execution_count": 23,
   "metadata": {
    "collapsed": true,
    "scrolled": true
   },
   "outputs": [],
   "source": [
    "member_group_count = member_count.groupby(by=['group_id','year']).sum().groupby(level=[0]).cumsum().reset_index()"
   ]
  },
  {
   "cell_type": "code",
   "execution_count": 24,
   "metadata": {
    "collapsed": true
   },
   "outputs": [],
   "source": [
    "member_count= pd.merge(data, member_group_count, on=['year', 'group_id'])"
   ]
  },
  {
   "cell_type": "code",
   "execution_count": 25,
   "metadata": {
    "collapsed": true,
    "scrolled": true
   },
   "outputs": [],
   "source": [
    "members = member_count[['topic_id', 'year','member_number']].groupby(['topic_id', 'year']).sum().groupby(level=[0]).cumsum().reset_index()"
   ]
  },
  {
   "cell_type": "code",
   "execution_count": 26,
   "metadata": {
    "collapsed": true
   },
   "outputs": [],
   "source": [
    "# pickle.dump(members, open('meetups-data-from-meetupcom/data/members_join_count.pkl', 'wb'))"
   ]
  },
  {
   "cell_type": "code",
   "execution_count": 27,
   "metadata": {
    "collapsed": true
   },
   "outputs": [],
   "source": [
    "member_year = members.pivot(index='year', columns='topic_id').fillna(method='ffill')"
   ]
  },
  {
   "cell_type": "code",
   "execution_count": 28,
   "metadata": {
    "collapsed": true
   },
   "outputs": [],
   "source": [
    "member_year = member_year.fillna(0)"
   ]
  },
  {
   "cell_type": "code",
   "execution_count": 29,
   "metadata": {
    "collapsed": true
   },
   "outputs": [],
   "source": [
    "member_year = member_year.stack().reset_index()"
   ]
  },
  {
   "cell_type": "code",
   "execution_count": 30,
   "metadata": {
    "scrolled": true
   },
   "outputs": [
    {
     "data": {
      "text/html": [
       "<div>\n",
       "<style>\n",
       "    .dataframe thead tr:only-child th {\n",
       "        text-align: right;\n",
       "    }\n",
       "\n",
       "    .dataframe thead th {\n",
       "        text-align: left;\n",
       "    }\n",
       "\n",
       "    .dataframe tbody tr th {\n",
       "        vertical-align: top;\n",
       "    }\n",
       "</style>\n",
       "<table border=\"1\" class=\"dataframe\">\n",
       "  <thead>\n",
       "    <tr style=\"text-align: right;\">\n",
       "      <th></th>\n",
       "      <th>year</th>\n",
       "      <th>topic_id</th>\n",
       "      <th>member_number</th>\n",
       "    </tr>\n",
       "  </thead>\n",
       "  <tbody>\n",
       "    <tr>\n",
       "      <th>4</th>\n",
       "      <td>2002</td>\n",
       "      <td>184</td>\n",
       "      <td>8.0</td>\n",
       "    </tr>\n",
       "    <tr>\n",
       "      <th>860</th>\n",
       "      <td>2003</td>\n",
       "      <td>184</td>\n",
       "      <td>8.0</td>\n",
       "    </tr>\n",
       "    <tr>\n",
       "      <th>1716</th>\n",
       "      <td>2004</td>\n",
       "      <td>184</td>\n",
       "      <td>8.0</td>\n",
       "    </tr>\n",
       "    <tr>\n",
       "      <th>2572</th>\n",
       "      <td>2005</td>\n",
       "      <td>184</td>\n",
       "      <td>14.0</td>\n",
       "    </tr>\n",
       "    <tr>\n",
       "      <th>3428</th>\n",
       "      <td>2006</td>\n",
       "      <td>184</td>\n",
       "      <td>14.0</td>\n",
       "    </tr>\n",
       "    <tr>\n",
       "      <th>4284</th>\n",
       "      <td>2007</td>\n",
       "      <td>184</td>\n",
       "      <td>143.0</td>\n",
       "    </tr>\n",
       "    <tr>\n",
       "      <th>5140</th>\n",
       "      <td>2008</td>\n",
       "      <td>184</td>\n",
       "      <td>143.0</td>\n",
       "    </tr>\n",
       "    <tr>\n",
       "      <th>5996</th>\n",
       "      <td>2009</td>\n",
       "      <td>184</td>\n",
       "      <td>143.0</td>\n",
       "    </tr>\n",
       "    <tr>\n",
       "      <th>6852</th>\n",
       "      <td>2010</td>\n",
       "      <td>184</td>\n",
       "      <td>539.0</td>\n",
       "    </tr>\n",
       "    <tr>\n",
       "      <th>7708</th>\n",
       "      <td>2011</td>\n",
       "      <td>184</td>\n",
       "      <td>621.0</td>\n",
       "    </tr>\n",
       "    <tr>\n",
       "      <th>8564</th>\n",
       "      <td>2012</td>\n",
       "      <td>184</td>\n",
       "      <td>1756.0</td>\n",
       "    </tr>\n",
       "    <tr>\n",
       "      <th>9420</th>\n",
       "      <td>2013</td>\n",
       "      <td>184</td>\n",
       "      <td>2153.0</td>\n",
       "    </tr>\n",
       "    <tr>\n",
       "      <th>10276</th>\n",
       "      <td>2014</td>\n",
       "      <td>184</td>\n",
       "      <td>2467.0</td>\n",
       "    </tr>\n",
       "    <tr>\n",
       "      <th>11132</th>\n",
       "      <td>2015</td>\n",
       "      <td>184</td>\n",
       "      <td>3303.0</td>\n",
       "    </tr>\n",
       "    <tr>\n",
       "      <th>11988</th>\n",
       "      <td>2016</td>\n",
       "      <td>184</td>\n",
       "      <td>3931.0</td>\n",
       "    </tr>\n",
       "    <tr>\n",
       "      <th>12844</th>\n",
       "      <td>2017</td>\n",
       "      <td>184</td>\n",
       "      <td>4890.0</td>\n",
       "    </tr>\n",
       "  </tbody>\n",
       "</table>\n",
       "</div>"
      ],
      "text/plain": [
       "       year  topic_id  member_number\n",
       "4      2002       184            8.0\n",
       "860    2003       184            8.0\n",
       "1716   2004       184            8.0\n",
       "2572   2005       184           14.0\n",
       "3428   2006       184           14.0\n",
       "4284   2007       184          143.0\n",
       "5140   2008       184          143.0\n",
       "5996   2009       184          143.0\n",
       "6852   2010       184          539.0\n",
       "7708   2011       184          621.0\n",
       "8564   2012       184         1756.0\n",
       "9420   2013       184         2153.0\n",
       "10276  2014       184         2467.0\n",
       "11132  2015       184         3303.0\n",
       "11988  2016       184         3931.0\n",
       "12844  2017       184         4890.0"
      ]
     },
     "execution_count": 30,
     "metadata": {},
     "output_type": "execute_result"
    }
   ],
   "source": [
    "member_year[member_year.topic_id==184]"
   ]
  },
  {
   "cell_type": "code",
   "execution_count": 31,
   "metadata": {
    "collapsed": true
   },
   "outputs": [],
   "source": [
    "# pickle.dump(member_year, open('meetups-data-from-meetupcom/data/topic_member_year_filled.pkl', 'wb'))"
   ]
  },
  {
   "cell_type": "markdown",
   "metadata": {},
   "source": [
    "# Prepare events data:"
   ]
  },
  {
   "cell_type": "code",
   "execution_count": 32,
   "metadata": {},
   "outputs": [],
   "source": [
    "event = pd.read_csv('events.csv')\n",
    "groups_topic = pd.read_csv('groups_topics.csv',encoding = \"latin\")"
   ]
  },
  {
   "cell_type": "markdown",
   "metadata": {},
   "source": [
    "Join event and group topic on group id:"
   ]
  },
  {
   "cell_type": "code",
   "execution_count": 33,
   "metadata": {},
   "outputs": [],
   "source": [
    "merged = pd.merge(event,groups_topic,how='left',on='group_id')\n",
    "\n",
    "merged['created']=pd.to_datetime(merged['created'])\n",
    "\n",
    "merged['created.yr']=merged['created'].dt.year"
   ]
  },
  {
   "cell_type": "markdown",
   "metadata": {},
   "source": [
    "Get event_count for every topic_id in every year and cross join all year:"
   ]
  },
  {
   "cell_type": "code",
   "execution_count": 34,
   "metadata": {
    "collapsed": true
   },
   "outputs": [],
   "source": [
    "event_count = pd.DataFrame(pd.DataFrame(merged.groupby(['created.yr', 'topic_id'])['event_id'].count()).to_records())"
   ]
  },
  {
   "cell_type": "code",
   "execution_count": 35,
   "metadata": {
    "collapsed": true
   },
   "outputs": [],
   "source": [
    "l1 = event_count['created.yr'].unique()"
   ]
  },
  {
   "cell_type": "code",
   "execution_count": 36,
   "metadata": {
    "collapsed": true
   },
   "outputs": [],
   "source": [
    "l2 = event_count['topic_id'].unique()"
   ]
  },
  {
   "cell_type": "code",
   "execution_count": 37,
   "metadata": {},
   "outputs": [],
   "source": [
    "crossjoin = pd.DataFrame(list(product(l1, l2)), columns=['created.yr', 'topic_id'])"
   ]
  },
  {
   "cell_type": "code",
   "execution_count": 38,
   "metadata": {},
   "outputs": [],
   "source": [
    "crossjoin_event_count = pd.merge(crossjoin, event_count, how='left', on=['created.yr', 'topic_id'])\n",
    "crossjoin_event_count = crossjoin_event_count.fillna(0)"
   ]
  },
  {
   "cell_type": "code",
   "execution_count": 39,
   "metadata": {
    "scrolled": true
   },
   "outputs": [
    {
     "data": {
      "text/html": [
       "<div>\n",
       "<style>\n",
       "    .dataframe thead tr:only-child th {\n",
       "        text-align: right;\n",
       "    }\n",
       "\n",
       "    .dataframe thead th {\n",
       "        text-align: left;\n",
       "    }\n",
       "\n",
       "    .dataframe tbody tr th {\n",
       "        vertical-align: top;\n",
       "    }\n",
       "</style>\n",
       "<table border=\"1\" class=\"dataframe\">\n",
       "  <thead>\n",
       "    <tr style=\"text-align: right;\">\n",
       "      <th></th>\n",
       "      <th>created.yr</th>\n",
       "      <th>topic_id</th>\n",
       "      <th>event_id</th>\n",
       "    </tr>\n",
       "  </thead>\n",
       "  <tbody>\n",
       "    <tr>\n",
       "      <th>0</th>\n",
       "      <td>2010</td>\n",
       "      <td>15405.0</td>\n",
       "      <td>12.0</td>\n",
       "    </tr>\n",
       "    <tr>\n",
       "      <th>1</th>\n",
       "      <td>2010</td>\n",
       "      <td>15720.0</td>\n",
       "      <td>12.0</td>\n",
       "    </tr>\n",
       "    <tr>\n",
       "      <th>2</th>\n",
       "      <td>2010</td>\n",
       "      <td>20301.0</td>\n",
       "      <td>12.0</td>\n",
       "    </tr>\n",
       "    <tr>\n",
       "      <th>3</th>\n",
       "      <td>2010</td>\n",
       "      <td>15401.0</td>\n",
       "      <td>0.0</td>\n",
       "    </tr>\n",
       "    <tr>\n",
       "      <th>4</th>\n",
       "      <td>2010</td>\n",
       "      <td>22203.0</td>\n",
       "      <td>0.0</td>\n",
       "    </tr>\n",
       "  </tbody>\n",
       "</table>\n",
       "</div>"
      ],
      "text/plain": [
       "   created.yr  topic_id  event_id\n",
       "0        2010   15405.0      12.0\n",
       "1        2010   15720.0      12.0\n",
       "2        2010   20301.0      12.0\n",
       "3        2010   15401.0       0.0\n",
       "4        2010   22203.0       0.0"
      ]
     },
     "execution_count": 39,
     "metadata": {},
     "output_type": "execute_result"
    }
   ],
   "source": [
    "crossjoin_event_count.head()"
   ]
  },
  {
   "cell_type": "code",
   "execution_count": 40,
   "metadata": {
    "collapsed": true
   },
   "outputs": [],
   "source": [
    "events_year = pd.DataFrame(crossjoin_event_count.groupby(['created.yr','topic_id']).sum().groupby(level=[1]).cumsum().to_records())"
   ]
  },
  {
   "cell_type": "code",
   "execution_count": 41,
   "metadata": {
    "collapsed": true
   },
   "outputs": [],
   "source": [
    "events_year['topic_id'] = events_year['topic_id'].astype(str)\n",
    "events_year['topic_id'] = events_year['topic_id'].str.replace('.0','')"
   ]
  },
  {
   "cell_type": "code",
   "execution_count": 42,
   "metadata": {},
   "outputs": [],
   "source": [
    "events_year.columns = ['year', 'topic_id', 'event_count']\n",
    "events_year['year'] = events_year.year.astype(int)\n",
    "events_year['topic_id'] = events_year.topic_id.astype(int)"
   ]
  },
  {
   "cell_type": "markdown",
   "metadata": {},
   "source": [
    "Merge everything and get final dataset:"
   ]
  },
  {
   "cell_type": "code",
   "execution_count": 43,
   "metadata": {},
   "outputs": [],
   "source": [
    "final = pd.merge(events_year, group_count, on=['topic_id', 'year'])"
   ]
  },
  {
   "cell_type": "code",
   "execution_count": 45,
   "metadata": {
    "scrolled": true
   },
   "outputs": [],
   "source": [
    "topic = pd.read_csv('topics.csv', encoding='latin')\n",
    "final = pd.merge(final, topic[['topic_id', 'main_topic_id']], on='topic_id')"
   ]
  },
  {
   "cell_type": "code",
   "execution_count": 47,
   "metadata": {
    "collapsed": true
   },
   "outputs": [],
   "source": [
    "final = pd.merge(final, member_year, on=['topic_id', 'year'])"
   ]
  },
  {
   "cell_type": "code",
   "execution_count": 48,
   "metadata": {},
   "outputs": [
    {
     "data": {
      "text/html": [
       "<div>\n",
       "<style>\n",
       "    .dataframe thead tr:only-child th {\n",
       "        text-align: right;\n",
       "    }\n",
       "\n",
       "    .dataframe thead th {\n",
       "        text-align: left;\n",
       "    }\n",
       "\n",
       "    .dataframe tbody tr th {\n",
       "        vertical-align: top;\n",
       "    }\n",
       "</style>\n",
       "<table border=\"1\" class=\"dataframe\">\n",
       "  <thead>\n",
       "    <tr style=\"text-align: right;\">\n",
       "      <th></th>\n",
       "      <th>year</th>\n",
       "      <th>topic_id</th>\n",
       "      <th>event_count</th>\n",
       "      <th>number_of_join</th>\n",
       "      <th>main_topic_id</th>\n",
       "      <th>member_number</th>\n",
       "    </tr>\n",
       "  </thead>\n",
       "  <tbody>\n",
       "    <tr>\n",
       "      <th>0</th>\n",
       "      <td>2010</td>\n",
       "      <td>183</td>\n",
       "      <td>0.0</td>\n",
       "      <td>23.0</td>\n",
       "      <td>10454</td>\n",
       "      <td>596.0</td>\n",
       "    </tr>\n",
       "    <tr>\n",
       "      <th>1</th>\n",
       "      <td>2011</td>\n",
       "      <td>183</td>\n",
       "      <td>0.0</td>\n",
       "      <td>24.0</td>\n",
       "      <td>10454</td>\n",
       "      <td>596.0</td>\n",
       "    </tr>\n",
       "    <tr>\n",
       "      <th>2</th>\n",
       "      <td>2012</td>\n",
       "      <td>183</td>\n",
       "      <td>0.0</td>\n",
       "      <td>34.0</td>\n",
       "      <td>10454</td>\n",
       "      <td>1852.0</td>\n",
       "    </tr>\n",
       "    <tr>\n",
       "      <th>3</th>\n",
       "      <td>2013</td>\n",
       "      <td>183</td>\n",
       "      <td>0.0</td>\n",
       "      <td>40.0</td>\n",
       "      <td>10454</td>\n",
       "      <td>2310.0</td>\n",
       "    </tr>\n",
       "    <tr>\n",
       "      <th>4</th>\n",
       "      <td>2014</td>\n",
       "      <td>183</td>\n",
       "      <td>0.0</td>\n",
       "      <td>49.0</td>\n",
       "      <td>10454</td>\n",
       "      <td>2760.0</td>\n",
       "    </tr>\n",
       "  </tbody>\n",
       "</table>\n",
       "</div>"
      ],
      "text/plain": [
       "   year  topic_id  event_count  number_of_join  main_topic_id  member_number\n",
       "0  2010       183          0.0            23.0          10454          596.0\n",
       "1  2011       183          0.0            24.0          10454          596.0\n",
       "2  2012       183          0.0            34.0          10454         1852.0\n",
       "3  2013       183          0.0            40.0          10454         2310.0\n",
       "4  2014       183          0.0            49.0          10454         2760.0"
      ]
     },
     "execution_count": 48,
     "metadata": {},
     "output_type": "execute_result"
    }
   ],
   "source": [
    "final.head()"
   ]
  },
  {
   "cell_type": "code",
   "execution_count": 49,
   "metadata": {
    "collapsed": true
   },
   "outputs": [],
   "source": [
    "dataset = final.copy(deep=True)"
   ]
  },
  {
   "cell_type": "code",
   "execution_count": 50,
   "metadata": {},
   "outputs": [],
   "source": [
    "topic = topic[['topic_id', 'topic_name']]\n",
    "\n",
    "dataset = pd.merge(dataset, topic, on=['topic_id'])"
   ]
  },
  {
   "cell_type": "code",
   "execution_count": 51,
   "metadata": {},
   "outputs": [
    {
     "data": {
      "text/html": [
       "<div>\n",
       "<style>\n",
       "    .dataframe thead tr:only-child th {\n",
       "        text-align: right;\n",
       "    }\n",
       "\n",
       "    .dataframe thead th {\n",
       "        text-align: left;\n",
       "    }\n",
       "\n",
       "    .dataframe tbody tr th {\n",
       "        vertical-align: top;\n",
       "    }\n",
       "</style>\n",
       "<table border=\"1\" class=\"dataframe\">\n",
       "  <thead>\n",
       "    <tr style=\"text-align: right;\">\n",
       "      <th></th>\n",
       "      <th>year</th>\n",
       "      <th>topic_id</th>\n",
       "      <th>event_count</th>\n",
       "      <th>number_of_join</th>\n",
       "      <th>main_topic_id</th>\n",
       "      <th>member_number</th>\n",
       "      <th>topic_name</th>\n",
       "    </tr>\n",
       "  </thead>\n",
       "  <tbody>\n",
       "    <tr>\n",
       "      <th>0</th>\n",
       "      <td>2010</td>\n",
       "      <td>183</td>\n",
       "      <td>0.0</td>\n",
       "      <td>23.0</td>\n",
       "      <td>10454</td>\n",
       "      <td>596.0</td>\n",
       "      <td>Spanish Language</td>\n",
       "    </tr>\n",
       "    <tr>\n",
       "      <th>1</th>\n",
       "      <td>2011</td>\n",
       "      <td>183</td>\n",
       "      <td>0.0</td>\n",
       "      <td>24.0</td>\n",
       "      <td>10454</td>\n",
       "      <td>596.0</td>\n",
       "      <td>Spanish Language</td>\n",
       "    </tr>\n",
       "    <tr>\n",
       "      <th>2</th>\n",
       "      <td>2012</td>\n",
       "      <td>183</td>\n",
       "      <td>0.0</td>\n",
       "      <td>34.0</td>\n",
       "      <td>10454</td>\n",
       "      <td>1852.0</td>\n",
       "      <td>Spanish Language</td>\n",
       "    </tr>\n",
       "    <tr>\n",
       "      <th>3</th>\n",
       "      <td>2013</td>\n",
       "      <td>183</td>\n",
       "      <td>0.0</td>\n",
       "      <td>40.0</td>\n",
       "      <td>10454</td>\n",
       "      <td>2310.0</td>\n",
       "      <td>Spanish Language</td>\n",
       "    </tr>\n",
       "    <tr>\n",
       "      <th>4</th>\n",
       "      <td>2014</td>\n",
       "      <td>183</td>\n",
       "      <td>0.0</td>\n",
       "      <td>49.0</td>\n",
       "      <td>10454</td>\n",
       "      <td>2760.0</td>\n",
       "      <td>Spanish Language</td>\n",
       "    </tr>\n",
       "  </tbody>\n",
       "</table>\n",
       "</div>"
      ],
      "text/plain": [
       "   year  topic_id  event_count  number_of_join  main_topic_id  member_number  \\\n",
       "0  2010       183          0.0            23.0          10454          596.0   \n",
       "1  2011       183          0.0            24.0          10454          596.0   \n",
       "2  2012       183          0.0            34.0          10454         1852.0   \n",
       "3  2013       183          0.0            40.0          10454         2310.0   \n",
       "4  2014       183          0.0            49.0          10454         2760.0   \n",
       "\n",
       "         topic_name  \n",
       "0  Spanish Language  \n",
       "1  Spanish Language  \n",
       "2  Spanish Language  \n",
       "3  Spanish Language  \n",
       "4  Spanish Language  "
      ]
     },
     "execution_count": 51,
     "metadata": {},
     "output_type": "execute_result"
    }
   ],
   "source": [
    "dataset.head()"
   ]
  },
  {
   "cell_type": "code",
   "execution_count": 52,
   "metadata": {},
   "outputs": [
    {
     "name": "stdout",
     "output_type": "stream",
     "text": [
      "10454\n",
      "['Spanish Language' 'French Language' 'Italian Language'\n",
      " 'Cultural Diversity' 'Cultural Activities' 'Japanese Language'\n",
      " 'English Language' 'Mandarin Language' 'Culture Exchange' 'Latino Culture'\n",
      " 'Chinese language' 'European Culture']\n",
      "223\n",
      "['Photography' 'Model Photography' 'Fashion Photography'\n",
      " 'Photography Business']\n",
      "15992\n",
      "['Game Development' 'Games' 'Game Design' 'Improv games'\n",
      " 'Storytelling Games']\n",
      "19227\n",
      "['Wine' 'Food and Drink']\n",
      "10581\n",
      "['Corporate Social Responsibility' 'Social Networking' 'Social Enterprise'\n",
      " 'Social Media Marketing' \"20's Social\" 'Social Justice'\n",
      " 'Social Entrepreneurship' 'Social, Social, Social' 'Social Marketing']\n",
      "1924\n",
      "['Fashion Industry' 'Fashion and Style' 'Restaurant Industry'\n",
      " 'Fashion Entrepreneurs' 'Fashion Design' 'Clothing and Fashion Designers'\n",
      " 'Theater Industry']\n",
      "15018\n",
      "['Musicals' 'Music Production']\n",
      "8476\n",
      "['Education' 'Financial Education' 'Real Estate Investment Education'\n",
      " 'Higher Education' 'Business Education' 'Trader Education'\n",
      " 'Investment Education']\n",
      "9696\n",
      "['New Technology' 'Mobile Technology' 'Technology Innovation']\n",
      "15321\n",
      "['Literature' 'Modern literature' 'Comparative Literature'\n",
      " 'African American Literature' 'Classic literature']\n",
      "16728\n",
      "['Creative Writing' 'Writing' 'Writing Workshops' 'Journal Writing'\n",
      " 'Acting and Writing']\n",
      "1502\n",
      "['Fine Arts' 'Performing Arts' 'Art Exhibit' 'Digital Art' 'Art History'\n",
      " 'Art Walks and Tours' 'Art Museums' 'Art and Culture'\n",
      " 'Art Creating Art and Perfecting Our Art' 'Arts and Social Arts'\n",
      " 'Art Classes' 'Ceramic Arts']\n",
      "10099\n",
      "['Handmade Crafts']\n",
      "491\n",
      "['Dancing' 'Dance Lessons']\n",
      "10050\n",
      "['LGBT Social Group' 'Friends & Supporters of LGBT/GLBT']\n",
      "15236\n",
      "[\"Women's Business Networking\" \"Women's Networking\" 'B2B Networking'\n",
      " 'Networking with HR Professionals'\n",
      " 'Business Networking International (BNI)' 'Women Business Networking'\n",
      " 'Professional Networking for Actors']\n",
      "10451\n",
      "['Sport Bikes']\n",
      "1201\n",
      "['Book Club, Movies']\n"
     ]
    }
   ],
   "source": [
    "for i in dataset.main_topic_id.unique():\n",
    "    print(i)\n",
    "    print(dataset[dataset.main_topic_id==i]['topic_name'].unique())"
   ]
  },
  {
   "cell_type": "code",
   "execution_count": 53,
   "metadata": {
    "collapsed": true
   },
   "outputs": [],
   "source": [
    "def main_topic(x):\n",
    "    if x == 10454:\n",
    "        return 'Language & Ethnic Identity'\n",
    "    elif x == 223:\n",
    "        return 'Photography'\n",
    "    elif x == 1502:\n",
    "        return 'Art & Culture'\n",
    "    elif x == 1924:\n",
    "        return 'Fashion & Beauty'\n",
    "    elif x == 15992:\n",
    "        return 'Games'\n",
    "    elif x == 19227:\n",
    "        return 'Food & Drink'\n",
    "    elif x == 10581:\n",
    "        return 'Socializing'\n",
    "    elif x == 8476:\n",
    "        return 'Education & Learning'\n",
    "    elif x == 9696:\n",
    "        return 'Tech'\n",
    "    elif x == 15321:\n",
    "        return 'Literature'\n",
    "    elif x == 16728:\n",
    "        return 'Writing'\n",
    "    elif x == 10099:\n",
    "        return 'Hobbies & Crafts'\n",
    "    elif x == 491:\n",
    "        return 'Dancing'\n",
    "    elif x == 10050:\n",
    "        return 'LGBT'\n",
    "    elif x == 15236:\n",
    "        return 'Socializing'\n",
    "    elif x == 1201:\n",
    "        return 'Book Club'\n",
    "    elif x == 10451:\n",
    "        return 'Sports & Recreation'"
   ]
  },
  {
   "cell_type": "code",
   "execution_count": 54,
   "metadata": {},
   "outputs": [],
   "source": [
    "dataset['main_topic'] = dataset['main_topic_id'].apply(main_topic)"
   ]
  },
  {
   "cell_type": "code",
   "execution_count": 55,
   "metadata": {},
   "outputs": [
    {
     "data": {
      "text/html": [
       "<div>\n",
       "<style>\n",
       "    .dataframe thead tr:only-child th {\n",
       "        text-align: right;\n",
       "    }\n",
       "\n",
       "    .dataframe thead th {\n",
       "        text-align: left;\n",
       "    }\n",
       "\n",
       "    .dataframe tbody tr th {\n",
       "        vertical-align: top;\n",
       "    }\n",
       "</style>\n",
       "<table border=\"1\" class=\"dataframe\">\n",
       "  <thead>\n",
       "    <tr style=\"text-align: right;\">\n",
       "      <th></th>\n",
       "      <th>year</th>\n",
       "      <th>topic_id</th>\n",
       "      <th>event_count</th>\n",
       "      <th>number_of_join</th>\n",
       "      <th>main_topic_id</th>\n",
       "      <th>member_number</th>\n",
       "      <th>topic_name</th>\n",
       "      <th>main_topic</th>\n",
       "    </tr>\n",
       "  </thead>\n",
       "  <tbody>\n",
       "    <tr>\n",
       "      <th>0</th>\n",
       "      <td>2010</td>\n",
       "      <td>183</td>\n",
       "      <td>0.0</td>\n",
       "      <td>23.0</td>\n",
       "      <td>10454</td>\n",
       "      <td>596.0</td>\n",
       "      <td>Spanish Language</td>\n",
       "      <td>Language &amp; Ethnic Identity</td>\n",
       "    </tr>\n",
       "    <tr>\n",
       "      <th>1</th>\n",
       "      <td>2011</td>\n",
       "      <td>183</td>\n",
       "      <td>0.0</td>\n",
       "      <td>24.0</td>\n",
       "      <td>10454</td>\n",
       "      <td>596.0</td>\n",
       "      <td>Spanish Language</td>\n",
       "      <td>Language &amp; Ethnic Identity</td>\n",
       "    </tr>\n",
       "    <tr>\n",
       "      <th>2</th>\n",
       "      <td>2012</td>\n",
       "      <td>183</td>\n",
       "      <td>0.0</td>\n",
       "      <td>34.0</td>\n",
       "      <td>10454</td>\n",
       "      <td>1852.0</td>\n",
       "      <td>Spanish Language</td>\n",
       "      <td>Language &amp; Ethnic Identity</td>\n",
       "    </tr>\n",
       "    <tr>\n",
       "      <th>3</th>\n",
       "      <td>2013</td>\n",
       "      <td>183</td>\n",
       "      <td>0.0</td>\n",
       "      <td>40.0</td>\n",
       "      <td>10454</td>\n",
       "      <td>2310.0</td>\n",
       "      <td>Spanish Language</td>\n",
       "      <td>Language &amp; Ethnic Identity</td>\n",
       "    </tr>\n",
       "    <tr>\n",
       "      <th>4</th>\n",
       "      <td>2014</td>\n",
       "      <td>183</td>\n",
       "      <td>0.0</td>\n",
       "      <td>49.0</td>\n",
       "      <td>10454</td>\n",
       "      <td>2760.0</td>\n",
       "      <td>Spanish Language</td>\n",
       "      <td>Language &amp; Ethnic Identity</td>\n",
       "    </tr>\n",
       "  </tbody>\n",
       "</table>\n",
       "</div>"
      ],
      "text/plain": [
       "   year  topic_id  event_count  number_of_join  main_topic_id  member_number  \\\n",
       "0  2010       183          0.0            23.0          10454          596.0   \n",
       "1  2011       183          0.0            24.0          10454          596.0   \n",
       "2  2012       183          0.0            34.0          10454         1852.0   \n",
       "3  2013       183          0.0            40.0          10454         2310.0   \n",
       "4  2014       183          0.0            49.0          10454         2760.0   \n",
       "\n",
       "         topic_name                  main_topic  \n",
       "0  Spanish Language  Language & Ethnic Identity  \n",
       "1  Spanish Language  Language & Ethnic Identity  \n",
       "2  Spanish Language  Language & Ethnic Identity  \n",
       "3  Spanish Language  Language & Ethnic Identity  \n",
       "4  Spanish Language  Language & Ethnic Identity  "
      ]
     },
     "execution_count": 55,
     "metadata": {},
     "output_type": "execute_result"
    }
   ],
   "source": [
    "dataset.head()"
   ]
  },
  {
   "cell_type": "code",
   "execution_count": 56,
   "metadata": {},
   "outputs": [
    {
     "data": {
      "text/html": [
       "<div>\n",
       "<style>\n",
       "    .dataframe thead tr:only-child th {\n",
       "        text-align: right;\n",
       "    }\n",
       "\n",
       "    .dataframe thead th {\n",
       "        text-align: left;\n",
       "    }\n",
       "\n",
       "    .dataframe tbody tr th {\n",
       "        vertical-align: top;\n",
       "    }\n",
       "</style>\n",
       "<table border=\"1\" class=\"dataframe\">\n",
       "  <thead>\n",
       "    <tr style=\"text-align: right;\">\n",
       "      <th></th>\n",
       "      <th>year</th>\n",
       "      <th>topic_id</th>\n",
       "      <th>event_count</th>\n",
       "      <th>number_of_join</th>\n",
       "      <th>main_topic_id</th>\n",
       "      <th>member_number</th>\n",
       "      <th>topic_name</th>\n",
       "      <th>main_topic</th>\n",
       "    </tr>\n",
       "  </thead>\n",
       "  <tbody>\n",
       "    <tr>\n",
       "      <th>54</th>\n",
       "      <td>2010</td>\n",
       "      <td>4422</td>\n",
       "      <td>0.0</td>\n",
       "      <td>487.0</td>\n",
       "      <td>10581</td>\n",
       "      <td>14164.0</td>\n",
       "      <td>Social Networking</td>\n",
       "      <td>Socializing</td>\n",
       "    </tr>\n",
       "    <tr>\n",
       "      <th>55</th>\n",
       "      <td>2011</td>\n",
       "      <td>4422</td>\n",
       "      <td>0.0</td>\n",
       "      <td>612.0</td>\n",
       "      <td>10581</td>\n",
       "      <td>19343.0</td>\n",
       "      <td>Social Networking</td>\n",
       "      <td>Socializing</td>\n",
       "    </tr>\n",
       "    <tr>\n",
       "      <th>56</th>\n",
       "      <td>2012</td>\n",
       "      <td>4422</td>\n",
       "      <td>112.0</td>\n",
       "      <td>721.0</td>\n",
       "      <td>10581</td>\n",
       "      <td>25805.0</td>\n",
       "      <td>Social Networking</td>\n",
       "      <td>Socializing</td>\n",
       "    </tr>\n",
       "    <tr>\n",
       "      <th>57</th>\n",
       "      <td>2013</td>\n",
       "      <td>4422</td>\n",
       "      <td>112.0</td>\n",
       "      <td>783.0</td>\n",
       "      <td>10581</td>\n",
       "      <td>30240.0</td>\n",
       "      <td>Social Networking</td>\n",
       "      <td>Socializing</td>\n",
       "    </tr>\n",
       "    <tr>\n",
       "      <th>58</th>\n",
       "      <td>2014</td>\n",
       "      <td>4422</td>\n",
       "      <td>126.0</td>\n",
       "      <td>936.0</td>\n",
       "      <td>10581</td>\n",
       "      <td>40181.0</td>\n",
       "      <td>Social Networking</td>\n",
       "      <td>Socializing</td>\n",
       "    </tr>\n",
       "    <tr>\n",
       "      <th>59</th>\n",
       "      <td>2015</td>\n",
       "      <td>4422</td>\n",
       "      <td>151.0</td>\n",
       "      <td>1144.0</td>\n",
       "      <td>10581</td>\n",
       "      <td>73835.0</td>\n",
       "      <td>Social Networking</td>\n",
       "      <td>Socializing</td>\n",
       "    </tr>\n",
       "    <tr>\n",
       "      <th>60</th>\n",
       "      <td>2016</td>\n",
       "      <td>4422</td>\n",
       "      <td>361.0</td>\n",
       "      <td>1376.0</td>\n",
       "      <td>10581</td>\n",
       "      <td>113586.0</td>\n",
       "      <td>Social Networking</td>\n",
       "      <td>Socializing</td>\n",
       "    </tr>\n",
       "    <tr>\n",
       "      <th>61</th>\n",
       "      <td>2017</td>\n",
       "      <td>4422</td>\n",
       "      <td>702.0</td>\n",
       "      <td>1848.0</td>\n",
       "      <td>10581</td>\n",
       "      <td>152158.0</td>\n",
       "      <td>Social Networking</td>\n",
       "      <td>Socializing</td>\n",
       "    </tr>\n",
       "  </tbody>\n",
       "</table>\n",
       "</div>"
      ],
      "text/plain": [
       "    year  topic_id  event_count  number_of_join  main_topic_id  member_number  \\\n",
       "54  2010      4422          0.0           487.0          10581        14164.0   \n",
       "55  2011      4422          0.0           612.0          10581        19343.0   \n",
       "56  2012      4422        112.0           721.0          10581        25805.0   \n",
       "57  2013      4422        112.0           783.0          10581        30240.0   \n",
       "58  2014      4422        126.0           936.0          10581        40181.0   \n",
       "59  2015      4422        151.0          1144.0          10581        73835.0   \n",
       "60  2016      4422        361.0          1376.0          10581       113586.0   \n",
       "61  2017      4422        702.0          1848.0          10581       152158.0   \n",
       "\n",
       "           topic_name   main_topic  \n",
       "54  Social Networking  Socializing  \n",
       "55  Social Networking  Socializing  \n",
       "56  Social Networking  Socializing  \n",
       "57  Social Networking  Socializing  \n",
       "58  Social Networking  Socializing  \n",
       "59  Social Networking  Socializing  \n",
       "60  Social Networking  Socializing  \n",
       "61  Social Networking  Socializing  "
      ]
     },
     "execution_count": 56,
     "metadata": {},
     "output_type": "execute_result"
    }
   ],
   "source": [
    "dataset[dataset.topic_name=='Social Networking']"
   ]
  },
  {
   "cell_type": "markdown",
   "metadata": {},
   "source": [
    "# Ploting"
   ]
  },
  {
   "cell_type": "code",
   "execution_count": 57,
   "metadata": {},
   "outputs": [
    {
     "data": {
      "application/vnd.plotly.v1+json": {
       "data": [
        {
         "marker": {
          "size": [
           23,
           23,
           11,
           3,
           4,
           17,
           8,
           7,
           24,
           14,
           23
          ],
          "sizemode": "area",
          "sizeref": 5
         },
         "mode": "markers",
         "name": "Language & Ethnic Identity",
         "text": [
          "Spanish Language",
          "French Language",
          "Italian Language",
          "Cultural Diversity",
          "Cultural Activities",
          "Japanese Language",
          "English Language",
          "Mandarin Language",
          "Culture Exchange",
          "Latino Culture",
          "Chinese language"
         ],
         "x": [
          596,
          709,
          539,
          21,
          24,
          467,
          451,
          116,
          891,
          200,
          359
         ],
         "y": [
          0,
          0,
          0,
          0,
          0,
          0,
          0,
          0,
          0,
          0,
          0
         ]
        },
        {
         "marker": {
          "size": [
           54,
           54,
           8,
           11
          ],
          "sizemode": "area",
          "sizeref": 5
         },
         "mode": "markers",
         "name": "Photography",
         "text": [
          "Photography",
          "Photography",
          "Model Photography",
          "Fashion Photography"
         ],
         "x": [
          1759,
          1759,
          201,
          248
         ],
         "y": [
          0,
          0,
          0,
          0
         ]
        },
        {
         "marker": {
          "size": [
           12,
           10,
           7
          ],
          "sizemode": "area",
          "sizeref": 5
         },
         "mode": "markers",
         "name": "Games",
         "text": [
          "Game Development",
          "Games",
          "Game Design"
         ],
         "x": [
          481,
          243,
          322
         ],
         "y": [
          0,
          0,
          0
         ]
        },
        {
         "marker": {
          "size": [
           85
          ],
          "sizemode": "area",
          "sizeref": 5
         },
         "mode": "markers",
         "name": "Food & Drink",
         "text": [
          "Wine"
         ],
         "x": [
          2712
         ],
         "y": [
          0
         ]
        },
        {
         "marker": {
          "size": [
           3,
           487,
           5,
           56,
           5,
           7,
           13,
           14,
           6,
           3
          ],
          "sizemode": "area",
          "sizeref": 5
         },
         "mode": "markers",
         "name": "Socializing",
         "text": [
          "Corporate Social Responsibility",
          "Social Networking",
          "Social Enterprise",
          "Social Media Marketing",
          "20's Social",
          "Social Justice",
          "Women's Business Networking",
          "Social Entrepreneurship",
          "Women's Networking",
          "B2B Networking"
         ],
         "x": [
          77,
          14164,
          189,
          1941,
          37,
          115,
          202,
          391,
          125,
          61
         ],
         "y": [
          0,
          0,
          0,
          0,
          0,
          0,
          0,
          0,
          0,
          0
         ]
        },
        {
         "marker": {
          "size": [
           26,
           23,
           2,
           8,
           13,
           4
          ],
          "sizemode": "area",
          "sizeref": 5
         },
         "mode": "markers",
         "name": "Fashion & Beauty",
         "text": [
          "Fashion Industry",
          "Fashion and Style",
          "Restaurant Industry",
          "Fashion Entrepreneurs",
          "Fashion Design",
          "Clothing and Fashion Designers"
         ],
         "x": [
          920,
          854,
          40,
          261,
          379,
          194
         ],
         "y": [
          0,
          0,
          0,
          0,
          0,
          0
         ]
        },
        {
         "marker": {
          "size": [],
          "sizemode": "area",
          "sizeref": 5
         },
         "mode": "markers",
         "name": null,
         "text": [],
         "x": [],
         "y": []
        },
        {
         "marker": {
          "size": [
           13,
           7,
           8,
           1,
           2
          ],
          "sizemode": "area",
          "sizeref": 5
         },
         "mode": "markers",
         "name": "Education & Learning",
         "text": [
          "Education",
          "Financial Education",
          "Real Estate Investment Education",
          "Higher Education",
          "Business Education"
         ],
         "x": [
          154,
          41,
          35,
          68,
          103
         ],
         "y": [
          0,
          0,
          0,
          0,
          0
         ]
        },
        {
         "marker": {
          "size": [
           113,
           41
          ],
          "sizemode": "area",
          "sizeref": 5
         },
         "mode": "markers",
         "name": "Tech",
         "text": [
          "New Technology",
          "Mobile Technology"
         ],
         "x": [
          5334,
          2670
         ],
         "y": [
          0,
          0
         ]
        },
        {
         "marker": {
          "size": [
           18,
           1
          ],
          "sizemode": "area",
          "sizeref": 5
         },
         "mode": "markers",
         "name": "Literature",
         "text": [
          "Literature",
          "Modern literature"
         ],
         "x": [
          207,
          21
         ],
         "y": [
          0,
          0
         ]
        },
        {
         "marker": {
          "size": [
           16,
           74,
           4
          ],
          "sizemode": "area",
          "sizeref": 5
         },
         "mode": "markers",
         "name": "Writing",
         "text": [
          "Creative Writing",
          "Writing",
          "Writing Workshops"
         ],
         "x": [
          299,
          1481,
          66
         ],
         "y": [
          0,
          0,
          0
         ]
        },
        {
         "marker": {
          "size": [
           5,
           57,
           1
          ],
          "sizemode": "area",
          "sizeref": 5
         },
         "mode": "markers",
         "name": "Art & Culture",
         "text": [
          "Fine Arts",
          "Performing Arts",
          "Art Exhibit"
         ],
         "x": [
          114,
          1401,
          2
         ],
         "y": [
          0,
          0,
          0
         ]
        },
        {
         "marker": {
          "size": [
           5
          ],
          "sizemode": "area",
          "sizeref": 5
         },
         "mode": "markers",
         "name": "Hobbies & Crafts",
         "text": [
          "Handmade Crafts"
         ],
         "x": [
          21
         ],
         "y": [
          0
         ]
        },
        {
         "marker": {
          "size": [
           128,
           21
          ],
          "sizemode": "area",
          "sizeref": 5
         },
         "mode": "markers",
         "name": "Dancing",
         "text": [
          "Dancing",
          "Dance Lessons"
         ],
         "x": [
          3432,
          309
         ],
         "y": [
          0,
          0
         ]
        },
        {
         "marker": {
          "size": [
           14
          ],
          "sizemode": "area",
          "sizeref": 5
         },
         "mode": "markers",
         "name": "LGBT",
         "text": [
          "LGBT Social Group"
         ],
         "x": [
          45
         ],
         "y": [
          0
         ]
        },
        {
         "marker": {
          "size": [],
          "sizemode": "area",
          "sizeref": 5
         },
         "mode": "markers",
         "name": "Sports & Recreation",
         "text": [],
         "x": [],
         "y": []
        },
        {
         "marker": {
          "size": [],
          "sizemode": "area",
          "sizeref": 5
         },
         "mode": "markers",
         "name": "Book Club",
         "text": [],
         "x": [],
         "y": []
        }
       ],
       "frames": [
        {
         "data": [
          {
           "marker": {
            "size": [
             23,
             23,
             11,
             3,
             4,
             17,
             8,
             7,
             24,
             14,
             23
            ],
            "sizemode": "area",
            "sizeref": 5
           },
           "mode": "markers",
           "name": "Language & Ethnic Identity",
           "text": [
            "Spanish Language",
            "French Language",
            "Italian Language",
            "Cultural Diversity",
            "Cultural Activities",
            "Japanese Language",
            "English Language",
            "Mandarin Language",
            "Culture Exchange",
            "Latino Culture",
            "Chinese language"
           ],
           "x": [
            596,
            709,
            539,
            21,
            24,
            467,
            451,
            116,
            891,
            200,
            359
           ],
           "y": [
            0,
            0,
            0,
            0,
            0,
            0,
            0,
            0,
            0,
            0,
            0
           ]
          },
          {
           "marker": {
            "size": [
             54,
             54,
             8,
             11
            ],
            "sizemode": "area",
            "sizeref": 5
           },
           "mode": "markers",
           "name": "Photography",
           "text": [
            "Photography",
            "Photography",
            "Model Photography",
            "Fashion Photography"
           ],
           "x": [
            1759,
            1759,
            201,
            248
           ],
           "y": [
            0,
            0,
            0,
            0
           ]
          },
          {
           "marker": {
            "size": [
             12,
             10,
             7
            ],
            "sizemode": "area",
            "sizeref": 5
           },
           "mode": "markers",
           "name": "Games",
           "text": [
            "Game Development",
            "Games",
            "Game Design"
           ],
           "x": [
            481,
            243,
            322
           ],
           "y": [
            0,
            0,
            0
           ]
          },
          {
           "marker": {
            "size": [
             85
            ],
            "sizemode": "area",
            "sizeref": 5
           },
           "mode": "markers",
           "name": "Food & Drink",
           "text": [
            "Wine"
           ],
           "x": [
            2712
           ],
           "y": [
            0
           ]
          },
          {
           "marker": {
            "size": [
             3,
             487,
             5,
             56,
             5,
             7,
             13,
             14,
             6,
             3
            ],
            "sizemode": "area",
            "sizeref": 5
           },
           "mode": "markers",
           "name": "Socializing",
           "text": [
            "Corporate Social Responsibility",
            "Social Networking",
            "Social Enterprise",
            "Social Media Marketing",
            "20's Social",
            "Social Justice",
            "Women's Business Networking",
            "Social Entrepreneurship",
            "Women's Networking",
            "B2B Networking"
           ],
           "x": [
            77,
            14164,
            189,
            1941,
            37,
            115,
            202,
            391,
            125,
            61
           ],
           "y": [
            0,
            0,
            0,
            0,
            0,
            0,
            0,
            0,
            0,
            0
           ]
          },
          {
           "marker": {
            "size": [
             26,
             23,
             2,
             8,
             13,
             4
            ],
            "sizemode": "area",
            "sizeref": 5
           },
           "mode": "markers",
           "name": "Fashion & Beauty",
           "text": [
            "Fashion Industry",
            "Fashion and Style",
            "Restaurant Industry",
            "Fashion Entrepreneurs",
            "Fashion Design",
            "Clothing and Fashion Designers"
           ],
           "x": [
            920,
            854,
            40,
            261,
            379,
            194
           ],
           "y": [
            0,
            0,
            0,
            0,
            0,
            0
           ]
          },
          {
           "marker": {
            "size": [],
            "sizemode": "area",
            "sizeref": 5
           },
           "mode": "markers",
           "name": null,
           "text": [],
           "x": [],
           "y": []
          },
          {
           "marker": {
            "size": [
             13,
             7,
             8,
             1,
             2
            ],
            "sizemode": "area",
            "sizeref": 5
           },
           "mode": "markers",
           "name": "Education & Learning",
           "text": [
            "Education",
            "Financial Education",
            "Real Estate Investment Education",
            "Higher Education",
            "Business Education"
           ],
           "x": [
            154,
            41,
            35,
            68,
            103
           ],
           "y": [
            0,
            0,
            0,
            0,
            0
           ]
          },
          {
           "marker": {
            "size": [
             113,
             41
            ],
            "sizemode": "area",
            "sizeref": 5
           },
           "mode": "markers",
           "name": "Tech",
           "text": [
            "New Technology",
            "Mobile Technology"
           ],
           "x": [
            5334,
            2670
           ],
           "y": [
            0,
            0
           ]
          },
          {
           "marker": {
            "size": [
             18,
             1
            ],
            "sizemode": "area",
            "sizeref": 5
           },
           "mode": "markers",
           "name": "Literature",
           "text": [
            "Literature",
            "Modern literature"
           ],
           "x": [
            207,
            21
           ],
           "y": [
            0,
            0
           ]
          },
          {
           "marker": {
            "size": [
             16,
             74,
             4
            ],
            "sizemode": "area",
            "sizeref": 5
           },
           "mode": "markers",
           "name": "Writing",
           "text": [
            "Creative Writing",
            "Writing",
            "Writing Workshops"
           ],
           "x": [
            299,
            1481,
            66
           ],
           "y": [
            0,
            0,
            0
           ]
          },
          {
           "marker": {
            "size": [
             5,
             57,
             1
            ],
            "sizemode": "area",
            "sizeref": 5
           },
           "mode": "markers",
           "name": "Art & Culture",
           "text": [
            "Fine Arts",
            "Performing Arts",
            "Art Exhibit"
           ],
           "x": [
            114,
            1401,
            2
           ],
           "y": [
            0,
            0,
            0
           ]
          },
          {
           "marker": {
            "size": [
             5
            ],
            "sizemode": "area",
            "sizeref": 5
           },
           "mode": "markers",
           "name": "Hobbies & Crafts",
           "text": [
            "Handmade Crafts"
           ],
           "x": [
            21
           ],
           "y": [
            0
           ]
          },
          {
           "marker": {
            "size": [
             128,
             21
            ],
            "sizemode": "area",
            "sizeref": 5
           },
           "mode": "markers",
           "name": "Dancing",
           "text": [
            "Dancing",
            "Dance Lessons"
           ],
           "x": [
            3432,
            309
           ],
           "y": [
            0,
            0
           ]
          },
          {
           "marker": {
            "size": [
             14
            ],
            "sizemode": "area",
            "sizeref": 5
           },
           "mode": "markers",
           "name": "LGBT",
           "text": [
            "LGBT Social Group"
           ],
           "x": [
            45
           ],
           "y": [
            0
           ]
          },
          {
           "marker": {
            "size": [],
            "sizemode": "area",
            "sizeref": 5
           },
           "mode": "markers",
           "name": "Sports & Recreation",
           "text": [],
           "x": [],
           "y": []
          },
          {
           "marker": {
            "size": [],
            "sizemode": "area",
            "sizeref": 5
           },
           "mode": "markers",
           "name": "Book Club",
           "text": [],
           "x": [],
           "y": []
          }
         ],
         "name": "2010"
        },
        {
         "data": [
          {
           "marker": {
            "size": [
             24,
             25,
             13,
             8,
             19,
             10,
             10,
             30,
             15,
             28
            ],
            "sizemode": "area",
            "sizeref": 5
           },
           "mode": "markers",
           "name": "Language & Ethnic Identity",
           "text": [
            "Spanish Language",
            "French Language",
            "Italian Language",
            "Cultural Activities",
            "Japanese Language",
            "English Language",
            "Mandarin Language",
            "Culture Exchange",
            "Latino Culture",
            "Chinese language"
           ],
           "x": [
            596,
            789,
            621,
            186,
            495,
            458,
            177,
            1034,
            277,
            563
           ],
           "y": [
            0,
            0,
            0,
            0,
            0,
            0,
            0,
            0,
            0,
            0
           ]
          },
          {
           "marker": {
            "size": [
             71,
             71,
             11,
             15
            ],
            "sizemode": "area",
            "sizeref": 5
           },
           "mode": "markers",
           "name": "Photography",
           "text": [
            "Photography",
            "Photography",
            "Model Photography",
            "Fashion Photography"
           ],
           "x": [
            2416,
            2416,
            322,
            400
           ],
           "y": [
            0,
            12,
            0,
            0
           ]
          },
          {
           "marker": {
            "size": [
             21,
             17,
             11
            ],
            "sizemode": "area",
            "sizeref": 5
           },
           "mode": "markers",
           "name": "Games",
           "text": [
            "Game Development",
            "Games",
            "Game Design"
           ],
           "x": [
            1152,
            771,
            744
           ],
           "y": [
            0,
            0,
            0
           ]
          },
          {
           "marker": {
            "size": [
             103,
             11
            ],
            "sizemode": "area",
            "sizeref": 5
           },
           "mode": "markers",
           "name": "Food & Drink",
           "text": [
            "Wine",
            "Food and Drink"
           ],
           "x": [
            4208,
            554
           ],
           "y": [
            0,
            0
           ]
          },
          {
           "marker": {
            "size": [
             4,
             612,
             7,
             71,
             7,
             11,
             23,
             16,
             1,
             2
            ],
            "sizemode": "area",
            "sizeref": 5
           },
           "mode": "markers",
           "name": "Socializing",
           "text": [
            "Corporate Social Responsibility",
            "Social Networking",
            "Social Enterprise",
            "Social Media Marketing",
            "20's Social",
            "Social Justice",
            "Women's Business Networking",
            "Social Entrepreneurship",
            "Social, Social, Social",
            "Networking with HR Professionals"
           ],
           "x": [
            97,
            19343,
            245,
            3377,
            69,
            201,
            556,
            442,
            69,
            29
           ],
           "y": [
            0,
            0,
            0,
            0,
            0,
            0,
            0,
            0,
            0,
            0
           ]
          },
          {
           "marker": {
            "size": [
             37,
             32,
             3,
             11,
             18
            ],
            "sizemode": "area",
            "sizeref": 5
           },
           "mode": "markers",
           "name": "Fashion & Beauty",
           "text": [
            "Fashion Industry",
            "Fashion and Style",
            "Restaurant Industry",
            "Fashion Entrepreneurs",
            "Fashion Design"
           ],
           "x": [
            1322,
            991,
            110,
            316,
            553
           ],
           "y": [
            0,
            0,
            0,
            0,
            0
           ]
          },
          {
           "marker": {
            "size": [],
            "sizemode": "area",
            "sizeref": 5
           },
           "mode": "markers",
           "name": null,
           "text": [],
           "x": [],
           "y": []
          },
          {
           "marker": {
            "size": [
             15,
             9,
             9
            ],
            "sizemode": "area",
            "sizeref": 5
           },
           "mode": "markers",
           "name": "Education & Learning",
           "text": [
            "Education",
            "Financial Education",
            "Real Estate Investment Education"
           ],
           "x": [
            156,
            57,
            54
           ],
           "y": [
            0,
            0,
            0
           ]
          },
          {
           "marker": {
            "size": [
             169,
             85
            ],
            "sizemode": "area",
            "sizeref": 5
           },
           "mode": "markers",
           "name": "Tech",
           "text": [
            "New Technology",
            "Mobile Technology"
           ],
           "x": [
            8906,
            6522
           ],
           "y": [
            0,
            0
           ]
          },
          {
           "marker": {
            "size": [
             24
            ],
            "sizemode": "area",
            "sizeref": 5
           },
           "mode": "markers",
           "name": "Literature",
           "text": [
            "Literature"
           ],
           "x": [
            502
           ],
           "y": [
            0
           ]
          },
          {
           "marker": {
            "size": [
             18,
             95,
             7
            ],
            "sizemode": "area",
            "sizeref": 5
           },
           "mode": "markers",
           "name": "Writing",
           "text": [
            "Creative Writing",
            "Writing",
            "Writing Workshops"
           ],
           "x": [
            523,
            2003,
            132
           ],
           "y": [
            0,
            0,
            0
           ]
          },
          {
           "marker": {
            "size": [
             8,
             76,
             2,
             7,
             2,
             2,
             6
            ],
            "sizemode": "area",
            "sizeref": 5
           },
           "mode": "markers",
           "name": "Art & Culture",
           "text": [
            "Fine Arts",
            "Performing Arts",
            "Art Exhibit",
            "Digital Art",
            "Art History",
            "Art Walks and Tours",
            "Art Museums"
           ],
           "x": [
            181,
            1952,
            2,
            446,
            120,
            183,
            192
           ],
           "y": [
            0,
            0,
            0,
            0,
            0,
            0,
            0
           ]
          },
          {
           "marker": {
            "size": [
             8
            ],
            "sizemode": "area",
            "sizeref": 5
           },
           "mode": "markers",
           "name": "Hobbies & Crafts",
           "text": [
            "Handmade Crafts"
           ],
           "x": [
            187
           ],
           "y": [
            0
           ]
          },
          {
           "marker": {
            "size": [
             161,
             27
            ],
            "sizemode": "area",
            "sizeref": 5
           },
           "mode": "markers",
           "name": "Dancing",
           "text": [
            "Dancing",
            "Dance Lessons"
           ],
           "x": [
            4694,
            615
           ],
           "y": [
            0,
            0
           ]
          },
          {
           "marker": {
            "size": [
             22,
             1
            ],
            "sizemode": "area",
            "sizeref": 5
           },
           "mode": "markers",
           "name": "LGBT",
           "text": [
            "LGBT Social Group",
            "Friends & Supporters of LGBT/GLBT"
           ],
           "x": [
            104,
            0
           ],
           "y": [
            0,
            0
           ]
          },
          {
           "marker": {
            "size": [
             5
            ],
            "sizemode": "area",
            "sizeref": 5
           },
           "mode": "markers",
           "name": "Sports & Recreation",
           "text": [
            "Sport Bikes"
           ],
           "x": [
            19
           ],
           "y": [
            0
           ]
          },
          {
           "marker": {
            "size": [],
            "sizemode": "area",
            "sizeref": 5
           },
           "mode": "markers",
           "name": "Book Club",
           "text": [],
           "x": [],
           "y": []
          }
         ],
         "name": "2011"
        },
        {
         "data": [
          {
           "marker": {
            "size": [
             34,
             31,
             17,
             4,
             12,
             28,
             21,
             12,
             43,
             24,
             30,
             9
            ],
            "sizemode": "area",
            "sizeref": 5
           },
           "mode": "markers",
           "name": "Language & Ethnic Identity",
           "text": [
            "Spanish Language",
            "French Language",
            "Italian Language",
            "Cultural Diversity",
            "Cultural Activities",
            "Japanese Language",
            "English Language",
            "Mandarin Language",
            "Culture Exchange",
            "Latino Culture",
            "Chinese language",
            "European Culture"
           ],
           "x": [
            1852,
            1928,
            1756,
            27,
            295,
            1757,
            1093,
            201,
            1504,
            430,
            1665,
            104
           ],
           "y": [
            0,
            0,
            0,
            0,
            0,
            0,
            0,
            0,
            12,
            0,
            0,
            0
           ]
          },
          {
           "marker": {
            "size": [
             94,
             94,
             20,
             25,
             1
            ],
            "sizemode": "area",
            "sizeref": 5
           },
           "mode": "markers",
           "name": "Photography",
           "text": [
            "Photography",
            "Photography",
            "Model Photography",
            "Fashion Photography",
            "Photography Business"
           ],
           "x": [
            3264,
            3264,
            545,
            623,
            113
           ],
           "y": [
            100,
            12,
            0,
            0,
            0
           ]
          },
          {
           "marker": {
            "size": [
             23,
             23,
             13
            ],
            "sizemode": "area",
            "sizeref": 5
           },
           "mode": "markers",
           "name": "Games",
           "text": [
            "Game Development",
            "Games",
            "Game Design"
           ],
           "x": [
            1236,
            1169,
            768
           ],
           "y": [
            0,
            0,
            0
           ]
          },
          {
           "marker": {
            "size": [
             122,
             13
            ],
            "sizemode": "area",
            "sizeref": 5
           },
           "mode": "markers",
           "name": "Food & Drink",
           "text": [
            "Wine",
            "Food and Drink"
           ],
           "x": [
            5481,
            728
           ],
           "y": [
            0,
            0
           ]
          },
          {
           "marker": {
            "size": [
             6,
             721,
             8,
             90,
             8,
             14,
             35,
             23,
             9,
             3,
             1
            ],
            "sizemode": "area",
            "sizeref": 5
           },
           "mode": "markers",
           "name": "Socializing",
           "text": [
            "Corporate Social Responsibility",
            "Social Networking",
            "Social Enterprise",
            "Social Media Marketing",
            "20's Social",
            "Social Justice",
            "Women's Business Networking",
            "Social Entrepreneurship",
            "Women's Networking",
            "Networking with HR Professionals",
            "Business Networking International (BNI)"
           ],
           "x": [
            137,
            25805,
            303,
            4521,
            69,
            224,
            990,
            832,
            228,
            29,
            24
           ],
           "y": [
            0,
            112,
            0,
            0,
            0,
            0,
            0,
            0,
            0,
            0,
            0
           ]
          },
          {
           "marker": {
            "size": [
             52,
             43,
             5,
             16,
             22,
             8,
             5
            ],
            "sizemode": "area",
            "sizeref": 5
           },
           "mode": "markers",
           "name": "Fashion & Beauty",
           "text": [
            "Fashion Industry",
            "Fashion and Style",
            "Restaurant Industry",
            "Fashion Entrepreneurs",
            "Fashion Design",
            "Clothing and Fashion Designers",
            "Theater Industry"
           ],
           "x": [
            2037,
            1329,
            133,
            618,
            572,
            286,
            208
           ],
           "y": [
            0,
            100,
            0,
            0,
            0,
            0,
            0
           ]
          },
          {
           "marker": {
            "size": [],
            "sizemode": "area",
            "sizeref": 5
           },
           "mode": "markers",
           "name": null,
           "text": [],
           "x": [],
           "y": []
          },
          {
           "marker": {
            "size": [
             19,
             14,
             12,
             5,
             3
            ],
            "sizemode": "area",
            "sizeref": 5
           },
           "mode": "markers",
           "name": "Education & Learning",
           "text": [
            "Education",
            "Financial Education",
            "Real Estate Investment Education",
            "Higher Education",
            "Trader Education"
           ],
           "x": [
            256,
            342,
            81,
            571,
            24
           ],
           "y": [
            0,
            0,
            0,
            0,
            0
           ]
          },
          {
           "marker": {
            "size": [
             264,
             122,
             1
            ],
            "sizemode": "area",
            "sizeref": 5
           },
           "mode": "markers",
           "name": "Tech",
           "text": [
            "New Technology",
            "Mobile Technology",
            "Technology Innovation"
           ],
           "x": [
            18529,
            10980,
            119
           ],
           "y": [
            0,
            0,
            0
           ]
          },
          {
           "marker": {
            "size": [
             34,
             2,
             1
            ],
            "sizemode": "area",
            "sizeref": 5
           },
           "mode": "markers",
           "name": "Literature",
           "text": [
            "Literature",
            "Modern literature",
            "Comparative Literature"
           ],
           "x": [
            842,
            56,
            85
           ],
           "y": [
            0,
            0,
            0
           ]
          },
          {
           "marker": {
            "size": [
             27,
             120,
             12
            ],
            "sizemode": "area",
            "sizeref": 5
           },
           "mode": "markers",
           "name": "Writing",
           "text": [
            "Creative Writing",
            "Writing",
            "Writing Workshops"
           ],
           "x": [
            959,
            3080,
            294
           ],
           "y": [
            0,
            100,
            0
           ]
          },
          {
           "marker": {
            "size": [
             11,
             98,
             3,
             11,
             3,
             4,
             11,
             2
            ],
            "sizemode": "area",
            "sizeref": 5
           },
           "mode": "markers",
           "name": "Art & Culture",
           "text": [
            "Fine Arts",
            "Performing Arts",
            "Art Exhibit",
            "Digital Art",
            "Art History",
            "Art Walks and Tours",
            "Art Museums",
            "Art and Culture"
           ],
           "x": [
            466,
            3141,
            93,
            758,
            160,
            539,
            464,
            185
           ],
           "y": [
            50,
            112,
            0,
            0,
            0,
            0,
            0,
            0
           ]
          },
          {
           "marker": {
            "size": [
             9
            ],
            "sizemode": "area",
            "sizeref": 5
           },
           "mode": "markers",
           "name": "Hobbies & Crafts",
           "text": [
            "Handmade Crafts"
           ],
           "x": [
            303
           ],
           "y": [
            0
           ]
          },
          {
           "marker": {
            "size": [
             192,
             34
            ],
            "sizemode": "area",
            "sizeref": 5
           },
           "mode": "markers",
           "name": "Dancing",
           "text": [
            "Dancing",
            "Dance Lessons"
           ],
           "x": [
            5669,
            806
           ],
           "y": [
            0,
            0
           ]
          },
          {
           "marker": {
            "size": [
             33
            ],
            "sizemode": "area",
            "sizeref": 5
           },
           "mode": "markers",
           "name": "LGBT",
           "text": [
            "LGBT Social Group"
           ],
           "x": [
            410
           ],
           "y": [
            0
           ]
          },
          {
           "marker": {
            "size": [],
            "sizemode": "area",
            "sizeref": 5
           },
           "mode": "markers",
           "name": "Sports & Recreation",
           "text": [],
           "x": [],
           "y": []
          },
          {
           "marker": {
            "size": [],
            "sizemode": "area",
            "sizeref": 5
           },
           "mode": "markers",
           "name": "Book Club",
           "text": [],
           "x": [],
           "y": []
          }
         ],
         "name": "2012"
        },
        {
         "data": [
          {
           "marker": {
            "size": [
             40,
             37,
             22,
             6,
             16,
             31,
             30,
             13,
             50,
             29,
             31,
             10
            ],
            "sizemode": "area",
            "sizeref": 5
           },
           "mode": "markers",
           "name": "Language & Ethnic Identity",
           "text": [
            "Spanish Language",
            "French Language",
            "Italian Language",
            "Cultural Diversity",
            "Cultural Activities",
            "Japanese Language",
            "English Language",
            "Mandarin Language",
            "Culture Exchange",
            "Latino Culture",
            "Chinese language",
            "European Culture"
           ],
           "x": [
            2310,
            2363,
            2153,
            32,
            700,
            2172,
            1243,
            522,
            2010,
            555,
            1665,
            125
           ],
           "y": [
            0,
            0,
            0,
            0,
            0,
            0,
            0,
            0,
            12,
            0,
            0,
            0
           ]
          },
          {
           "marker": {
            "size": [
             100,
             100,
             24,
             27
            ],
            "sizemode": "area",
            "sizeref": 5
           },
           "mode": "markers",
           "name": "Photography",
           "text": [
            "Photography",
            "Photography",
            "Model Photography",
            "Fashion Photography"
           ],
           "x": [
            3442,
            3442,
            545,
            623
           ],
           "y": [
            100,
            12,
            0,
            0
           ]
          },
          {
           "marker": {
            "size": [
             35,
             33,
             27,
             1
            ],
            "sizemode": "area",
            "sizeref": 5
           },
           "mode": "markers",
           "name": "Games",
           "text": [
            "Game Development",
            "Games",
            "Game Design",
            "Improv games"
           ],
           "x": [
            2131,
            1514,
            1912,
            169
           ],
           "y": [
            0,
            0,
            0,
            0
           ]
          },
          {
           "marker": {
            "size": [
             141,
             20
            ],
            "sizemode": "area",
            "sizeref": 5
           },
           "mode": "markers",
           "name": "Food & Drink",
           "text": [
            "Wine",
            "Food and Drink"
           ],
           "x": [
            6747,
            1406
           ],
           "y": [
            0,
            0
           ]
          },
          {
           "marker": {
            "size": [
             783,
             11,
             114,
             10,
             19,
             47,
             32,
             11,
             12,
             6,
             2,
             3
            ],
            "sizemode": "area",
            "sizeref": 5
           },
           "mode": "markers",
           "name": "Socializing",
           "text": [
            "Social Networking",
            "Social Enterprise",
            "Social Media Marketing",
            "20's Social",
            "Social Justice",
            "Women's Business Networking",
            "Social Entrepreneurship",
            "Women's Networking",
            "B2B Networking",
            "Networking with HR Professionals",
            "Business Networking International (BNI)",
            "Social Marketing"
           ],
           "x": [
            30240,
            553,
            6136,
            301,
            487,
            1267,
            1366,
            298,
            371,
            45,
            43,
            669
           ],
           "y": [
            112,
            0,
            0,
            0,
            0,
            0,
            0,
            0,
            0,
            0,
            0,
            0
           ]
          },
          {
           "marker": {
            "size": [
             60,
             56,
             20,
             28,
             14
            ],
            "sizemode": "area",
            "sizeref": 5
           },
           "mode": "markers",
           "name": "Fashion & Beauty",
           "text": [
            "Fashion Industry",
            "Fashion and Style",
            "Fashion Entrepreneurs",
            "Fashion Design",
            "Clothing and Fashion Designers"
           ],
           "x": [
            2253,
            2037,
            865,
            808,
            509
           ],
           "y": [
            0,
            100,
            0,
            0,
            0
           ]
          },
          {
           "marker": {
            "size": [],
            "sizemode": "area",
            "sizeref": 5
           },
           "mode": "markers",
           "name": null,
           "text": [],
           "x": [],
           "y": []
          },
          {
           "marker": {
            "size": [
             23,
             22,
             23,
             9,
             2
            ],
            "sizemode": "area",
            "sizeref": 5
           },
           "mode": "markers",
           "name": "Education & Learning",
           "text": [
            "Education",
            "Financial Education",
            "Real Estate Investment Education",
            "Higher Education",
            "Investment Education"
           ],
           "x": [
            604,
            591,
            184,
            942,
            5
           ],
           "y": [
            0,
            0,
            2,
            0,
            0
           ]
          },
          {
           "marker": {
            "size": [
             345,
             188,
             2
            ],
            "sizemode": "area",
            "sizeref": 5
           },
           "mode": "markers",
           "name": "Tech",
           "text": [
            "New Technology",
            "Mobile Technology",
            "Technology Innovation"
           ],
           "x": [
            27408,
            15543,
            296
           ],
           "y": [
            1,
            0,
            0
           ]
          },
          {
           "marker": {
            "size": [
             48
            ],
            "sizemode": "area",
            "sizeref": 5
           },
           "mode": "markers",
           "name": "Literature",
           "text": [
            "Literature"
           ],
           "x": [
            1156
           ],
           "y": [
            0
           ]
          },
          {
           "marker": {
            "size": [
             39,
             142,
             17,
             2
            ],
            "sizemode": "area",
            "sizeref": 5
           },
           "mode": "markers",
           "name": "Writing",
           "text": [
            "Creative Writing",
            "Writing",
            "Writing Workshops",
            "Journal Writing"
           ],
           "x": [
            1173,
            3707,
            347,
            71
           ],
           "y": [
            0,
            100,
            0,
            0
           ]
          },
          {
           "marker": {
            "size": [
             13,
             115,
             5,
             14,
             8,
             17,
             1,
             1
            ],
            "sizemode": "area",
            "sizeref": 5
           },
           "mode": "markers",
           "name": "Art & Culture",
           "text": [
            "Fine Arts",
            "Performing Arts",
            "Art Exhibit",
            "Digital Art",
            "Art Walks and Tours",
            "Art Museums",
            "Art Creating Art and Perfecting Our Art",
            "Arts and Social Arts"
           ],
           "x": [
            630,
            4673,
            209,
            1017,
            1043,
            1060,
            35,
            136
           ],
           "y": [
            50,
            112,
            0,
            0,
            0,
            0,
            0,
            0
           ]
          },
          {
           "marker": {
            "size": [
             14
            ],
            "sizemode": "area",
            "sizeref": 5
           },
           "mode": "markers",
           "name": "Hobbies & Crafts",
           "text": [
            "Handmade Crafts"
           ],
           "x": [
            521
           ],
           "y": [
            0
           ]
          },
          {
           "marker": {
            "size": [
             216,
             43
            ],
            "sizemode": "area",
            "sizeref": 5
           },
           "mode": "markers",
           "name": "Dancing",
           "text": [
            "Dancing",
            "Dance Lessons"
           ],
           "x": [
            7714,
            1087
           ],
           "y": [
            0,
            0
           ]
          },
          {
           "marker": {
            "size": [
             45,
             2
            ],
            "sizemode": "area",
            "sizeref": 5
           },
           "mode": "markers",
           "name": "LGBT",
           "text": [
            "LGBT Social Group",
            "Friends & Supporters of LGBT/GLBT"
           ],
           "x": [
            926,
            0
           ],
           "y": [
            0,
            0
           ]
          },
          {
           "marker": {
            "size": [
             6
            ],
            "sizemode": "area",
            "sizeref": 5
           },
           "mode": "markers",
           "name": "Sports & Recreation",
           "text": [
            "Sport Bikes"
           ],
           "x": [
            19
           ],
           "y": [
            0
           ]
          },
          {
           "marker": {
            "size": [
             2
            ],
            "sizemode": "area",
            "sizeref": 5
           },
           "mode": "markers",
           "name": "Book Club",
           "text": [
            "Book Club, Movies"
           ],
           "x": [
            51
           ],
           "y": [
            0
           ]
          }
         ],
         "name": "2013"
        },
        {
         "data": [
          {
           "marker": {
            "size": [
             49,
             43,
             29,
             8,
             19,
             37,
             43,
             19,
             66,
             31,
             41,
             13
            ],
            "sizemode": "area",
            "sizeref": 5
           },
           "mode": "markers",
           "name": "Language & Ethnic Identity",
           "text": [
            "Spanish Language",
            "French Language",
            "Italian Language",
            "Cultural Diversity",
            "Cultural Activities",
            "Japanese Language",
            "English Language",
            "Mandarin Language",
            "Culture Exchange",
            "Latino Culture",
            "Chinese language",
            "European Culture"
           ],
           "x": [
            2760,
            2700,
            2467,
            39,
            886,
            2704,
            1557,
            732,
            2404,
            570,
            2358,
            149
           ],
           "y": [
            0,
            0,
            0,
            0,
            12,
            0,
            0,
            0,
            12,
            0,
            0,
            0
           ]
          },
          {
           "marker": {
            "size": [
             131,
             131,
             34,
             40
            ],
            "sizemode": "area",
            "sizeref": 5
           },
           "mode": "markers",
           "name": "Photography",
           "text": [
            "Photography",
            "Photography",
            "Model Photography",
            "Fashion Photography"
           ],
           "x": [
            5198,
            5198,
            973,
            1409
           ],
           "y": [
            100,
            12,
            0,
            0
           ]
          },
          {
           "marker": {
            "size": [
             46,
             46,
             35
            ],
            "sizemode": "area",
            "sizeref": 5
           },
           "mode": "markers",
           "name": "Games",
           "text": [
            "Game Development",
            "Games",
            "Game Design"
           ],
           "x": [
            2871,
            1974,
            2237
           ],
           "y": [
            0,
            0,
            0
           ]
          },
          {
           "marker": {
            "size": [
             161,
             24
            ],
            "sizemode": "area",
            "sizeref": 5
           },
           "mode": "markers",
           "name": "Food & Drink",
           "text": [
            "Wine",
            "Food and Drink"
           ],
           "x": [
            8388,
            1506
           ],
           "y": [
            0,
            0
           ]
          },
          {
           "marker": {
            "size": [
             936,
             14,
             135,
             11,
             27,
             58,
             41,
             20,
             14,
             2,
             11,
             6
            ],
            "sizemode": "area",
            "sizeref": 5
           },
           "mode": "markers",
           "name": "Socializing",
           "text": [
            "Social Networking",
            "Social Enterprise",
            "Social Media Marketing",
            "20's Social",
            "Social Justice",
            "Women's Business Networking",
            "Social Entrepreneurship",
            "Women's Networking",
            "B2B Networking",
            "Social, Social, Social",
            "Networking with HR Professionals",
            "Women Business Networking"
           ],
           "x": [
            40181,
            705,
            7222,
            428,
            659,
            1491,
            2100,
            482,
            787,
            92,
            380,
            356
           ],
           "y": [
            126,
            0,
            50,
            0,
            0,
            12,
            12,
            0,
            0,
            0,
            0,
            12
           ]
          },
          {
           "marker": {
            "size": [
             67,
             71,
             9,
             23,
             35,
             19,
             8
            ],
            "sizemode": "area",
            "sizeref": 5
           },
           "mode": "markers",
           "name": "Fashion & Beauty",
           "text": [
            "Fashion Industry",
            "Fashion and Style",
            "Restaurant Industry",
            "Fashion Entrepreneurs",
            "Fashion Design",
            "Clothing and Fashion Designers",
            "Theater Industry"
           ],
           "x": [
            2483,
            2632,
            654,
            953,
            1124,
            631,
            461
           ],
           "y": [
            0,
            100,
            0,
            0,
            0,
            0,
            12
           ]
          },
          {
           "marker": {
            "size": [],
            "sizemode": "area",
            "sizeref": 5
           },
           "mode": "markers",
           "name": null,
           "text": [],
           "x": [],
           "y": []
          },
          {
           "marker": {
            "size": [
             40,
             28,
             36,
             11,
             3,
             4
            ],
            "sizemode": "area",
            "sizeref": 5
           },
           "mode": "markers",
           "name": "Education & Learning",
           "text": [
            "Education",
            "Financial Education",
            "Real Estate Investment Education",
            "Higher Education",
            "Business Education",
            "Investment Education"
           ],
           "x": [
            1683,
            1406,
            1080,
            1187,
            158,
            56
           ],
           "y": [
            0,
            0,
            29,
            0,
            0,
            0
           ]
          },
          {
           "marker": {
            "size": [
             498,
             263,
             5
            ],
            "sizemode": "area",
            "sizeref": 5
           },
           "mode": "markers",
           "name": "Tech",
           "text": [
            "New Technology",
            "Mobile Technology",
            "Technology Innovation"
           ],
           "x": [
            45016,
            25468,
            480
           ],
           "y": [
            2,
            0,
            0
           ]
          },
          {
           "marker": {
            "size": [
             61
            ],
            "sizemode": "area",
            "sizeref": 5
           },
           "mode": "markers",
           "name": "Literature",
           "text": [
            "Literature"
           ],
           "x": [
            1488
           ],
           "y": [
            112
           ]
          },
          {
           "marker": {
            "size": [
             56,
             181,
             27
            ],
            "sizemode": "area",
            "sizeref": 5
           },
           "mode": "markers",
           "name": "Writing",
           "text": [
            "Creative Writing",
            "Writing",
            "Writing Workshops"
           ],
           "x": [
            1961,
            5818,
            568
           ],
           "y": [
            62,
            100,
            0
           ]
          },
          {
           "marker": {
            "size": [
             23,
             149,
             6,
             16,
             10,
             22,
             3,
             3
            ],
            "sizemode": "area",
            "sizeref": 5
           },
           "mode": "markers",
           "name": "Art & Culture",
           "text": [
            "Fine Arts",
            "Performing Arts",
            "Art Exhibit",
            "Digital Art",
            "Art Walks and Tours",
            "Art Museums",
            "Art Creating Art and Perfecting Our Art",
            "Arts and Social Arts"
           ],
           "x": [
            1085,
            6883,
            233,
            1102,
            1590,
            1443,
            107,
            164
           ],
           "y": [
            50,
            174,
            0,
            0,
            0,
            0,
            0,
            0
           ]
          },
          {
           "marker": {
            "size": [
             20
            ],
            "sizemode": "area",
            "sizeref": 5
           },
           "mode": "markers",
           "name": "Hobbies & Crafts",
           "text": [
            "Handmade Crafts"
           ],
           "x": [
            759
           ],
           "y": [
            0
           ]
          },
          {
           "marker": {
            "size": [
             265,
             64
            ],
            "sizemode": "area",
            "sizeref": 5
           },
           "mode": "markers",
           "name": "Dancing",
           "text": [
            "Dancing",
            "Dance Lessons"
           ],
           "x": [
            11751,
            1701
           ],
           "y": [
            0,
            0
           ]
          },
          {
           "marker": {
            "size": [
             67,
             3
            ],
            "sizemode": "area",
            "sizeref": 5
           },
           "mode": "markers",
           "name": "LGBT",
           "text": [
            "LGBT Social Group",
            "Friends & Supporters of LGBT/GLBT"
           ],
           "x": [
            1928,
            58
           ],
           "y": [
            0,
            0
           ]
          },
          {
           "marker": {
            "size": [
             8
            ],
            "sizemode": "area",
            "sizeref": 5
           },
           "mode": "markers",
           "name": "Sports & Recreation",
           "text": [
            "Sport Bikes"
           ],
           "x": [
            44
           ],
           "y": [
            0
           ]
          },
          {
           "marker": {
            "size": [
             3
            ],
            "sizemode": "area",
            "sizeref": 5
           },
           "mode": "markers",
           "name": "Book Club",
           "text": [
            "Book Club, Movies"
           ],
           "x": [
            102
           ],
           "y": [
            0
           ]
          }
         ],
         "name": "2014"
        },
        {
         "data": [
          {
           "marker": {
            "size": [
             64,
             55,
             33,
             12,
             27,
             40,
             54,
             24,
             106,
             40,
             49,
             14
            ],
            "sizemode": "area",
            "sizeref": 5
           },
           "mode": "markers",
           "name": "Language & Ethnic Identity",
           "text": [
            "Spanish Language",
            "French Language",
            "Italian Language",
            "Cultural Diversity",
            "Cultural Activities",
            "Japanese Language",
            "English Language",
            "Mandarin Language",
            "Culture Exchange",
            "Latino Culture",
            "Chinese language",
            "European Culture"
           ],
           "x": [
            4654,
            5190,
            3303,
            389,
            2707,
            2728,
            3751,
            1319,
            8977,
            896,
            3457,
            181
           ],
           "y": [
            0,
            0,
            0,
            0,
            12,
            0,
            0,
            0,
            12,
            0,
            0,
            0
           ]
          },
          {
           "marker": {
            "size": [
             157,
             157,
             42,
             47,
             4
            ],
            "sizemode": "area",
            "sizeref": 5
           },
           "mode": "markers",
           "name": "Photography",
           "text": [
            "Photography",
            "Photography",
            "Model Photography",
            "Fashion Photography",
            "Photography Business"
           ],
           "x": [
            9683,
            9683,
            1382,
            2074,
            858
           ],
           "y": [
            112,
            12,
            0,
            0,
            0
           ]
          },
          {
           "marker": {
            "size": [
             58,
             76,
             44
            ],
            "sizemode": "area",
            "sizeref": 5
           },
           "mode": "markers",
           "name": "Games",
           "text": [
            "Game Development",
            "Games",
            "Game Design"
           ],
           "x": [
            4085,
            4835,
            2860
           ],
           "y": [
            0,
            0,
            0
           ]
          },
          {
           "marker": {
            "size": [
             195,
             59
            ],
            "sizemode": "area",
            "sizeref": 5
           },
           "mode": "markers",
           "name": "Food & Drink",
           "text": [
            "Wine",
            "Food and Drink"
           ],
           "x": [
            14126,
            4783
           ],
           "y": [
            0,
            0
           ]
          },
          {
           "marker": {
            "size": [
             7,
             1144,
             19,
             160,
             14,
             45,
             82,
             61,
             43,
             25,
             3,
             21,
             4,
             7,
             1
            ],
            "sizemode": "area",
            "sizeref": 5
           },
           "mode": "markers",
           "name": "Socializing",
           "text": [
            "Corporate Social Responsibility",
            "Social Networking",
            "Social Enterprise",
            "Social Media Marketing",
            "20's Social",
            "Social Justice",
            "Women's Business Networking",
            "Social Entrepreneurship",
            "Women's Networking",
            "B2B Networking",
            "Social, Social, Social",
            "Networking with HR Professionals",
            "Business Networking International (BNI)",
            "Women Business Networking",
            "Professional Networking for Actors"
           ],
           "x": [
            168,
            73835,
            1236,
            9643,
            1787,
            1365,
            3765,
            3249,
            2337,
            2415,
            92,
            1022,
            99,
            395,
            62
           ],
           "y": [
            0,
            151,
            0,
            62,
            0,
            0,
            35,
            12,
            0,
            0,
            0,
            0,
            50,
            12,
            0
           ]
          },
          {
           "marker": {
            "size": [
             78,
             83,
             12,
             27,
             42,
             23,
             10
            ],
            "sizemode": "area",
            "sizeref": 5
           },
           "mode": "markers",
           "name": "Fashion & Beauty",
           "text": [
            "Fashion Industry",
            "Fashion and Style",
            "Restaurant Industry",
            "Fashion Entrepreneurs",
            "Fashion Design",
            "Clothing and Fashion Designers",
            "Theater Industry"
           ],
           "x": [
            3674,
            4756,
            739,
            1204,
            2494,
            1204,
            791
           ],
           "y": [
            0,
            112,
            0,
            0,
            0,
            0,
            12
           ]
          },
          {
           "marker": {
            "size": [],
            "sizemode": "area",
            "sizeref": 5
           },
           "mode": "markers",
           "name": null,
           "text": [],
           "x": [],
           "y": []
          },
          {
           "marker": {
            "size": [
             57,
             48,
             65,
             14,
             4,
             5
            ],
            "sizemode": "area",
            "sizeref": 5
           },
           "mode": "markers",
           "name": "Education & Learning",
           "text": [
            "Education",
            "Financial Education",
            "Real Estate Investment Education",
            "Higher Education",
            "Business Education",
            "Investment Education"
           ],
           "x": [
            2999,
            2870,
            2884,
            1282,
            183,
            63
           ],
           "y": [
            0,
            0,
            56,
            0,
            0,
            0
           ]
          },
          {
           "marker": {
            "size": [
             673,
             346,
             7
            ],
            "sizemode": "area",
            "sizeref": 5
           },
           "mode": "markers",
           "name": "Tech",
           "text": [
            "New Technology",
            "Mobile Technology",
            "Technology Innovation"
           ],
           "x": [
            69737,
            39259,
            480
           ],
           "y": [
            3,
            0,
            0
           ]
          },
          {
           "marker": {
            "size": [
             79,
             3
            ],
            "sizemode": "area",
            "sizeref": 5
           },
           "mode": "markers",
           "name": "Literature",
           "text": [
            "Literature",
            "Modern literature"
           ],
           "x": [
            2781,
            153
           ],
           "y": [
            112,
            0
           ]
          },
          {
           "marker": {
            "size": [
             71,
             209,
             35,
             3,
             1
            ],
            "sizemode": "area",
            "sizeref": 5
           },
           "mode": "markers",
           "name": "Writing",
           "text": [
            "Creative Writing",
            "Writing",
            "Writing Workshops",
            "Journal Writing",
            "Acting and Writing"
           ],
           "x": [
            3478,
            8339,
            1176,
            89,
            158
           ],
           "y": [
            62,
            112,
            0,
            0,
            0
           ]
          },
          {
           "marker": {
            "size": [
             38,
             187,
             8,
             17,
             13,
             32,
             3,
             2
            ],
            "sizemode": "area",
            "sizeref": 5
           },
           "mode": "markers",
           "name": "Art & Culture",
           "text": [
            "Fine Arts",
            "Performing Arts",
            "Art Exhibit",
            "Digital Art",
            "Art Walks and Tours",
            "Art Museums",
            "Art and Culture",
            "Art Classes"
           ],
           "x": [
            3821,
            16286,
            274,
            1132,
            2775,
            3676,
            1041,
            73
           ],
           "y": [
            112,
            286,
            0,
            0,
            0,
            0,
            0,
            0
           ]
          },
          {
           "marker": {
            "size": [
             28
            ],
            "sizemode": "area",
            "sizeref": 5
           },
           "mode": "markers",
           "name": "Hobbies & Crafts",
           "text": [
            "Handmade Crafts"
           ],
           "x": [
            1957
           ],
           "y": [
            0
           ]
          },
          {
           "marker": {
            "size": [
             315,
             86
            ],
            "sizemode": "area",
            "sizeref": 5
           },
           "mode": "markers",
           "name": "Dancing",
           "text": [
            "Dancing",
            "Dance Lessons"
           ],
           "x": [
            21408,
            3355
           ],
           "y": [
            0,
            0
           ]
          },
          {
           "marker": {
            "size": [
             93,
             5
            ],
            "sizemode": "area",
            "sizeref": 5
           },
           "mode": "markers",
           "name": "LGBT",
           "text": [
            "LGBT Social Group",
            "Friends & Supporters of LGBT/GLBT"
           ],
           "x": [
            3423,
            67
           ],
           "y": [
            0,
            0
           ]
          },
          {
           "marker": {
            "size": [
             9
            ],
            "sizemode": "area",
            "sizeref": 5
           },
           "mode": "markers",
           "name": "Sports & Recreation",
           "text": [
            "Sport Bikes"
           ],
           "x": [
            44
           ],
           "y": [
            0
           ]
          },
          {
           "marker": {
            "size": [
             6
            ],
            "sizemode": "area",
            "sizeref": 5
           },
           "mode": "markers",
           "name": "Book Club",
           "text": [
            "Book Club, Movies"
           ],
           "x": [
            102
           ],
           "y": [
            0
           ]
          }
         ],
         "name": "2015"
        },
        {
         "data": [
          {
           "marker": {
            "size": [
             85,
             78,
             37,
             15,
             44,
             51,
             72,
             32,
             150,
             45,
             64,
             17
            ],
            "sizemode": "area",
            "sizeref": 5
           },
           "mode": "markers",
           "name": "Language & Ethnic Identity",
           "text": [
            "Spanish Language",
            "French Language",
            "Italian Language",
            "Cultural Diversity",
            "Cultural Activities",
            "Japanese Language",
            "English Language",
            "Mandarin Language",
            "Culture Exchange",
            "Latino Culture",
            "Chinese language",
            "European Culture"
           ],
           "x": [
            9188,
            7308,
            3931,
            745,
            4829,
            4113,
            7051,
            2323,
            17335,
            1709,
            5570,
            487
           ],
           "y": [
            0,
            0,
            0,
            0,
            12,
            0,
            0,
            0,
            12,
            0,
            0,
            0
           ]
          },
          {
           "marker": {
            "size": [
             203,
             203,
             50,
             65,
             5
            ],
            "sizemode": "area",
            "sizeref": 5
           },
           "mode": "markers",
           "name": "Photography",
           "text": [
            "Photography",
            "Photography",
            "Model Photography",
            "Fashion Photography",
            "Photography Business"
           ],
           "x": [
            20841,
            20841,
            2208,
            4541,
            949
           ],
           "y": [
            174,
            12,
            0,
            0,
            12
           ]
          },
          {
           "marker": {
            "size": [
             69,
             107,
             56,
             2,
             1
            ],
            "sizemode": "area",
            "sizeref": 5
           },
           "mode": "markers",
           "name": "Games",
           "text": [
            "Game Development",
            "Games",
            "Game Design",
            "Improv games",
            "Storytelling Games"
           ],
           "x": [
            5766,
            7567,
            4337,
            322,
            0
           ],
           "y": [
            0,
            0,
            0,
            0,
            0
           ]
          },
          {
           "marker": {
            "size": [
             265,
             95
            ],
            "sizemode": "area",
            "sizeref": 5
           },
           "mode": "markers",
           "name": "Food & Drink",
           "text": [
            "Wine",
            "Food and Drink"
           ],
           "x": [
            29855,
            8094
           ],
           "y": [
            12,
            0
           ]
          },
          {
           "marker": {
            "size": [
             8,
             1376,
             23,
             211,
             20,
             61,
             124,
             97,
             78,
             32,
             7,
             39,
             6,
             10,
             3
            ],
            "sizemode": "area",
            "sizeref": 5
           },
           "mode": "markers",
           "name": "Socializing",
           "text": [
            "Corporate Social Responsibility",
            "Social Networking",
            "Social Enterprise",
            "Social Media Marketing",
            "20's Social",
            "Social Justice",
            "Women's Business Networking",
            "Social Entrepreneurship",
            "Women's Networking",
            "B2B Networking",
            "Social, Social, Social",
            "Networking with HR Professionals",
            "Business Networking International (BNI)",
            "Women Business Networking",
            "Professional Networking for Actors"
           ],
           "x": [
            208,
            113586,
            1584,
            14973,
            2425,
            2207,
            6921,
            5993,
            6222,
            2625,
            107,
            2432,
            154,
            485,
            557
           ],
           "y": [
            0,
            361,
            0,
            182,
            0,
            0,
            119,
            24,
            0,
            12,
            0,
            0,
            50,
            12,
            0
           ]
          },
          {
           "marker": {
            "size": [
             107,
             138,
             14,
             50,
             65,
             43,
             15
            ],
            "sizemode": "area",
            "sizeref": 5
           },
           "mode": "markers",
           "name": "Fashion & Beauty",
           "text": [
            "Fashion Industry",
            "Fashion and Style",
            "Restaurant Industry",
            "Fashion Entrepreneurs",
            "Fashion Design",
            "Clothing and Fashion Designers",
            "Theater Industry"
           ],
           "x": [
            6308,
            10868,
            765,
            3515,
            4551,
            3159,
            1639
           ],
           "y": [
            11,
            124,
            0,
            0,
            0,
            0,
            38
           ]
          },
          {
           "marker": {
            "size": [],
            "sizemode": "area",
            "sizeref": 5
           },
           "mode": "markers",
           "name": null,
           "text": [],
           "x": [],
           "y": []
          },
          {
           "marker": {
            "size": [
             95,
             70,
             97,
             17,
             6,
             6
            ],
            "sizemode": "area",
            "sizeref": 5
           },
           "mode": "markers",
           "name": "Education & Learning",
           "text": [
            "Education",
            "Financial Education",
            "Real Estate Investment Education",
            "Higher Education",
            "Business Education",
            "Investment Education"
           ],
           "x": [
            6440,
            4568,
            5255,
            1495,
            234,
            528
           ],
           "y": [
            50,
            0,
            68,
            0,
            0,
            0
           ]
          },
          {
           "marker": {
            "size": [
             895,
             412,
             10
            ],
            "sizemode": "area",
            "sizeref": 5
           },
           "mode": "markers",
           "name": "Tech",
           "text": [
            "New Technology",
            "Mobile Technology",
            "Technology Innovation"
           ],
           "x": [
            103062,
            47655,
            997
           ],
           "y": [
            126,
            25,
            0
           ]
          },
          {
           "marker": {
            "size": [
             101,
             4,
             1,
             1
            ],
            "sizemode": "area",
            "sizeref": 5
           },
           "mode": "markers",
           "name": "Literature",
           "text": [
            "Literature",
            "Modern literature",
            "African American Literature",
            "Classic literature"
           ],
           "x": [
            5406,
            223,
            316,
            70
           ],
           "y": [
            113,
            1,
            0,
            1
           ]
          },
          {
           "marker": {
            "size": [
             101,
             249,
             56,
             4,
             4
            ],
            "sizemode": "area",
            "sizeref": 5
           },
           "mode": "markers",
           "name": "Writing",
           "text": [
            "Creative Writing",
            "Writing",
            "Writing Workshops",
            "Journal Writing",
            "Acting and Writing"
           ],
           "x": [
            6313,
            12886,
            2744,
            97,
            254
           ],
           "y": [
            123,
            322,
            0,
            0,
            0
           ]
          },
          {
           "marker": {
            "size": [
             55,
             237,
             11,
             6,
             17,
             45,
             6,
             4,
             6,
             5,
             1
            ],
            "sizemode": "area",
            "sizeref": 5
           },
           "mode": "markers",
           "name": "Art & Culture",
           "text": [
            "Fine Arts",
            "Performing Arts",
            "Art Exhibit",
            "Art History",
            "Art Walks and Tours",
            "Art Museums",
            "Art and Culture",
            "Art Creating Art and Perfecting Our Art",
            "Arts and Social Arts",
            "Art Classes",
            "Ceramic Arts"
           ],
           "x": [
            7218,
            33019,
            1317,
            1054,
            3788,
            7039,
            1063,
            156,
            1634,
            1338,
            17
           ],
           "y": [
            174,
            462,
            0,
            0,
            0,
            12,
            0,
            0,
            0,
            0,
            0
           ]
          },
          {
           "marker": {
            "size": [
             34
            ],
            "sizemode": "area",
            "sizeref": 5
           },
           "mode": "markers",
           "name": "Hobbies & Crafts",
           "text": [
            "Handmade Crafts"
           ],
           "x": [
            2639
           ],
           "y": [
            0
           ]
          },
          {
           "marker": {
            "size": [
             380,
             113
            ],
            "sizemode": "area",
            "sizeref": 5
           },
           "mode": "markers",
           "name": "Dancing",
           "text": [
            "Dancing",
            "Dance Lessons"
           ],
           "x": [
            33728,
            13132
           ],
           "y": [
            50,
            50
           ]
          },
          {
           "marker": {
            "size": [
             137,
             12
            ],
            "sizemode": "area",
            "sizeref": 5
           },
           "mode": "markers",
           "name": "LGBT",
           "text": [
            "LGBT Social Group",
            "Friends & Supporters of LGBT/GLBT"
           ],
           "x": [
            7933,
            576
           ],
           "y": [
            0,
            0
           ]
          },
          {
           "marker": {
            "size": [
             10
            ],
            "sizemode": "area",
            "sizeref": 5
           },
           "mode": "markers",
           "name": "Sports & Recreation",
           "text": [
            "Sport Bikes"
           ],
           "x": [
            44
           ],
           "y": [
            0
           ]
          },
          {
           "marker": {
            "size": [
             7
            ],
            "sizemode": "area",
            "sizeref": 5
           },
           "mode": "markers",
           "name": "Book Club",
           "text": [
            "Book Club, Movies"
           ],
           "x": [
            127
           ],
           "y": [
            0
           ]
          }
         ],
         "name": "2016"
        },
        {
         "data": [
          {
           "marker": {
            "size": [
             111,
             97,
             44,
             23,
             67,
             64,
             106,
             38,
             245,
             64,
             77,
             19
            ],
            "sizemode": "area",
            "sizeref": 5
           },
           "mode": "markers",
           "name": "Language & Ethnic Identity",
           "text": [
            "Spanish Language",
            "French Language",
            "Italian Language",
            "Cultural Diversity",
            "Cultural Activities",
            "Japanese Language",
            "English Language",
            "Mandarin Language",
            "Culture Exchange",
            "Latino Culture",
            "Chinese language",
            "European Culture"
           ],
           "x": [
            11754,
            9339,
            4890,
            830,
            7365,
            5528,
            10863,
            3055,
            29908,
            3119,
            6827,
            693
           ],
           "y": [
            5,
            29,
            51,
            25,
            15,
            4,
            2,
            50,
            40,
            3,
            51,
            1
           ]
          },
          {
           "marker": {
            "size": [
             263,
             263,
             68,
             88,
             6
            ],
            "sizemode": "area",
            "sizeref": 5
           },
           "mode": "markers",
           "name": "Photography",
           "text": [
            "Photography",
            "Photography",
            "Model Photography",
            "Fashion Photography",
            "Photography Business"
           ],
           "x": [
            32308,
            32308,
            6682,
            8606,
            1008
           ],
           "y": [
            266,
            12,
            5,
            4,
            13
           ]
          },
          {
           "marker": {
            "size": [
             79,
             168,
             65,
             3,
             3
            ],
            "sizemode": "area",
            "sizeref": 5
           },
           "mode": "markers",
           "name": "Games",
           "text": [
            "Game Development",
            "Games",
            "Game Design",
            "Improv games",
            "Storytelling Games"
           ],
           "x": [
            6703,
            9883,
            4736,
            322,
            190
           ],
           "y": [
            1,
            3,
            2,
            4,
            3
           ]
          },
          {
           "marker": {
            "size": [
             356,
             184
            ],
            "sizemode": "area",
            "sizeref": 5
           },
           "mode": "markers",
           "name": "Food & Drink",
           "text": [
            "Wine",
            "Food and Drink"
           ],
           "x": [
            45112,
            18388
           ],
           "y": [
            48,
            1
           ]
          },
          {
           "marker": {
            "size": [
             13,
             1848,
             29,
             283,
             30,
             101,
             215,
             128,
             147,
             53,
             17,
             50,
             8,
             4,
             23,
             5
            ],
            "sizemode": "area",
            "sizeref": 5
           },
           "mode": "markers",
           "name": "Socializing",
           "text": [
            "Corporate Social Responsibility",
            "Social Networking",
            "Social Enterprise",
            "Social Media Marketing",
            "20's Social",
            "Social Justice",
            "Women's Business Networking",
            "Social Entrepreneurship",
            "Women's Networking",
            "B2B Networking",
            "Social, Social, Social",
            "Networking with HR Professionals",
            "Business Networking International (BNI)",
            "Social Marketing",
            "Women Business Networking",
            "Professional Networking for Actors"
           ],
           "x": [
            489,
            152158,
            2182,
            20977,
            2966,
            8549,
            13001,
            8029,
            11298,
            3511,
            481,
            3481,
            309,
            692,
            1162,
            2691
           ],
           "y": [
            1,
            702,
            12,
            261,
            1,
            2,
            310,
            57,
            18,
            24,
            1,
            1,
            51,
            14,
            12,
            3
           ]
          },
          {
           "marker": {
            "size": [
             136,
             202,
             19,
             70,
             85,
             51,
             16
            ],
            "sizemode": "area",
            "sizeref": 5
           },
           "mode": "markers",
           "name": "Fashion & Beauty",
           "text": [
            "Fashion Industry",
            "Fashion and Style",
            "Restaurant Industry",
            "Fashion Entrepreneurs",
            "Fashion Design",
            "Clothing and Fashion Designers",
            "Theater Industry"
           ],
           "x": [
            9154,
            16751,
            810,
            4874,
            5173,
            3236,
            1807
           ],
           "y": [
            14,
            134,
            1,
            2,
            7,
            1,
            50
           ]
          },
          {
           "marker": {
            "size": [],
            "sizemode": "area",
            "sizeref": 5
           },
           "mode": "markers",
           "name": null,
           "text": [],
           "x": [],
           "y": []
          },
          {
           "marker": {
            "size": [
             160,
             105,
             156,
             19,
             8,
             11
            ],
            "sizemode": "area",
            "sizeref": 5
           },
           "mode": "markers",
           "name": "Education & Learning",
           "text": [
            "Education",
            "Financial Education",
            "Real Estate Investment Education",
            "Higher Education",
            "Business Education",
            "Investment Education"
           ],
           "x": [
            12334,
            6006,
            10133,
            1543,
            331,
            692
           ],
           "y": [
            76,
            18,
            94,
            1,
            3,
            13
           ]
          },
          {
           "marker": {
            "size": [
             1239,
             474,
             14
            ],
            "sizemode": "area",
            "sizeref": 5
           },
           "mode": "markers",
           "name": "Tech",
           "text": [
            "New Technology",
            "Mobile Technology",
            "Technology Innovation"
           ],
           "x": [
            141630,
            55104,
            1144
           ],
           "y": [
            242,
            45,
            4
           ]
          },
          {
           "marker": {
            "size": [
             133,
             6,
             2
            ],
            "sizemode": "area",
            "sizeref": 5
           },
           "mode": "markers",
           "name": "Literature",
           "text": [
            "Literature",
            "Modern literature",
            "Classic literature"
           ],
           "x": [
            7156,
            257,
            70
           ],
           "y": [
            269,
            5,
            1
           ]
          },
          {
           "marker": {
            "size": [
             156,
             311,
             81,
             10
            ],
            "sizemode": "area",
            "sizeref": 5
           },
           "mode": "markers",
           "name": "Writing",
           "text": [
            "Creative Writing",
            "Writing",
            "Writing Workshops",
            "Acting and Writing"
           ],
           "x": [
            11132,
            17342,
            4646,
            671
           ],
           "y": [
            282,
            576,
            32,
            7
           ]
          },
          {
           "marker": {
            "size": [
             94,
             348,
             14,
             19,
             22,
             53,
             7,
             6,
             4
            ],
            "sizemode": "area",
            "sizeref": 5
           },
           "mode": "markers",
           "name": "Art & Culture",
           "text": [
            "Fine Arts",
            "Performing Arts",
            "Art Exhibit",
            "Digital Art",
            "Art Walks and Tours",
            "Art Museums",
            "Art and Culture",
            "Art Creating Art and Perfecting Our Art",
            "Ceramic Arts"
           ],
           "x": [
            11498,
            44001,
            1402,
            1353,
            4422,
            7995,
            1127,
            276,
            213
           ],
           "y": [
            507,
            824,
            3,
            12,
            8,
            20,
            6,
            1,
            13
           ]
          },
          {
           "marker": {
            "size": [
             48
            ],
            "sizemode": "area",
            "sizeref": 5
           },
           "mode": "markers",
           "name": "Hobbies & Crafts",
           "text": [
            "Handmade Crafts"
           ],
           "x": [
            4797
           ],
           "y": [
            18
           ]
          },
          {
           "marker": {
            "size": [
             477,
             169
            ],
            "sizemode": "area",
            "sizeref": 5
           },
           "mode": "markers",
           "name": "Dancing",
           "text": [
            "Dancing",
            "Dance Lessons"
           ],
           "x": [
            41978,
            19028
           ],
           "y": [
            97,
            136
           ]
          },
          {
           "marker": {
            "size": [
             197,
             21
            ],
            "sizemode": "area",
            "sizeref": 5
           },
           "mode": "markers",
           "name": "LGBT",
           "text": [
            "LGBT Social Group",
            "Friends & Supporters of LGBT/GLBT"
           ],
           "x": [
            14956,
            1444
           ],
           "y": [
            1,
            1
           ]
          },
          {
           "marker": {
            "size": [
             18
            ],
            "sizemode": "area",
            "sizeref": 5
           },
           "mode": "markers",
           "name": "Sports & Recreation",
           "text": [
            "Sport Bikes"
           ],
           "x": [
            266
           ],
           "y": [
            3
           ]
          },
          {
           "marker": {
            "size": [],
            "sizemode": "area",
            "sizeref": 5
           },
           "mode": "markers",
           "name": "Book Club",
           "text": [],
           "x": [],
           "y": []
          }
         ],
         "name": "2017"
        }
       ],
       "layout": {
        "hovermode": "closest",
        "sliders": [
         {
          "active": 0,
          "currentvalue": {
           "font": {
            "size": 20
           },
           "prefix": "Year:",
           "visible": true,
           "xanchor": "right"
          },
          "len": 0.9,
          "pad": {
           "b": 10,
           "t": 50
          },
          "steps": [
           {
            "args": [
             [
              2010
             ],
             {
              "frame": {
               "duration": 300,
               "redraw": false
              },
              "mode": "immediate",
              "transition": {
               "duration": 300
              }
             }
            ],
            "label": 2010,
            "method": "animate"
           },
           {
            "args": [
             [
              2011
             ],
             {
              "frame": {
               "duration": 300,
               "redraw": false
              },
              "mode": "immediate",
              "transition": {
               "duration": 300
              }
             }
            ],
            "label": 2011,
            "method": "animate"
           },
           {
            "args": [
             [
              2012
             ],
             {
              "frame": {
               "duration": 300,
               "redraw": false
              },
              "mode": "immediate",
              "transition": {
               "duration": 300
              }
             }
            ],
            "label": 2012,
            "method": "animate"
           },
           {
            "args": [
             [
              2013
             ],
             {
              "frame": {
               "duration": 300,
               "redraw": false
              },
              "mode": "immediate",
              "transition": {
               "duration": 300
              }
             }
            ],
            "label": 2013,
            "method": "animate"
           },
           {
            "args": [
             [
              2014
             ],
             {
              "frame": {
               "duration": 300,
               "redraw": false
              },
              "mode": "immediate",
              "transition": {
               "duration": 300
              }
             }
            ],
            "label": 2014,
            "method": "animate"
           },
           {
            "args": [
             [
              2015
             ],
             {
              "frame": {
               "duration": 300,
               "redraw": false
              },
              "mode": "immediate",
              "transition": {
               "duration": 300
              }
             }
            ],
            "label": 2015,
            "method": "animate"
           },
           {
            "args": [
             [
              2016
             ],
             {
              "frame": {
               "duration": 300,
               "redraw": false
              },
              "mode": "immediate",
              "transition": {
               "duration": 300
              }
             }
            ],
            "label": 2016,
            "method": "animate"
           },
           {
            "args": [
             [
              2017
             ],
             {
              "frame": {
               "duration": 300,
               "redraw": false
              },
              "mode": "immediate",
              "transition": {
               "duration": 300
              }
             }
            ],
            "label": 2017,
            "method": "animate"
           }
          ],
          "transition": {
           "duration": 300,
           "easing": "cubic-in-out"
          },
          "x": 0.1,
          "xanchor": "left",
          "y": 0,
          "yanchor": "top"
         }
        ],
        "updatemenus": [
         {
          "buttons": [
           {
            "args": [
             null,
             {
              "frame": {
               "duration": 500,
               "redraw": false
              },
              "fromcurrent": true,
              "transition": {
               "duration": 300,
               "easing": "quadratic-in-out"
              }
             }
            ],
            "label": "Play",
            "method": "animate"
           },
           {
            "args": [
             [
              null
             ],
             {
              "frame": {
               "duration": 0,
               "redraw": false
              },
              "mode": "immediate",
              "transition": {
               "duration": 0
              }
             }
            ],
            "label": "Pause",
            "method": "animate"
           }
          ],
          "direction": "left",
          "pad": {
           "r": 10,
           "t": 87
          },
          "showactive": false,
          "type": "buttons",
          "x": 0.1,
          "xanchor": "right",
          "y": 0,
          "yanchor": "top"
         }
        ],
        "xaxis": {
         "range": [
          0,
          160000
         ],
         "title": "Number of Members"
        },
        "yaxis": {
         "range": [
          0,
          1000
         ],
         "title": "Number of Events"
        }
       }
      },
      "text/html": [
       "<div id=\"5b276ef3-fd8b-4067-8065-297d523bfd4e\" style=\"height: 525px; width: 100%;\" class=\"plotly-graph-div\"></div><script type=\"text/javascript\">require([\"plotly\"], function(Plotly) { window.PLOTLYENV=window.PLOTLYENV || {};window.PLOTLYENV.BASE_URL=\"https://plot.ly\";\n",
       "        Plotly.plot(\n",
       "            '5b276ef3-fd8b-4067-8065-297d523bfd4e',\n",
       "            [{\"x\": [596.0, 709.0, 539.0, 21.0, 24.0, 467.0, 451.0, 116.0, 891.0, 200.0, 359.0], \"y\": [0.0, 0.0, 0.0, 0.0, 0.0, 0.0, 0.0, 0.0, 0.0, 0.0, 0.0], \"mode\": \"markers\", \"text\": [\"Spanish Language\", \"French Language\", \"Italian Language\", \"Cultural Diversity\", \"Cultural Activities\", \"Japanese Language\", \"English Language\", \"Mandarin Language\", \"Culture Exchange\", \"Latino Culture\", \"Chinese language\"], \"marker\": {\"sizemode\": \"area\", \"sizeref\": 5, \"size\": [23.0, 23.0, 11.0, 3.0, 4.0, 17.0, 8.0, 7.0, 24.0, 14.0, 23.0]}, \"name\": \"Language & Ethnic Identity\"}, {\"x\": [1759.0, 1759.0, 201.0, 248.0], \"y\": [0.0, 0.0, 0.0, 0.0], \"mode\": \"markers\", \"text\": [\"Photography\", \"Photography\", \"Model Photography\", \"Fashion Photography\"], \"marker\": {\"sizemode\": \"area\", \"sizeref\": 5, \"size\": [54.0, 54.0, 8.0, 11.0]}, \"name\": \"Photography\"}, {\"x\": [481.0, 243.0, 322.0], \"y\": [0.0, 0.0, 0.0], \"mode\": \"markers\", \"text\": [\"Game Development\", \"Games\", \"Game Design\"], \"marker\": {\"sizemode\": \"area\", \"sizeref\": 5, \"size\": [12.0, 10.0, 7.0]}, \"name\": \"Games\"}, {\"x\": [2712.0], \"y\": [0.0], \"mode\": \"markers\", \"text\": [\"Wine\"], \"marker\": {\"sizemode\": \"area\", \"sizeref\": 5, \"size\": [85.0]}, \"name\": \"Food & Drink\"}, {\"x\": [77.0, 14164.0, 189.0, 1941.0, 37.0, 115.0, 202.0, 391.0, 125.0, 61.0], \"y\": [0.0, 0.0, 0.0, 0.0, 0.0, 0.0, 0.0, 0.0, 0.0, 0.0], \"mode\": \"markers\", \"text\": [\"Corporate Social Responsibility\", \"Social Networking\", \"Social Enterprise\", \"Social Media Marketing\", \"20's Social\", \"Social Justice\", \"Women's Business Networking\", \"Social Entrepreneurship\", \"Women's Networking\", \"B2B Networking\"], \"marker\": {\"sizemode\": \"area\", \"sizeref\": 5, \"size\": [3.0, 487.0, 5.0, 56.0, 5.0, 7.0, 13.0, 14.0, 6.0, 3.0]}, \"name\": \"Socializing\"}, {\"x\": [920.0, 854.0, 40.0, 261.0, 379.0, 194.0], \"y\": [0.0, 0.0, 0.0, 0.0, 0.0, 0.0], \"mode\": \"markers\", \"text\": [\"Fashion Industry\", \"Fashion and Style\", \"Restaurant Industry\", \"Fashion Entrepreneurs\", \"Fashion Design\", \"Clothing and Fashion Designers\"], \"marker\": {\"sizemode\": \"area\", \"sizeref\": 5, \"size\": [26.0, 23.0, 2.0, 8.0, 13.0, 4.0]}, \"name\": \"Fashion & Beauty\"}, {\"x\": [], \"y\": [], \"mode\": \"markers\", \"text\": [], \"marker\": {\"sizemode\": \"area\", \"sizeref\": 5, \"size\": []}, \"name\": null}, {\"x\": [154.0, 41.0, 35.0, 68.0, 103.0], \"y\": [0.0, 0.0, 0.0, 0.0, 0.0], \"mode\": \"markers\", \"text\": [\"Education\", \"Financial Education\", \"Real Estate Investment Education\", \"Higher Education\", \"Business Education\"], \"marker\": {\"sizemode\": \"area\", \"sizeref\": 5, \"size\": [13.0, 7.0, 8.0, 1.0, 2.0]}, \"name\": \"Education & Learning\"}, {\"x\": [5334.0, 2670.0], \"y\": [0.0, 0.0], \"mode\": \"markers\", \"text\": [\"New Technology\", \"Mobile Technology\"], \"marker\": {\"sizemode\": \"area\", \"sizeref\": 5, \"size\": [113.0, 41.0]}, \"name\": \"Tech\"}, {\"x\": [207.0, 21.0], \"y\": [0.0, 0.0], \"mode\": \"markers\", \"text\": [\"Literature\", \"Modern literature\"], \"marker\": {\"sizemode\": \"area\", \"sizeref\": 5, \"size\": [18.0, 1.0]}, \"name\": \"Literature\"}, {\"x\": [299.0, 1481.0, 66.0], \"y\": [0.0, 0.0, 0.0], \"mode\": \"markers\", \"text\": [\"Creative Writing\", \"Writing\", \"Writing Workshops\"], \"marker\": {\"sizemode\": \"area\", \"sizeref\": 5, \"size\": [16.0, 74.0, 4.0]}, \"name\": \"Writing\"}, {\"x\": [114.0, 1401.0, 2.0], \"y\": [0.0, 0.0, 0.0], \"mode\": \"markers\", \"text\": [\"Fine Arts\", \"Performing Arts\", \"Art Exhibit\"], \"marker\": {\"sizemode\": \"area\", \"sizeref\": 5, \"size\": [5.0, 57.0, 1.0]}, \"name\": \"Art & Culture\"}, {\"x\": [21.0], \"y\": [0.0], \"mode\": \"markers\", \"text\": [\"Handmade Crafts\"], \"marker\": {\"sizemode\": \"area\", \"sizeref\": 5, \"size\": [5.0]}, \"name\": \"Hobbies & Crafts\"}, {\"x\": [3432.0, 309.0], \"y\": [0.0, 0.0], \"mode\": \"markers\", \"text\": [\"Dancing\", \"Dance Lessons\"], \"marker\": {\"sizemode\": \"area\", \"sizeref\": 5, \"size\": [128.0, 21.0]}, \"name\": \"Dancing\"}, {\"x\": [45.0], \"y\": [0.0], \"mode\": \"markers\", \"text\": [\"LGBT Social Group\"], \"marker\": {\"sizemode\": \"area\", \"sizeref\": 5, \"size\": [14.0]}, \"name\": \"LGBT\"}, {\"x\": [], \"y\": [], \"mode\": \"markers\", \"text\": [], \"marker\": {\"sizemode\": \"area\", \"sizeref\": 5, \"size\": []}, \"name\": \"Sports & Recreation\"}, {\"x\": [], \"y\": [], \"mode\": \"markers\", \"text\": [], \"marker\": {\"sizemode\": \"area\", \"sizeref\": 5, \"size\": []}, \"name\": \"Book Club\"}],\n",
       "            {\"xaxis\": {\"range\": [0, 160000.0], \"title\": \"Number of Members\"}, \"yaxis\": {\"range\": [0, 1000], \"title\": \"Number of Events\"}, \"hovermode\": \"closest\", \"sliders\": [{\"active\": 0, \"yanchor\": \"top\", \"xanchor\": \"left\", \"currentvalue\": {\"font\": {\"size\": 20}, \"prefix\": \"Year:\", \"visible\": true, \"xanchor\": \"right\"}, \"transition\": {\"duration\": 300, \"easing\": \"cubic-in-out\"}, \"pad\": {\"b\": 10, \"t\": 50}, \"len\": 0.9, \"x\": 0.1, \"y\": 0, \"steps\": [{\"args\": [[2010], {\"frame\": {\"duration\": 300, \"redraw\": false}, \"mode\": \"immediate\", \"transition\": {\"duration\": 300}}], \"label\": 2010, \"method\": \"animate\"}, {\"args\": [[2011], {\"frame\": {\"duration\": 300, \"redraw\": false}, \"mode\": \"immediate\", \"transition\": {\"duration\": 300}}], \"label\": 2011, \"method\": \"animate\"}, {\"args\": [[2012], {\"frame\": {\"duration\": 300, \"redraw\": false}, \"mode\": \"immediate\", \"transition\": {\"duration\": 300}}], \"label\": 2012, \"method\": \"animate\"}, {\"args\": [[2013], {\"frame\": {\"duration\": 300, \"redraw\": false}, \"mode\": \"immediate\", \"transition\": {\"duration\": 300}}], \"label\": 2013, \"method\": \"animate\"}, {\"args\": [[2014], {\"frame\": {\"duration\": 300, \"redraw\": false}, \"mode\": \"immediate\", \"transition\": {\"duration\": 300}}], \"label\": 2014, \"method\": \"animate\"}, {\"args\": [[2015], {\"frame\": {\"duration\": 300, \"redraw\": false}, \"mode\": \"immediate\", \"transition\": {\"duration\": 300}}], \"label\": 2015, \"method\": \"animate\"}, {\"args\": [[2016], {\"frame\": {\"duration\": 300, \"redraw\": false}, \"mode\": \"immediate\", \"transition\": {\"duration\": 300}}], \"label\": 2016, \"method\": \"animate\"}, {\"args\": [[2017], {\"frame\": {\"duration\": 300, \"redraw\": false}, \"mode\": \"immediate\", \"transition\": {\"duration\": 300}}], \"label\": 2017, \"method\": \"animate\"}]}], \"updatemenus\": [{\"buttons\": [{\"args\": [null, {\"frame\": {\"duration\": 500, \"redraw\": false}, \"fromcurrent\": true, \"transition\": {\"duration\": 300, \"easing\": \"quadratic-in-out\"}}], \"label\": \"Play\", \"method\": \"animate\"}, {\"args\": [[null], {\"frame\": {\"duration\": 0, \"redraw\": false}, \"mode\": \"immediate\", \"transition\": {\"duration\": 0}}], \"label\": \"Pause\", \"method\": \"animate\"}], \"direction\": \"left\", \"pad\": {\"r\": 10, \"t\": 87}, \"showactive\": false, \"type\": \"buttons\", \"x\": 0.1, \"xanchor\": \"right\", \"y\": 0, \"yanchor\": \"top\"}]},\n",
       "            {\"showLink\": true, \"linkText\": \"Export to plot.ly\"}\n",
       "        ).then(function () {return Plotly.addFrames('5b276ef3-fd8b-4067-8065-297d523bfd4e',[{\"data\": [{\"x\": [596.0, 709.0, 539.0, 21.0, 24.0, 467.0, 451.0, 116.0, 891.0, 200.0, 359.0], \"y\": [0.0, 0.0, 0.0, 0.0, 0.0, 0.0, 0.0, 0.0, 0.0, 0.0, 0.0], \"mode\": \"markers\", \"text\": [\"Spanish Language\", \"French Language\", \"Italian Language\", \"Cultural Diversity\", \"Cultural Activities\", \"Japanese Language\", \"English Language\", \"Mandarin Language\", \"Culture Exchange\", \"Latino Culture\", \"Chinese language\"], \"marker\": {\"sizemode\": \"area\", \"sizeref\": 5, \"size\": [23.0, 23.0, 11.0, 3.0, 4.0, 17.0, 8.0, 7.0, 24.0, 14.0, 23.0]}, \"name\": \"Language & Ethnic Identity\"}, {\"x\": [1759.0, 1759.0, 201.0, 248.0], \"y\": [0.0, 0.0, 0.0, 0.0], \"mode\": \"markers\", \"text\": [\"Photography\", \"Photography\", \"Model Photography\", \"Fashion Photography\"], \"marker\": {\"sizemode\": \"area\", \"sizeref\": 5, \"size\": [54.0, 54.0, 8.0, 11.0]}, \"name\": \"Photography\"}, {\"x\": [481.0, 243.0, 322.0], \"y\": [0.0, 0.0, 0.0], \"mode\": \"markers\", \"text\": [\"Game Development\", \"Games\", \"Game Design\"], \"marker\": {\"sizemode\": \"area\", \"sizeref\": 5, \"size\": [12.0, 10.0, 7.0]}, \"name\": \"Games\"}, {\"x\": [2712.0], \"y\": [0.0], \"mode\": \"markers\", \"text\": [\"Wine\"], \"marker\": {\"sizemode\": \"area\", \"sizeref\": 5, \"size\": [85.0]}, \"name\": \"Food & Drink\"}, {\"x\": [77.0, 14164.0, 189.0, 1941.0, 37.0, 115.0, 202.0, 391.0, 125.0, 61.0], \"y\": [0.0, 0.0, 0.0, 0.0, 0.0, 0.0, 0.0, 0.0, 0.0, 0.0], \"mode\": \"markers\", \"text\": [\"Corporate Social Responsibility\", \"Social Networking\", \"Social Enterprise\", \"Social Media Marketing\", \"20's Social\", \"Social Justice\", \"Women's Business Networking\", \"Social Entrepreneurship\", \"Women's Networking\", \"B2B Networking\"], \"marker\": {\"sizemode\": \"area\", \"sizeref\": 5, \"size\": [3.0, 487.0, 5.0, 56.0, 5.0, 7.0, 13.0, 14.0, 6.0, 3.0]}, \"name\": \"Socializing\"}, {\"x\": [920.0, 854.0, 40.0, 261.0, 379.0, 194.0], \"y\": [0.0, 0.0, 0.0, 0.0, 0.0, 0.0], \"mode\": \"markers\", \"text\": [\"Fashion Industry\", \"Fashion and Style\", \"Restaurant Industry\", \"Fashion Entrepreneurs\", \"Fashion Design\", \"Clothing and Fashion Designers\"], \"marker\": {\"sizemode\": \"area\", \"sizeref\": 5, \"size\": [26.0, 23.0, 2.0, 8.0, 13.0, 4.0]}, \"name\": \"Fashion & Beauty\"}, {\"x\": [], \"y\": [], \"mode\": \"markers\", \"text\": [], \"marker\": {\"sizemode\": \"area\", \"sizeref\": 5, \"size\": []}, \"name\": null}, {\"x\": [154.0, 41.0, 35.0, 68.0, 103.0], \"y\": [0.0, 0.0, 0.0, 0.0, 0.0], \"mode\": \"markers\", \"text\": [\"Education\", \"Financial Education\", \"Real Estate Investment Education\", \"Higher Education\", \"Business Education\"], \"marker\": {\"sizemode\": \"area\", \"sizeref\": 5, \"size\": [13.0, 7.0, 8.0, 1.0, 2.0]}, \"name\": \"Education & Learning\"}, {\"x\": [5334.0, 2670.0], \"y\": [0.0, 0.0], \"mode\": \"markers\", \"text\": [\"New Technology\", \"Mobile Technology\"], \"marker\": {\"sizemode\": \"area\", \"sizeref\": 5, \"size\": [113.0, 41.0]}, \"name\": \"Tech\"}, {\"x\": [207.0, 21.0], \"y\": [0.0, 0.0], \"mode\": \"markers\", \"text\": [\"Literature\", \"Modern literature\"], \"marker\": {\"sizemode\": \"area\", \"sizeref\": 5, \"size\": [18.0, 1.0]}, \"name\": \"Literature\"}, {\"x\": [299.0, 1481.0, 66.0], \"y\": [0.0, 0.0, 0.0], \"mode\": \"markers\", \"text\": [\"Creative Writing\", \"Writing\", \"Writing Workshops\"], \"marker\": {\"sizemode\": \"area\", \"sizeref\": 5, \"size\": [16.0, 74.0, 4.0]}, \"name\": \"Writing\"}, {\"x\": [114.0, 1401.0, 2.0], \"y\": [0.0, 0.0, 0.0], \"mode\": \"markers\", \"text\": [\"Fine Arts\", \"Performing Arts\", \"Art Exhibit\"], \"marker\": {\"sizemode\": \"area\", \"sizeref\": 5, \"size\": [5.0, 57.0, 1.0]}, \"name\": \"Art & Culture\"}, {\"x\": [21.0], \"y\": [0.0], \"mode\": \"markers\", \"text\": [\"Handmade Crafts\"], \"marker\": {\"sizemode\": \"area\", \"sizeref\": 5, \"size\": [5.0]}, \"name\": \"Hobbies & Crafts\"}, {\"x\": [3432.0, 309.0], \"y\": [0.0, 0.0], \"mode\": \"markers\", \"text\": [\"Dancing\", \"Dance Lessons\"], \"marker\": {\"sizemode\": \"area\", \"sizeref\": 5, \"size\": [128.0, 21.0]}, \"name\": \"Dancing\"}, {\"x\": [45.0], \"y\": [0.0], \"mode\": \"markers\", \"text\": [\"LGBT Social Group\"], \"marker\": {\"sizemode\": \"area\", \"sizeref\": 5, \"size\": [14.0]}, \"name\": \"LGBT\"}, {\"x\": [], \"y\": [], \"mode\": \"markers\", \"text\": [], \"marker\": {\"sizemode\": \"area\", \"sizeref\": 5, \"size\": []}, \"name\": \"Sports & Recreation\"}, {\"x\": [], \"y\": [], \"mode\": \"markers\", \"text\": [], \"marker\": {\"sizemode\": \"area\", \"sizeref\": 5, \"size\": []}, \"name\": \"Book Club\"}], \"name\": \"2010\"}, {\"data\": [{\"x\": [596.0, 789.0, 621.0, 186.0, 495.0, 458.0, 177.0, 1034.0, 277.0, 563.0], \"y\": [0.0, 0.0, 0.0, 0.0, 0.0, 0.0, 0.0, 0.0, 0.0, 0.0], \"mode\": \"markers\", \"text\": [\"Spanish Language\", \"French Language\", \"Italian Language\", \"Cultural Activities\", \"Japanese Language\", \"English Language\", \"Mandarin Language\", \"Culture Exchange\", \"Latino Culture\", \"Chinese language\"], \"marker\": {\"sizemode\": \"area\", \"sizeref\": 5, \"size\": [24.0, 25.0, 13.0, 8.0, 19.0, 10.0, 10.0, 30.0, 15.0, 28.0]}, \"name\": \"Language & Ethnic Identity\"}, {\"x\": [2416.0, 2416.0, 322.0, 400.0], \"y\": [0.0, 12.0, 0.0, 0.0], \"mode\": \"markers\", \"text\": [\"Photography\", \"Photography\", \"Model Photography\", \"Fashion Photography\"], \"marker\": {\"sizemode\": \"area\", \"sizeref\": 5, \"size\": [71.0, 71.0, 11.0, 15.0]}, \"name\": \"Photography\"}, {\"x\": [1152.0, 771.0, 744.0], \"y\": [0.0, 0.0, 0.0], \"mode\": \"markers\", \"text\": [\"Game Development\", \"Games\", \"Game Design\"], \"marker\": {\"sizemode\": \"area\", \"sizeref\": 5, \"size\": [21.0, 17.0, 11.0]}, \"name\": \"Games\"}, {\"x\": [4208.0, 554.0], \"y\": [0.0, 0.0], \"mode\": \"markers\", \"text\": [\"Wine\", \"Food and Drink\"], \"marker\": {\"sizemode\": \"area\", \"sizeref\": 5, \"size\": [103.0, 11.0]}, \"name\": \"Food & Drink\"}, {\"x\": [97.0, 19343.0, 245.0, 3377.0, 69.0, 201.0, 556.0, 442.0, 69.0, 29.0], \"y\": [0.0, 0.0, 0.0, 0.0, 0.0, 0.0, 0.0, 0.0, 0.0, 0.0], \"mode\": \"markers\", \"text\": [\"Corporate Social Responsibility\", \"Social Networking\", \"Social Enterprise\", \"Social Media Marketing\", \"20's Social\", \"Social Justice\", \"Women's Business Networking\", \"Social Entrepreneurship\", \"Social, Social, Social\", \"Networking with HR Professionals\"], \"marker\": {\"sizemode\": \"area\", \"sizeref\": 5, \"size\": [4.0, 612.0, 7.0, 71.0, 7.0, 11.0, 23.0, 16.0, 1.0, 2.0]}, \"name\": \"Socializing\"}, {\"x\": [1322.0, 991.0, 110.0, 316.0, 553.0], \"y\": [0.0, 0.0, 0.0, 0.0, 0.0], \"mode\": \"markers\", \"text\": [\"Fashion Industry\", \"Fashion and Style\", \"Restaurant Industry\", \"Fashion Entrepreneurs\", \"Fashion Design\"], \"marker\": {\"sizemode\": \"area\", \"sizeref\": 5, \"size\": [37.0, 32.0, 3.0, 11.0, 18.0]}, \"name\": \"Fashion & Beauty\"}, {\"x\": [], \"y\": [], \"mode\": \"markers\", \"text\": [], \"marker\": {\"sizemode\": \"area\", \"sizeref\": 5, \"size\": []}, \"name\": null}, {\"x\": [156.0, 57.0, 54.0], \"y\": [0.0, 0.0, 0.0], \"mode\": \"markers\", \"text\": [\"Education\", \"Financial Education\", \"Real Estate Investment Education\"], \"marker\": {\"sizemode\": \"area\", \"sizeref\": 5, \"size\": [15.0, 9.0, 9.0]}, \"name\": \"Education & Learning\"}, {\"x\": [8906.0, 6522.0], \"y\": [0.0, 0.0], \"mode\": \"markers\", \"text\": [\"New Technology\", \"Mobile Technology\"], \"marker\": {\"sizemode\": \"area\", \"sizeref\": 5, \"size\": [169.0, 85.0]}, \"name\": \"Tech\"}, {\"x\": [502.0], \"y\": [0.0], \"mode\": \"markers\", \"text\": [\"Literature\"], \"marker\": {\"sizemode\": \"area\", \"sizeref\": 5, \"size\": [24.0]}, \"name\": \"Literature\"}, {\"x\": [523.0, 2003.0, 132.0], \"y\": [0.0, 0.0, 0.0], \"mode\": \"markers\", \"text\": [\"Creative Writing\", \"Writing\", \"Writing Workshops\"], \"marker\": {\"sizemode\": \"area\", \"sizeref\": 5, \"size\": [18.0, 95.0, 7.0]}, \"name\": \"Writing\"}, {\"x\": [181.0, 1952.0, 2.0, 446.0, 120.0, 183.0, 192.0], \"y\": [0.0, 0.0, 0.0, 0.0, 0.0, 0.0, 0.0], \"mode\": \"markers\", \"text\": [\"Fine Arts\", \"Performing Arts\", \"Art Exhibit\", \"Digital Art\", \"Art History\", \"Art Walks and Tours\", \"Art Museums\"], \"marker\": {\"sizemode\": \"area\", \"sizeref\": 5, \"size\": [8.0, 76.0, 2.0, 7.0, 2.0, 2.0, 6.0]}, \"name\": \"Art & Culture\"}, {\"x\": [187.0], \"y\": [0.0], \"mode\": \"markers\", \"text\": [\"Handmade Crafts\"], \"marker\": {\"sizemode\": \"area\", \"sizeref\": 5, \"size\": [8.0]}, \"name\": \"Hobbies & Crafts\"}, {\"x\": [4694.0, 615.0], \"y\": [0.0, 0.0], \"mode\": \"markers\", \"text\": [\"Dancing\", \"Dance Lessons\"], \"marker\": {\"sizemode\": \"area\", \"sizeref\": 5, \"size\": [161.0, 27.0]}, \"name\": \"Dancing\"}, {\"x\": [104.0, 0.0], \"y\": [0.0, 0.0], \"mode\": \"markers\", \"text\": [\"LGBT Social Group\", \"Friends & Supporters of LGBT/GLBT\"], \"marker\": {\"sizemode\": \"area\", \"sizeref\": 5, \"size\": [22.0, 1.0]}, \"name\": \"LGBT\"}, {\"x\": [19.0], \"y\": [0.0], \"mode\": \"markers\", \"text\": [\"Sport Bikes\"], \"marker\": {\"sizemode\": \"area\", \"sizeref\": 5, \"size\": [5.0]}, \"name\": \"Sports & Recreation\"}, {\"x\": [], \"y\": [], \"mode\": \"markers\", \"text\": [], \"marker\": {\"sizemode\": \"area\", \"sizeref\": 5, \"size\": []}, \"name\": \"Book Club\"}], \"name\": \"2011\"}, {\"data\": [{\"x\": [1852.0, 1928.0, 1756.0, 27.0, 295.0, 1757.0, 1093.0, 201.0, 1504.0, 430.0, 1665.0, 104.0], \"y\": [0.0, 0.0, 0.0, 0.0, 0.0, 0.0, 0.0, 0.0, 12.0, 0.0, 0.0, 0.0], \"mode\": \"markers\", \"text\": [\"Spanish Language\", \"French Language\", \"Italian Language\", \"Cultural Diversity\", \"Cultural Activities\", \"Japanese Language\", \"English Language\", \"Mandarin Language\", \"Culture Exchange\", \"Latino Culture\", \"Chinese language\", \"European Culture\"], \"marker\": {\"sizemode\": \"area\", \"sizeref\": 5, \"size\": [34.0, 31.0, 17.0, 4.0, 12.0, 28.0, 21.0, 12.0, 43.0, 24.0, 30.0, 9.0]}, \"name\": \"Language & Ethnic Identity\"}, {\"x\": [3264.0, 3264.0, 545.0, 623.0, 113.0], \"y\": [100.0, 12.0, 0.0, 0.0, 0.0], \"mode\": \"markers\", \"text\": [\"Photography\", \"Photography\", \"Model Photography\", \"Fashion Photography\", \"Photography Business\"], \"marker\": {\"sizemode\": \"area\", \"sizeref\": 5, \"size\": [94.0, 94.0, 20.0, 25.0, 1.0]}, \"name\": \"Photography\"}, {\"x\": [1236.0, 1169.0, 768.0], \"y\": [0.0, 0.0, 0.0], \"mode\": \"markers\", \"text\": [\"Game Development\", \"Games\", \"Game Design\"], \"marker\": {\"sizemode\": \"area\", \"sizeref\": 5, \"size\": [23.0, 23.0, 13.0]}, \"name\": \"Games\"}, {\"x\": [5481.0, 728.0], \"y\": [0.0, 0.0], \"mode\": \"markers\", \"text\": [\"Wine\", \"Food and Drink\"], \"marker\": {\"sizemode\": \"area\", \"sizeref\": 5, \"size\": [122.0, 13.0]}, \"name\": \"Food & Drink\"}, {\"x\": [137.0, 25805.0, 303.0, 4521.0, 69.0, 224.0, 990.0, 832.0, 228.0, 29.0, 24.0], \"y\": [0.0, 112.0, 0.0, 0.0, 0.0, 0.0, 0.0, 0.0, 0.0, 0.0, 0.0], \"mode\": \"markers\", \"text\": [\"Corporate Social Responsibility\", \"Social Networking\", \"Social Enterprise\", \"Social Media Marketing\", \"20's Social\", \"Social Justice\", \"Women's Business Networking\", \"Social Entrepreneurship\", \"Women's Networking\", \"Networking with HR Professionals\", \"Business Networking International (BNI)\"], \"marker\": {\"sizemode\": \"area\", \"sizeref\": 5, \"size\": [6.0, 721.0, 8.0, 90.0, 8.0, 14.0, 35.0, 23.0, 9.0, 3.0, 1.0]}, \"name\": \"Socializing\"}, {\"x\": [2037.0, 1329.0, 133.0, 618.0, 572.0, 286.0, 208.0], \"y\": [0.0, 100.0, 0.0, 0.0, 0.0, 0.0, 0.0], \"mode\": \"markers\", \"text\": [\"Fashion Industry\", \"Fashion and Style\", \"Restaurant Industry\", \"Fashion Entrepreneurs\", \"Fashion Design\", \"Clothing and Fashion Designers\", \"Theater Industry\"], \"marker\": {\"sizemode\": \"area\", \"sizeref\": 5, \"size\": [52.0, 43.0, 5.0, 16.0, 22.0, 8.0, 5.0]}, \"name\": \"Fashion & Beauty\"}, {\"x\": [], \"y\": [], \"mode\": \"markers\", \"text\": [], \"marker\": {\"sizemode\": \"area\", \"sizeref\": 5, \"size\": []}, \"name\": null}, {\"x\": [256.0, 342.0, 81.0, 571.0, 24.0], \"y\": [0.0, 0.0, 0.0, 0.0, 0.0], \"mode\": \"markers\", \"text\": [\"Education\", \"Financial Education\", \"Real Estate Investment Education\", \"Higher Education\", \"Trader Education\"], \"marker\": {\"sizemode\": \"area\", \"sizeref\": 5, \"size\": [19.0, 14.0, 12.0, 5.0, 3.0]}, \"name\": \"Education & Learning\"}, {\"x\": [18529.0, 10980.0, 119.0], \"y\": [0.0, 0.0, 0.0], \"mode\": \"markers\", \"text\": [\"New Technology\", \"Mobile Technology\", \"Technology Innovation\"], \"marker\": {\"sizemode\": \"area\", \"sizeref\": 5, \"size\": [264.0, 122.0, 1.0]}, \"name\": \"Tech\"}, {\"x\": [842.0, 56.0, 85.0], \"y\": [0.0, 0.0, 0.0], \"mode\": \"markers\", \"text\": [\"Literature\", \"Modern literature\", \"Comparative Literature\"], \"marker\": {\"sizemode\": \"area\", \"sizeref\": 5, \"size\": [34.0, 2.0, 1.0]}, \"name\": \"Literature\"}, {\"x\": [959.0, 3080.0, 294.0], \"y\": [0.0, 100.0, 0.0], \"mode\": \"markers\", \"text\": [\"Creative Writing\", \"Writing\", \"Writing Workshops\"], \"marker\": {\"sizemode\": \"area\", \"sizeref\": 5, \"size\": [27.0, 120.0, 12.0]}, \"name\": \"Writing\"}, {\"x\": [466.0, 3141.0, 93.0, 758.0, 160.0, 539.0, 464.0, 185.0], \"y\": [50.0, 112.0, 0.0, 0.0, 0.0, 0.0, 0.0, 0.0], \"mode\": \"markers\", \"text\": [\"Fine Arts\", \"Performing Arts\", \"Art Exhibit\", \"Digital Art\", \"Art History\", \"Art Walks and Tours\", \"Art Museums\", \"Art and Culture\"], \"marker\": {\"sizemode\": \"area\", \"sizeref\": 5, \"size\": [11.0, 98.0, 3.0, 11.0, 3.0, 4.0, 11.0, 2.0]}, \"name\": \"Art & Culture\"}, {\"x\": [303.0], \"y\": [0.0], \"mode\": \"markers\", \"text\": [\"Handmade Crafts\"], \"marker\": {\"sizemode\": \"area\", \"sizeref\": 5, \"size\": [9.0]}, \"name\": \"Hobbies & Crafts\"}, {\"x\": [5669.0, 806.0], \"y\": [0.0, 0.0], \"mode\": \"markers\", \"text\": [\"Dancing\", \"Dance Lessons\"], \"marker\": {\"sizemode\": \"area\", \"sizeref\": 5, \"size\": [192.0, 34.0]}, \"name\": \"Dancing\"}, {\"x\": [410.0], \"y\": [0.0], \"mode\": \"markers\", \"text\": [\"LGBT Social Group\"], \"marker\": {\"sizemode\": \"area\", \"sizeref\": 5, \"size\": [33.0]}, \"name\": \"LGBT\"}, {\"x\": [], \"y\": [], \"mode\": \"markers\", \"text\": [], \"marker\": {\"sizemode\": \"area\", \"sizeref\": 5, \"size\": []}, \"name\": \"Sports & Recreation\"}, {\"x\": [], \"y\": [], \"mode\": \"markers\", \"text\": [], \"marker\": {\"sizemode\": \"area\", \"sizeref\": 5, \"size\": []}, \"name\": \"Book Club\"}], \"name\": \"2012\"}, {\"data\": [{\"x\": [2310.0, 2363.0, 2153.0, 32.0, 700.0, 2172.0, 1243.0, 522.0, 2010.0, 555.0, 1665.0, 125.0], \"y\": [0.0, 0.0, 0.0, 0.0, 0.0, 0.0, 0.0, 0.0, 12.0, 0.0, 0.0, 0.0], \"mode\": \"markers\", \"text\": [\"Spanish Language\", \"French Language\", \"Italian Language\", \"Cultural Diversity\", \"Cultural Activities\", \"Japanese Language\", \"English Language\", \"Mandarin Language\", \"Culture Exchange\", \"Latino Culture\", \"Chinese language\", \"European Culture\"], \"marker\": {\"sizemode\": \"area\", \"sizeref\": 5, \"size\": [40.0, 37.0, 22.0, 6.0, 16.0, 31.0, 30.0, 13.0, 50.0, 29.0, 31.0, 10.0]}, \"name\": \"Language & Ethnic Identity\"}, {\"x\": [3442.0, 3442.0, 545.0, 623.0], \"y\": [100.0, 12.0, 0.0, 0.0], \"mode\": \"markers\", \"text\": [\"Photography\", \"Photography\", \"Model Photography\", \"Fashion Photography\"], \"marker\": {\"sizemode\": \"area\", \"sizeref\": 5, \"size\": [100.0, 100.0, 24.0, 27.0]}, \"name\": \"Photography\"}, {\"x\": [2131.0, 1514.0, 1912.0, 169.0], \"y\": [0.0, 0.0, 0.0, 0.0], \"mode\": \"markers\", \"text\": [\"Game Development\", \"Games\", \"Game Design\", \"Improv games\"], \"marker\": {\"sizemode\": \"area\", \"sizeref\": 5, \"size\": [35.0, 33.0, 27.0, 1.0]}, \"name\": \"Games\"}, {\"x\": [6747.0, 1406.0], \"y\": [0.0, 0.0], \"mode\": \"markers\", \"text\": [\"Wine\", \"Food and Drink\"], \"marker\": {\"sizemode\": \"area\", \"sizeref\": 5, \"size\": [141.0, 20.0]}, \"name\": \"Food & Drink\"}, {\"x\": [30240.0, 553.0, 6136.0, 301.0, 487.0, 1267.0, 1366.0, 298.0, 371.0, 45.0, 43.0, 669.0], \"y\": [112.0, 0.0, 0.0, 0.0, 0.0, 0.0, 0.0, 0.0, 0.0, 0.0, 0.0, 0.0], \"mode\": \"markers\", \"text\": [\"Social Networking\", \"Social Enterprise\", \"Social Media Marketing\", \"20's Social\", \"Social Justice\", \"Women's Business Networking\", \"Social Entrepreneurship\", \"Women's Networking\", \"B2B Networking\", \"Networking with HR Professionals\", \"Business Networking International (BNI)\", \"Social Marketing\"], \"marker\": {\"sizemode\": \"area\", \"sizeref\": 5, \"size\": [783.0, 11.0, 114.0, 10.0, 19.0, 47.0, 32.0, 11.0, 12.0, 6.0, 2.0, 3.0]}, \"name\": \"Socializing\"}, {\"x\": [2253.0, 2037.0, 865.0, 808.0, 509.0], \"y\": [0.0, 100.0, 0.0, 0.0, 0.0], \"mode\": \"markers\", \"text\": [\"Fashion Industry\", \"Fashion and Style\", \"Fashion Entrepreneurs\", \"Fashion Design\", \"Clothing and Fashion Designers\"], \"marker\": {\"sizemode\": \"area\", \"sizeref\": 5, \"size\": [60.0, 56.0, 20.0, 28.0, 14.0]}, \"name\": \"Fashion & Beauty\"}, {\"x\": [], \"y\": [], \"mode\": \"markers\", \"text\": [], \"marker\": {\"sizemode\": \"area\", \"sizeref\": 5, \"size\": []}, \"name\": null}, {\"x\": [604.0, 591.0, 184.0, 942.0, 5.0], \"y\": [0.0, 0.0, 2.0, 0.0, 0.0], \"mode\": \"markers\", \"text\": [\"Education\", \"Financial Education\", \"Real Estate Investment Education\", \"Higher Education\", \"Investment Education\"], \"marker\": {\"sizemode\": \"area\", \"sizeref\": 5, \"size\": [23.0, 22.0, 23.0, 9.0, 2.0]}, \"name\": \"Education & Learning\"}, {\"x\": [27408.0, 15543.0, 296.0], \"y\": [1.0, 0.0, 0.0], \"mode\": \"markers\", \"text\": [\"New Technology\", \"Mobile Technology\", \"Technology Innovation\"], \"marker\": {\"sizemode\": \"area\", \"sizeref\": 5, \"size\": [345.0, 188.0, 2.0]}, \"name\": \"Tech\"}, {\"x\": [1156.0], \"y\": [0.0], \"mode\": \"markers\", \"text\": [\"Literature\"], \"marker\": {\"sizemode\": \"area\", \"sizeref\": 5, \"size\": [48.0]}, \"name\": \"Literature\"}, {\"x\": [1173.0, 3707.0, 347.0, 71.0], \"y\": [0.0, 100.0, 0.0, 0.0], \"mode\": \"markers\", \"text\": [\"Creative Writing\", \"Writing\", \"Writing Workshops\", \"Journal Writing\"], \"marker\": {\"sizemode\": \"area\", \"sizeref\": 5, \"size\": [39.0, 142.0, 17.0, 2.0]}, \"name\": \"Writing\"}, {\"x\": [630.0, 4673.0, 209.0, 1017.0, 1043.0, 1060.0, 35.0, 136.0], \"y\": [50.0, 112.0, 0.0, 0.0, 0.0, 0.0, 0.0, 0.0], \"mode\": \"markers\", \"text\": [\"Fine Arts\", \"Performing Arts\", \"Art Exhibit\", \"Digital Art\", \"Art Walks and Tours\", \"Art Museums\", \"Art Creating Art and Perfecting Our Art\", \"Arts and Social Arts\"], \"marker\": {\"sizemode\": \"area\", \"sizeref\": 5, \"size\": [13.0, 115.0, 5.0, 14.0, 8.0, 17.0, 1.0, 1.0]}, \"name\": \"Art & Culture\"}, {\"x\": [521.0], \"y\": [0.0], \"mode\": \"markers\", \"text\": [\"Handmade Crafts\"], \"marker\": {\"sizemode\": \"area\", \"sizeref\": 5, \"size\": [14.0]}, \"name\": \"Hobbies & Crafts\"}, {\"x\": [7714.0, 1087.0], \"y\": [0.0, 0.0], \"mode\": \"markers\", \"text\": [\"Dancing\", \"Dance Lessons\"], \"marker\": {\"sizemode\": \"area\", \"sizeref\": 5, \"size\": [216.0, 43.0]}, \"name\": \"Dancing\"}, {\"x\": [926.0, 0.0], \"y\": [0.0, 0.0], \"mode\": \"markers\", \"text\": [\"LGBT Social Group\", \"Friends & Supporters of LGBT/GLBT\"], \"marker\": {\"sizemode\": \"area\", \"sizeref\": 5, \"size\": [45.0, 2.0]}, \"name\": \"LGBT\"}, {\"x\": [19.0], \"y\": [0.0], \"mode\": \"markers\", \"text\": [\"Sport Bikes\"], \"marker\": {\"sizemode\": \"area\", \"sizeref\": 5, \"size\": [6.0]}, \"name\": \"Sports & Recreation\"}, {\"x\": [51.0], \"y\": [0.0], \"mode\": \"markers\", \"text\": [\"Book Club, Movies\"], \"marker\": {\"sizemode\": \"area\", \"sizeref\": 5, \"size\": [2.0]}, \"name\": \"Book Club\"}], \"name\": \"2013\"}, {\"data\": [{\"x\": [2760.0, 2700.0, 2467.0, 39.0, 886.0, 2704.0, 1557.0, 732.0, 2404.0, 570.0, 2358.0, 149.0], \"y\": [0.0, 0.0, 0.0, 0.0, 12.0, 0.0, 0.0, 0.0, 12.0, 0.0, 0.0, 0.0], \"mode\": \"markers\", \"text\": [\"Spanish Language\", \"French Language\", \"Italian Language\", \"Cultural Diversity\", \"Cultural Activities\", \"Japanese Language\", \"English Language\", \"Mandarin Language\", \"Culture Exchange\", \"Latino Culture\", \"Chinese language\", \"European Culture\"], \"marker\": {\"sizemode\": \"area\", \"sizeref\": 5, \"size\": [49.0, 43.0, 29.0, 8.0, 19.0, 37.0, 43.0, 19.0, 66.0, 31.0, 41.0, 13.0]}, \"name\": \"Language & Ethnic Identity\"}, {\"x\": [5198.0, 5198.0, 973.0, 1409.0], \"y\": [100.0, 12.0, 0.0, 0.0], \"mode\": \"markers\", \"text\": [\"Photography\", \"Photography\", \"Model Photography\", \"Fashion Photography\"], \"marker\": {\"sizemode\": \"area\", \"sizeref\": 5, \"size\": [131.0, 131.0, 34.0, 40.0]}, \"name\": \"Photography\"}, {\"x\": [2871.0, 1974.0, 2237.0], \"y\": [0.0, 0.0, 0.0], \"mode\": \"markers\", \"text\": [\"Game Development\", \"Games\", \"Game Design\"], \"marker\": {\"sizemode\": \"area\", \"sizeref\": 5, \"size\": [46.0, 46.0, 35.0]}, \"name\": \"Games\"}, {\"x\": [8388.0, 1506.0], \"y\": [0.0, 0.0], \"mode\": \"markers\", \"text\": [\"Wine\", \"Food and Drink\"], \"marker\": {\"sizemode\": \"area\", \"sizeref\": 5, \"size\": [161.0, 24.0]}, \"name\": \"Food & Drink\"}, {\"x\": [40181.0, 705.0, 7222.0, 428.0, 659.0, 1491.0, 2100.0, 482.0, 787.0, 92.0, 380.0, 356.0], \"y\": [126.0, 0.0, 50.0, 0.0, 0.0, 12.0, 12.0, 0.0, 0.0, 0.0, 0.0, 12.0], \"mode\": \"markers\", \"text\": [\"Social Networking\", \"Social Enterprise\", \"Social Media Marketing\", \"20's Social\", \"Social Justice\", \"Women's Business Networking\", \"Social Entrepreneurship\", \"Women's Networking\", \"B2B Networking\", \"Social, Social, Social\", \"Networking with HR Professionals\", \"Women Business Networking\"], \"marker\": {\"sizemode\": \"area\", \"sizeref\": 5, \"size\": [936.0, 14.0, 135.0, 11.0, 27.0, 58.0, 41.0, 20.0, 14.0, 2.0, 11.0, 6.0]}, \"name\": \"Socializing\"}, {\"x\": [2483.0, 2632.0, 654.0, 953.0, 1124.0, 631.0, 461.0], \"y\": [0.0, 100.0, 0.0, 0.0, 0.0, 0.0, 12.0], \"mode\": \"markers\", \"text\": [\"Fashion Industry\", \"Fashion and Style\", \"Restaurant Industry\", \"Fashion Entrepreneurs\", \"Fashion Design\", \"Clothing and Fashion Designers\", \"Theater Industry\"], \"marker\": {\"sizemode\": \"area\", \"sizeref\": 5, \"size\": [67.0, 71.0, 9.0, 23.0, 35.0, 19.0, 8.0]}, \"name\": \"Fashion & Beauty\"}, {\"x\": [], \"y\": [], \"mode\": \"markers\", \"text\": [], \"marker\": {\"sizemode\": \"area\", \"sizeref\": 5, \"size\": []}, \"name\": null}, {\"x\": [1683.0, 1406.0, 1080.0, 1187.0, 158.0, 56.0], \"y\": [0.0, 0.0, 29.0, 0.0, 0.0, 0.0], \"mode\": \"markers\", \"text\": [\"Education\", \"Financial Education\", \"Real Estate Investment Education\", \"Higher Education\", \"Business Education\", \"Investment Education\"], \"marker\": {\"sizemode\": \"area\", \"sizeref\": 5, \"size\": [40.0, 28.0, 36.0, 11.0, 3.0, 4.0]}, \"name\": \"Education & Learning\"}, {\"x\": [45016.0, 25468.0, 480.0], \"y\": [2.0, 0.0, 0.0], \"mode\": \"markers\", \"text\": [\"New Technology\", \"Mobile Technology\", \"Technology Innovation\"], \"marker\": {\"sizemode\": \"area\", \"sizeref\": 5, \"size\": [498.0, 263.0, 5.0]}, \"name\": \"Tech\"}, {\"x\": [1488.0], \"y\": [112.0], \"mode\": \"markers\", \"text\": [\"Literature\"], \"marker\": {\"sizemode\": \"area\", \"sizeref\": 5, \"size\": [61.0]}, \"name\": \"Literature\"}, {\"x\": [1961.0, 5818.0, 568.0], \"y\": [62.0, 100.0, 0.0], \"mode\": \"markers\", \"text\": [\"Creative Writing\", \"Writing\", \"Writing Workshops\"], \"marker\": {\"sizemode\": \"area\", \"sizeref\": 5, \"size\": [56.0, 181.0, 27.0]}, \"name\": \"Writing\"}, {\"x\": [1085.0, 6883.0, 233.0, 1102.0, 1590.0, 1443.0, 107.0, 164.0], \"y\": [50.0, 174.0, 0.0, 0.0, 0.0, 0.0, 0.0, 0.0], \"mode\": \"markers\", \"text\": [\"Fine Arts\", \"Performing Arts\", \"Art Exhibit\", \"Digital Art\", \"Art Walks and Tours\", \"Art Museums\", \"Art Creating Art and Perfecting Our Art\", \"Arts and Social Arts\"], \"marker\": {\"sizemode\": \"area\", \"sizeref\": 5, \"size\": [23.0, 149.0, 6.0, 16.0, 10.0, 22.0, 3.0, 3.0]}, \"name\": \"Art & Culture\"}, {\"x\": [759.0], \"y\": [0.0], \"mode\": \"markers\", \"text\": [\"Handmade Crafts\"], \"marker\": {\"sizemode\": \"area\", \"sizeref\": 5, \"size\": [20.0]}, \"name\": \"Hobbies & Crafts\"}, {\"x\": [11751.0, 1701.0], \"y\": [0.0, 0.0], \"mode\": \"markers\", \"text\": [\"Dancing\", \"Dance Lessons\"], \"marker\": {\"sizemode\": \"area\", \"sizeref\": 5, \"size\": [265.0, 64.0]}, \"name\": \"Dancing\"}, {\"x\": [1928.0, 58.0], \"y\": [0.0, 0.0], \"mode\": \"markers\", \"text\": [\"LGBT Social Group\", \"Friends & Supporters of LGBT/GLBT\"], \"marker\": {\"sizemode\": \"area\", \"sizeref\": 5, \"size\": [67.0, 3.0]}, \"name\": \"LGBT\"}, {\"x\": [44.0], \"y\": [0.0], \"mode\": \"markers\", \"text\": [\"Sport Bikes\"], \"marker\": {\"sizemode\": \"area\", \"sizeref\": 5, \"size\": [8.0]}, \"name\": \"Sports & Recreation\"}, {\"x\": [102.0], \"y\": [0.0], \"mode\": \"markers\", \"text\": [\"Book Club, Movies\"], \"marker\": {\"sizemode\": \"area\", \"sizeref\": 5, \"size\": [3.0]}, \"name\": \"Book Club\"}], \"name\": \"2014\"}, {\"data\": [{\"x\": [4654.0, 5190.0, 3303.0, 389.0, 2707.0, 2728.0, 3751.0, 1319.0, 8977.0, 896.0, 3457.0, 181.0], \"y\": [0.0, 0.0, 0.0, 0.0, 12.0, 0.0, 0.0, 0.0, 12.0, 0.0, 0.0, 0.0], \"mode\": \"markers\", \"text\": [\"Spanish Language\", \"French Language\", \"Italian Language\", \"Cultural Diversity\", \"Cultural Activities\", \"Japanese Language\", \"English Language\", \"Mandarin Language\", \"Culture Exchange\", \"Latino Culture\", \"Chinese language\", \"European Culture\"], \"marker\": {\"sizemode\": \"area\", \"sizeref\": 5, \"size\": [64.0, 55.0, 33.0, 12.0, 27.0, 40.0, 54.0, 24.0, 106.0, 40.0, 49.0, 14.0]}, \"name\": \"Language & Ethnic Identity\"}, {\"x\": [9683.0, 9683.0, 1382.0, 2074.0, 858.0], \"y\": [112.0, 12.0, 0.0, 0.0, 0.0], \"mode\": \"markers\", \"text\": [\"Photography\", \"Photography\", \"Model Photography\", \"Fashion Photography\", \"Photography Business\"], \"marker\": {\"sizemode\": \"area\", \"sizeref\": 5, \"size\": [157.0, 157.0, 42.0, 47.0, 4.0]}, \"name\": \"Photography\"}, {\"x\": [4085.0, 4835.0, 2860.0], \"y\": [0.0, 0.0, 0.0], \"mode\": \"markers\", \"text\": [\"Game Development\", \"Games\", \"Game Design\"], \"marker\": {\"sizemode\": \"area\", \"sizeref\": 5, \"size\": [58.0, 76.0, 44.0]}, \"name\": \"Games\"}, {\"x\": [14126.0, 4783.0], \"y\": [0.0, 0.0], \"mode\": \"markers\", \"text\": [\"Wine\", \"Food and Drink\"], \"marker\": {\"sizemode\": \"area\", \"sizeref\": 5, \"size\": [195.0, 59.0]}, \"name\": \"Food & Drink\"}, {\"x\": [168.0, 73835.0, 1236.0, 9643.0, 1787.0, 1365.0, 3765.0, 3249.0, 2337.0, 2415.0, 92.0, 1022.0, 99.0, 395.0, 62.0], \"y\": [0.0, 151.0, 0.0, 62.0, 0.0, 0.0, 35.0, 12.0, 0.0, 0.0, 0.0, 0.0, 50.0, 12.0, 0.0], \"mode\": \"markers\", \"text\": [\"Corporate Social Responsibility\", \"Social Networking\", \"Social Enterprise\", \"Social Media Marketing\", \"20's Social\", \"Social Justice\", \"Women's Business Networking\", \"Social Entrepreneurship\", \"Women's Networking\", \"B2B Networking\", \"Social, Social, Social\", \"Networking with HR Professionals\", \"Business Networking International (BNI)\", \"Women Business Networking\", \"Professional Networking for Actors\"], \"marker\": {\"sizemode\": \"area\", \"sizeref\": 5, \"size\": [7.0, 1144.0, 19.0, 160.0, 14.0, 45.0, 82.0, 61.0, 43.0, 25.0, 3.0, 21.0, 4.0, 7.0, 1.0]}, \"name\": \"Socializing\"}, {\"x\": [3674.0, 4756.0, 739.0, 1204.0, 2494.0, 1204.0, 791.0], \"y\": [0.0, 112.0, 0.0, 0.0, 0.0, 0.0, 12.0], \"mode\": \"markers\", \"text\": [\"Fashion Industry\", \"Fashion and Style\", \"Restaurant Industry\", \"Fashion Entrepreneurs\", \"Fashion Design\", \"Clothing and Fashion Designers\", \"Theater Industry\"], \"marker\": {\"sizemode\": \"area\", \"sizeref\": 5, \"size\": [78.0, 83.0, 12.0, 27.0, 42.0, 23.0, 10.0]}, \"name\": \"Fashion & Beauty\"}, {\"x\": [], \"y\": [], \"mode\": \"markers\", \"text\": [], \"marker\": {\"sizemode\": \"area\", \"sizeref\": 5, \"size\": []}, \"name\": null}, {\"x\": [2999.0, 2870.0, 2884.0, 1282.0, 183.0, 63.0], \"y\": [0.0, 0.0, 56.0, 0.0, 0.0, 0.0], \"mode\": \"markers\", \"text\": [\"Education\", \"Financial Education\", \"Real Estate Investment Education\", \"Higher Education\", \"Business Education\", \"Investment Education\"], \"marker\": {\"sizemode\": \"area\", \"sizeref\": 5, \"size\": [57.0, 48.0, 65.0, 14.0, 4.0, 5.0]}, \"name\": \"Education & Learning\"}, {\"x\": [69737.0, 39259.0, 480.0], \"y\": [3.0, 0.0, 0.0], \"mode\": \"markers\", \"text\": [\"New Technology\", \"Mobile Technology\", \"Technology Innovation\"], \"marker\": {\"sizemode\": \"area\", \"sizeref\": 5, \"size\": [673.0, 346.0, 7.0]}, \"name\": \"Tech\"}, {\"x\": [2781.0, 153.0], \"y\": [112.0, 0.0], \"mode\": \"markers\", \"text\": [\"Literature\", \"Modern literature\"], \"marker\": {\"sizemode\": \"area\", \"sizeref\": 5, \"size\": [79.0, 3.0]}, \"name\": \"Literature\"}, {\"x\": [3478.0, 8339.0, 1176.0, 89.0, 158.0], \"y\": [62.0, 112.0, 0.0, 0.0, 0.0], \"mode\": \"markers\", \"text\": [\"Creative Writing\", \"Writing\", \"Writing Workshops\", \"Journal Writing\", \"Acting and Writing\"], \"marker\": {\"sizemode\": \"area\", \"sizeref\": 5, \"size\": [71.0, 209.0, 35.0, 3.0, 1.0]}, \"name\": \"Writing\"}, {\"x\": [3821.0, 16286.0, 274.0, 1132.0, 2775.0, 3676.0, 1041.0, 73.0], \"y\": [112.0, 286.0, 0.0, 0.0, 0.0, 0.0, 0.0, 0.0], \"mode\": \"markers\", \"text\": [\"Fine Arts\", \"Performing Arts\", \"Art Exhibit\", \"Digital Art\", \"Art Walks and Tours\", \"Art Museums\", \"Art and Culture\", \"Art Classes\"], \"marker\": {\"sizemode\": \"area\", \"sizeref\": 5, \"size\": [38.0, 187.0, 8.0, 17.0, 13.0, 32.0, 3.0, 2.0]}, \"name\": \"Art & Culture\"}, {\"x\": [1957.0], \"y\": [0.0], \"mode\": \"markers\", \"text\": [\"Handmade Crafts\"], \"marker\": {\"sizemode\": \"area\", \"sizeref\": 5, \"size\": [28.0]}, \"name\": \"Hobbies & Crafts\"}, {\"x\": [21408.0, 3355.0], \"y\": [0.0, 0.0], \"mode\": \"markers\", \"text\": [\"Dancing\", \"Dance Lessons\"], \"marker\": {\"sizemode\": \"area\", \"sizeref\": 5, \"size\": [315.0, 86.0]}, \"name\": \"Dancing\"}, {\"x\": [3423.0, 67.0], \"y\": [0.0, 0.0], \"mode\": \"markers\", \"text\": [\"LGBT Social Group\", \"Friends & Supporters of LGBT/GLBT\"], \"marker\": {\"sizemode\": \"area\", \"sizeref\": 5, \"size\": [93.0, 5.0]}, \"name\": \"LGBT\"}, {\"x\": [44.0], \"y\": [0.0], \"mode\": \"markers\", \"text\": [\"Sport Bikes\"], \"marker\": {\"sizemode\": \"area\", \"sizeref\": 5, \"size\": [9.0]}, \"name\": \"Sports & Recreation\"}, {\"x\": [102.0], \"y\": [0.0], \"mode\": \"markers\", \"text\": [\"Book Club, Movies\"], \"marker\": {\"sizemode\": \"area\", \"sizeref\": 5, \"size\": [6.0]}, \"name\": \"Book Club\"}], \"name\": \"2015\"}, {\"data\": [{\"x\": [9188.0, 7308.0, 3931.0, 745.0, 4829.0, 4113.0, 7051.0, 2323.0, 17335.0, 1709.0, 5570.0, 487.0], \"y\": [0.0, 0.0, 0.0, 0.0, 12.0, 0.0, 0.0, 0.0, 12.0, 0.0, 0.0, 0.0], \"mode\": \"markers\", \"text\": [\"Spanish Language\", \"French Language\", \"Italian Language\", \"Cultural Diversity\", \"Cultural Activities\", \"Japanese Language\", \"English Language\", \"Mandarin Language\", \"Culture Exchange\", \"Latino Culture\", \"Chinese language\", \"European Culture\"], \"marker\": {\"sizemode\": \"area\", \"sizeref\": 5, \"size\": [85.0, 78.0, 37.0, 15.0, 44.0, 51.0, 72.0, 32.0, 150.0, 45.0, 64.0, 17.0]}, \"name\": \"Language & Ethnic Identity\"}, {\"x\": [20841.0, 20841.0, 2208.0, 4541.0, 949.0], \"y\": [174.0, 12.0, 0.0, 0.0, 12.0], \"mode\": \"markers\", \"text\": [\"Photography\", \"Photography\", \"Model Photography\", \"Fashion Photography\", \"Photography Business\"], \"marker\": {\"sizemode\": \"area\", \"sizeref\": 5, \"size\": [203.0, 203.0, 50.0, 65.0, 5.0]}, \"name\": \"Photography\"}, {\"x\": [5766.0, 7567.0, 4337.0, 322.0, 0.0], \"y\": [0.0, 0.0, 0.0, 0.0, 0.0], \"mode\": \"markers\", \"text\": [\"Game Development\", \"Games\", \"Game Design\", \"Improv games\", \"Storytelling Games\"], \"marker\": {\"sizemode\": \"area\", \"sizeref\": 5, \"size\": [69.0, 107.0, 56.0, 2.0, 1.0]}, \"name\": \"Games\"}, {\"x\": [29855.0, 8094.0], \"y\": [12.0, 0.0], \"mode\": \"markers\", \"text\": [\"Wine\", \"Food and Drink\"], \"marker\": {\"sizemode\": \"area\", \"sizeref\": 5, \"size\": [265.0, 95.0]}, \"name\": \"Food & Drink\"}, {\"x\": [208.0, 113586.0, 1584.0, 14973.0, 2425.0, 2207.0, 6921.0, 5993.0, 6222.0, 2625.0, 107.0, 2432.0, 154.0, 485.0, 557.0], \"y\": [0.0, 361.0, 0.0, 182.0, 0.0, 0.0, 119.0, 24.0, 0.0, 12.0, 0.0, 0.0, 50.0, 12.0, 0.0], \"mode\": \"markers\", \"text\": [\"Corporate Social Responsibility\", \"Social Networking\", \"Social Enterprise\", \"Social Media Marketing\", \"20's Social\", \"Social Justice\", \"Women's Business Networking\", \"Social Entrepreneurship\", \"Women's Networking\", \"B2B Networking\", \"Social, Social, Social\", \"Networking with HR Professionals\", \"Business Networking International (BNI)\", \"Women Business Networking\", \"Professional Networking for Actors\"], \"marker\": {\"sizemode\": \"area\", \"sizeref\": 5, \"size\": [8.0, 1376.0, 23.0, 211.0, 20.0, 61.0, 124.0, 97.0, 78.0, 32.0, 7.0, 39.0, 6.0, 10.0, 3.0]}, \"name\": \"Socializing\"}, {\"x\": [6308.0, 10868.0, 765.0, 3515.0, 4551.0, 3159.0, 1639.0], \"y\": [11.0, 124.0, 0.0, 0.0, 0.0, 0.0, 38.0], \"mode\": \"markers\", \"text\": [\"Fashion Industry\", \"Fashion and Style\", \"Restaurant Industry\", \"Fashion Entrepreneurs\", \"Fashion Design\", \"Clothing and Fashion Designers\", \"Theater Industry\"], \"marker\": {\"sizemode\": \"area\", \"sizeref\": 5, \"size\": [107.0, 138.0, 14.0, 50.0, 65.0, 43.0, 15.0]}, \"name\": \"Fashion & Beauty\"}, {\"x\": [], \"y\": [], \"mode\": \"markers\", \"text\": [], \"marker\": {\"sizemode\": \"area\", \"sizeref\": 5, \"size\": []}, \"name\": null}, {\"x\": [6440.0, 4568.0, 5255.0, 1495.0, 234.0, 528.0], \"y\": [50.0, 0.0, 68.0, 0.0, 0.0, 0.0], \"mode\": \"markers\", \"text\": [\"Education\", \"Financial Education\", \"Real Estate Investment Education\", \"Higher Education\", \"Business Education\", \"Investment Education\"], \"marker\": {\"sizemode\": \"area\", \"sizeref\": 5, \"size\": [95.0, 70.0, 97.0, 17.0, 6.0, 6.0]}, \"name\": \"Education & Learning\"}, {\"x\": [103062.0, 47655.0, 997.0], \"y\": [126.0, 25.0, 0.0], \"mode\": \"markers\", \"text\": [\"New Technology\", \"Mobile Technology\", \"Technology Innovation\"], \"marker\": {\"sizemode\": \"area\", \"sizeref\": 5, \"size\": [895.0, 412.0, 10.0]}, \"name\": \"Tech\"}, {\"x\": [5406.0, 223.0, 316.0, 70.0], \"y\": [113.0, 1.0, 0.0, 1.0], \"mode\": \"markers\", \"text\": [\"Literature\", \"Modern literature\", \"African American Literature\", \"Classic literature\"], \"marker\": {\"sizemode\": \"area\", \"sizeref\": 5, \"size\": [101.0, 4.0, 1.0, 1.0]}, \"name\": \"Literature\"}, {\"x\": [6313.0, 12886.0, 2744.0, 97.0, 254.0], \"y\": [123.0, 322.0, 0.0, 0.0, 0.0], \"mode\": \"markers\", \"text\": [\"Creative Writing\", \"Writing\", \"Writing Workshops\", \"Journal Writing\", \"Acting and Writing\"], \"marker\": {\"sizemode\": \"area\", \"sizeref\": 5, \"size\": [101.0, 249.0, 56.0, 4.0, 4.0]}, \"name\": \"Writing\"}, {\"x\": [7218.0, 33019.0, 1317.0, 1054.0, 3788.0, 7039.0, 1063.0, 156.0, 1634.0, 1338.0, 17.0], \"y\": [174.0, 462.0, 0.0, 0.0, 0.0, 12.0, 0.0, 0.0, 0.0, 0.0, 0.0], \"mode\": \"markers\", \"text\": [\"Fine Arts\", \"Performing Arts\", \"Art Exhibit\", \"Art History\", \"Art Walks and Tours\", \"Art Museums\", \"Art and Culture\", \"Art Creating Art and Perfecting Our Art\", \"Arts and Social Arts\", \"Art Classes\", \"Ceramic Arts\"], \"marker\": {\"sizemode\": \"area\", \"sizeref\": 5, \"size\": [55.0, 237.0, 11.0, 6.0, 17.0, 45.0, 6.0, 4.0, 6.0, 5.0, 1.0]}, \"name\": \"Art & Culture\"}, {\"x\": [2639.0], \"y\": [0.0], \"mode\": \"markers\", \"text\": [\"Handmade Crafts\"], \"marker\": {\"sizemode\": \"area\", \"sizeref\": 5, \"size\": [34.0]}, \"name\": \"Hobbies & Crafts\"}, {\"x\": [33728.0, 13132.0], \"y\": [50.0, 50.0], \"mode\": \"markers\", \"text\": [\"Dancing\", \"Dance Lessons\"], \"marker\": {\"sizemode\": \"area\", \"sizeref\": 5, \"size\": [380.0, 113.0]}, \"name\": \"Dancing\"}, {\"x\": [7933.0, 576.0], \"y\": [0.0, 0.0], \"mode\": \"markers\", \"text\": [\"LGBT Social Group\", \"Friends & Supporters of LGBT/GLBT\"], \"marker\": {\"sizemode\": \"area\", \"sizeref\": 5, \"size\": [137.0, 12.0]}, \"name\": \"LGBT\"}, {\"x\": [44.0], \"y\": [0.0], \"mode\": \"markers\", \"text\": [\"Sport Bikes\"], \"marker\": {\"sizemode\": \"area\", \"sizeref\": 5, \"size\": [10.0]}, \"name\": \"Sports & Recreation\"}, {\"x\": [127.0], \"y\": [0.0], \"mode\": \"markers\", \"text\": [\"Book Club, Movies\"], \"marker\": {\"sizemode\": \"area\", \"sizeref\": 5, \"size\": [7.0]}, \"name\": \"Book Club\"}], \"name\": \"2016\"}, {\"data\": [{\"x\": [11754.0, 9339.0, 4890.0, 830.0, 7365.0, 5528.0, 10863.0, 3055.0, 29908.0, 3119.0, 6827.0, 693.0], \"y\": [5.0, 29.0, 51.0, 25.0, 15.0, 4.0, 2.0, 50.0, 40.0, 3.0, 51.0, 1.0], \"mode\": \"markers\", \"text\": [\"Spanish Language\", \"French Language\", \"Italian Language\", \"Cultural Diversity\", \"Cultural Activities\", \"Japanese Language\", \"English Language\", \"Mandarin Language\", \"Culture Exchange\", \"Latino Culture\", \"Chinese language\", \"European Culture\"], \"marker\": {\"sizemode\": \"area\", \"sizeref\": 5, \"size\": [111.0, 97.0, 44.0, 23.0, 67.0, 64.0, 106.0, 38.0, 245.0, 64.0, 77.0, 19.0]}, \"name\": \"Language & Ethnic Identity\"}, {\"x\": [32308.0, 32308.0, 6682.0, 8606.0, 1008.0], \"y\": [266.0, 12.0, 5.0, 4.0, 13.0], \"mode\": \"markers\", \"text\": [\"Photography\", \"Photography\", \"Model Photography\", \"Fashion Photography\", \"Photography Business\"], \"marker\": {\"sizemode\": \"area\", \"sizeref\": 5, \"size\": [263.0, 263.0, 68.0, 88.0, 6.0]}, \"name\": \"Photography\"}, {\"x\": [6703.0, 9883.0, 4736.0, 322.0, 190.0], \"y\": [1.0, 3.0, 2.0, 4.0, 3.0], \"mode\": \"markers\", \"text\": [\"Game Development\", \"Games\", \"Game Design\", \"Improv games\", \"Storytelling Games\"], \"marker\": {\"sizemode\": \"area\", \"sizeref\": 5, \"size\": [79.0, 168.0, 65.0, 3.0, 3.0]}, \"name\": \"Games\"}, {\"x\": [45112.0, 18388.0], \"y\": [48.0, 1.0], \"mode\": \"markers\", \"text\": [\"Wine\", \"Food and Drink\"], \"marker\": {\"sizemode\": \"area\", \"sizeref\": 5, \"size\": [356.0, 184.0]}, \"name\": \"Food & Drink\"}, {\"x\": [489.0, 152158.0, 2182.0, 20977.0, 2966.0, 8549.0, 13001.0, 8029.0, 11298.0, 3511.0, 481.0, 3481.0, 309.0, 692.0, 1162.0, 2691.0], \"y\": [1.0, 702.0, 12.0, 261.0, 1.0, 2.0, 310.0, 57.0, 18.0, 24.0, 1.0, 1.0, 51.0, 14.0, 12.0, 3.0], \"mode\": \"markers\", \"text\": [\"Corporate Social Responsibility\", \"Social Networking\", \"Social Enterprise\", \"Social Media Marketing\", \"20's Social\", \"Social Justice\", \"Women's Business Networking\", \"Social Entrepreneurship\", \"Women's Networking\", \"B2B Networking\", \"Social, Social, Social\", \"Networking with HR Professionals\", \"Business Networking International (BNI)\", \"Social Marketing\", \"Women Business Networking\", \"Professional Networking for Actors\"], \"marker\": {\"sizemode\": \"area\", \"sizeref\": 5, \"size\": [13.0, 1848.0, 29.0, 283.0, 30.0, 101.0, 215.0, 128.0, 147.0, 53.0, 17.0, 50.0, 8.0, 4.0, 23.0, 5.0]}, \"name\": \"Socializing\"}, {\"x\": [9154.0, 16751.0, 810.0, 4874.0, 5173.0, 3236.0, 1807.0], \"y\": [14.0, 134.0, 1.0, 2.0, 7.0, 1.0, 50.0], \"mode\": \"markers\", \"text\": [\"Fashion Industry\", \"Fashion and Style\", \"Restaurant Industry\", \"Fashion Entrepreneurs\", \"Fashion Design\", \"Clothing and Fashion Designers\", \"Theater Industry\"], \"marker\": {\"sizemode\": \"area\", \"sizeref\": 5, \"size\": [136.0, 202.0, 19.0, 70.0, 85.0, 51.0, 16.0]}, \"name\": \"Fashion & Beauty\"}, {\"x\": [], \"y\": [], \"mode\": \"markers\", \"text\": [], \"marker\": {\"sizemode\": \"area\", \"sizeref\": 5, \"size\": []}, \"name\": null}, {\"x\": [12334.0, 6006.0, 10133.0, 1543.0, 331.0, 692.0], \"y\": [76.0, 18.0, 94.0, 1.0, 3.0, 13.0], \"mode\": \"markers\", \"text\": [\"Education\", \"Financial Education\", \"Real Estate Investment Education\", \"Higher Education\", \"Business Education\", \"Investment Education\"], \"marker\": {\"sizemode\": \"area\", \"sizeref\": 5, \"size\": [160.0, 105.0, 156.0, 19.0, 8.0, 11.0]}, \"name\": \"Education & Learning\"}, {\"x\": [141630.0, 55104.0, 1144.0], \"y\": [242.0, 45.0, 4.0], \"mode\": \"markers\", \"text\": [\"New Technology\", \"Mobile Technology\", \"Technology Innovation\"], \"marker\": {\"sizemode\": \"area\", \"sizeref\": 5, \"size\": [1239.0, 474.0, 14.0]}, \"name\": \"Tech\"}, {\"x\": [7156.0, 257.0, 70.0], \"y\": [269.0, 5.0, 1.0], \"mode\": \"markers\", \"text\": [\"Literature\", \"Modern literature\", \"Classic literature\"], \"marker\": {\"sizemode\": \"area\", \"sizeref\": 5, \"size\": [133.0, 6.0, 2.0]}, \"name\": \"Literature\"}, {\"x\": [11132.0, 17342.0, 4646.0, 671.0], \"y\": [282.0, 576.0, 32.0, 7.0], \"mode\": \"markers\", \"text\": [\"Creative Writing\", \"Writing\", \"Writing Workshops\", \"Acting and Writing\"], \"marker\": {\"sizemode\": \"area\", \"sizeref\": 5, \"size\": [156.0, 311.0, 81.0, 10.0]}, \"name\": \"Writing\"}, {\"x\": [11498.0, 44001.0, 1402.0, 1353.0, 4422.0, 7995.0, 1127.0, 276.0, 213.0], \"y\": [507.0, 824.0, 3.0, 12.0, 8.0, 20.0, 6.0, 1.0, 13.0], \"mode\": \"markers\", \"text\": [\"Fine Arts\", \"Performing Arts\", \"Art Exhibit\", \"Digital Art\", \"Art Walks and Tours\", \"Art Museums\", \"Art and Culture\", \"Art Creating Art and Perfecting Our Art\", \"Ceramic Arts\"], \"marker\": {\"sizemode\": \"area\", \"sizeref\": 5, \"size\": [94.0, 348.0, 14.0, 19.0, 22.0, 53.0, 7.0, 6.0, 4.0]}, \"name\": \"Art & Culture\"}, {\"x\": [4797.0], \"y\": [18.0], \"mode\": \"markers\", \"text\": [\"Handmade Crafts\"], \"marker\": {\"sizemode\": \"area\", \"sizeref\": 5, \"size\": [48.0]}, \"name\": \"Hobbies & Crafts\"}, {\"x\": [41978.0, 19028.0], \"y\": [97.0, 136.0], \"mode\": \"markers\", \"text\": [\"Dancing\", \"Dance Lessons\"], \"marker\": {\"sizemode\": \"area\", \"sizeref\": 5, \"size\": [477.0, 169.0]}, \"name\": \"Dancing\"}, {\"x\": [14956.0, 1444.0], \"y\": [1.0, 1.0], \"mode\": \"markers\", \"text\": [\"LGBT Social Group\", \"Friends & Supporters of LGBT/GLBT\"], \"marker\": {\"sizemode\": \"area\", \"sizeref\": 5, \"size\": [197.0, 21.0]}, \"name\": \"LGBT\"}, {\"x\": [266.0], \"y\": [3.0], \"mode\": \"markers\", \"text\": [\"Sport Bikes\"], \"marker\": {\"sizemode\": \"area\", \"sizeref\": 5, \"size\": [18.0]}, \"name\": \"Sports & Recreation\"}, {\"x\": [], \"y\": [], \"mode\": \"markers\", \"text\": [], \"marker\": {\"sizemode\": \"area\", \"sizeref\": 5, \"size\": []}, \"name\": \"Book Club\"}], \"name\": \"2017\"}]);}).then(function(){Plotly.animate('5b276ef3-fd8b-4067-8065-297d523bfd4e');})\n",
       "        });</script>"
      ],
      "text/vnd.plotly.v1+html": [
       "<div id=\"5b276ef3-fd8b-4067-8065-297d523bfd4e\" style=\"height: 525px; width: 100%;\" class=\"plotly-graph-div\"></div><script type=\"text/javascript\">require([\"plotly\"], function(Plotly) { window.PLOTLYENV=window.PLOTLYENV || {};window.PLOTLYENV.BASE_URL=\"https://plot.ly\";\n",
       "        Plotly.plot(\n",
       "            '5b276ef3-fd8b-4067-8065-297d523bfd4e',\n",
       "            [{\"x\": [596.0, 709.0, 539.0, 21.0, 24.0, 467.0, 451.0, 116.0, 891.0, 200.0, 359.0], \"y\": [0.0, 0.0, 0.0, 0.0, 0.0, 0.0, 0.0, 0.0, 0.0, 0.0, 0.0], \"mode\": \"markers\", \"text\": [\"Spanish Language\", \"French Language\", \"Italian Language\", \"Cultural Diversity\", \"Cultural Activities\", \"Japanese Language\", \"English Language\", \"Mandarin Language\", \"Culture Exchange\", \"Latino Culture\", \"Chinese language\"], \"marker\": {\"sizemode\": \"area\", \"sizeref\": 5, \"size\": [23.0, 23.0, 11.0, 3.0, 4.0, 17.0, 8.0, 7.0, 24.0, 14.0, 23.0]}, \"name\": \"Language & Ethnic Identity\"}, {\"x\": [1759.0, 1759.0, 201.0, 248.0], \"y\": [0.0, 0.0, 0.0, 0.0], \"mode\": \"markers\", \"text\": [\"Photography\", \"Photography\", \"Model Photography\", \"Fashion Photography\"], \"marker\": {\"sizemode\": \"area\", \"sizeref\": 5, \"size\": [54.0, 54.0, 8.0, 11.0]}, \"name\": \"Photography\"}, {\"x\": [481.0, 243.0, 322.0], \"y\": [0.0, 0.0, 0.0], \"mode\": \"markers\", \"text\": [\"Game Development\", \"Games\", \"Game Design\"], \"marker\": {\"sizemode\": \"area\", \"sizeref\": 5, \"size\": [12.0, 10.0, 7.0]}, \"name\": \"Games\"}, {\"x\": [2712.0], \"y\": [0.0], \"mode\": \"markers\", \"text\": [\"Wine\"], \"marker\": {\"sizemode\": \"area\", \"sizeref\": 5, \"size\": [85.0]}, \"name\": \"Food & Drink\"}, {\"x\": [77.0, 14164.0, 189.0, 1941.0, 37.0, 115.0, 202.0, 391.0, 125.0, 61.0], \"y\": [0.0, 0.0, 0.0, 0.0, 0.0, 0.0, 0.0, 0.0, 0.0, 0.0], \"mode\": \"markers\", \"text\": [\"Corporate Social Responsibility\", \"Social Networking\", \"Social Enterprise\", \"Social Media Marketing\", \"20's Social\", \"Social Justice\", \"Women's Business Networking\", \"Social Entrepreneurship\", \"Women's Networking\", \"B2B Networking\"], \"marker\": {\"sizemode\": \"area\", \"sizeref\": 5, \"size\": [3.0, 487.0, 5.0, 56.0, 5.0, 7.0, 13.0, 14.0, 6.0, 3.0]}, \"name\": \"Socializing\"}, {\"x\": [920.0, 854.0, 40.0, 261.0, 379.0, 194.0], \"y\": [0.0, 0.0, 0.0, 0.0, 0.0, 0.0], \"mode\": \"markers\", \"text\": [\"Fashion Industry\", \"Fashion and Style\", \"Restaurant Industry\", \"Fashion Entrepreneurs\", \"Fashion Design\", \"Clothing and Fashion Designers\"], \"marker\": {\"sizemode\": \"area\", \"sizeref\": 5, \"size\": [26.0, 23.0, 2.0, 8.0, 13.0, 4.0]}, \"name\": \"Fashion & Beauty\"}, {\"x\": [], \"y\": [], \"mode\": \"markers\", \"text\": [], \"marker\": {\"sizemode\": \"area\", \"sizeref\": 5, \"size\": []}, \"name\": null}, {\"x\": [154.0, 41.0, 35.0, 68.0, 103.0], \"y\": [0.0, 0.0, 0.0, 0.0, 0.0], \"mode\": \"markers\", \"text\": [\"Education\", \"Financial Education\", \"Real Estate Investment Education\", \"Higher Education\", \"Business Education\"], \"marker\": {\"sizemode\": \"area\", \"sizeref\": 5, \"size\": [13.0, 7.0, 8.0, 1.0, 2.0]}, \"name\": \"Education & Learning\"}, {\"x\": [5334.0, 2670.0], \"y\": [0.0, 0.0], \"mode\": \"markers\", \"text\": [\"New Technology\", \"Mobile Technology\"], \"marker\": {\"sizemode\": \"area\", \"sizeref\": 5, \"size\": [113.0, 41.0]}, \"name\": \"Tech\"}, {\"x\": [207.0, 21.0], \"y\": [0.0, 0.0], \"mode\": \"markers\", \"text\": [\"Literature\", \"Modern literature\"], \"marker\": {\"sizemode\": \"area\", \"sizeref\": 5, \"size\": [18.0, 1.0]}, \"name\": \"Literature\"}, {\"x\": [299.0, 1481.0, 66.0], \"y\": [0.0, 0.0, 0.0], \"mode\": \"markers\", \"text\": [\"Creative Writing\", \"Writing\", \"Writing Workshops\"], \"marker\": {\"sizemode\": \"area\", \"sizeref\": 5, \"size\": [16.0, 74.0, 4.0]}, \"name\": \"Writing\"}, {\"x\": [114.0, 1401.0, 2.0], \"y\": [0.0, 0.0, 0.0], \"mode\": \"markers\", \"text\": [\"Fine Arts\", \"Performing Arts\", \"Art Exhibit\"], \"marker\": {\"sizemode\": \"area\", \"sizeref\": 5, \"size\": [5.0, 57.0, 1.0]}, \"name\": \"Art & Culture\"}, {\"x\": [21.0], \"y\": [0.0], \"mode\": \"markers\", \"text\": [\"Handmade Crafts\"], \"marker\": {\"sizemode\": \"area\", \"sizeref\": 5, \"size\": [5.0]}, \"name\": \"Hobbies & Crafts\"}, {\"x\": [3432.0, 309.0], \"y\": [0.0, 0.0], \"mode\": \"markers\", \"text\": [\"Dancing\", \"Dance Lessons\"], \"marker\": {\"sizemode\": \"area\", \"sizeref\": 5, \"size\": [128.0, 21.0]}, \"name\": \"Dancing\"}, {\"x\": [45.0], \"y\": [0.0], \"mode\": \"markers\", \"text\": [\"LGBT Social Group\"], \"marker\": {\"sizemode\": \"area\", \"sizeref\": 5, \"size\": [14.0]}, \"name\": \"LGBT\"}, {\"x\": [], \"y\": [], \"mode\": \"markers\", \"text\": [], \"marker\": {\"sizemode\": \"area\", \"sizeref\": 5, \"size\": []}, \"name\": \"Sports & Recreation\"}, {\"x\": [], \"y\": [], \"mode\": \"markers\", \"text\": [], \"marker\": {\"sizemode\": \"area\", \"sizeref\": 5, \"size\": []}, \"name\": \"Book Club\"}],\n",
       "            {\"xaxis\": {\"range\": [0, 160000.0], \"title\": \"Number of Members\"}, \"yaxis\": {\"range\": [0, 1000], \"title\": \"Number of Events\"}, \"hovermode\": \"closest\", \"sliders\": [{\"active\": 0, \"yanchor\": \"top\", \"xanchor\": \"left\", \"currentvalue\": {\"font\": {\"size\": 20}, \"prefix\": \"Year:\", \"visible\": true, \"xanchor\": \"right\"}, \"transition\": {\"duration\": 300, \"easing\": \"cubic-in-out\"}, \"pad\": {\"b\": 10, \"t\": 50}, \"len\": 0.9, \"x\": 0.1, \"y\": 0, \"steps\": [{\"args\": [[2010], {\"frame\": {\"duration\": 300, \"redraw\": false}, \"mode\": \"immediate\", \"transition\": {\"duration\": 300}}], \"label\": 2010, \"method\": \"animate\"}, {\"args\": [[2011], {\"frame\": {\"duration\": 300, \"redraw\": false}, \"mode\": \"immediate\", \"transition\": {\"duration\": 300}}], \"label\": 2011, \"method\": \"animate\"}, {\"args\": [[2012], {\"frame\": {\"duration\": 300, \"redraw\": false}, \"mode\": \"immediate\", \"transition\": {\"duration\": 300}}], \"label\": 2012, \"method\": \"animate\"}, {\"args\": [[2013], {\"frame\": {\"duration\": 300, \"redraw\": false}, \"mode\": \"immediate\", \"transition\": {\"duration\": 300}}], \"label\": 2013, \"method\": \"animate\"}, {\"args\": [[2014], {\"frame\": {\"duration\": 300, \"redraw\": false}, \"mode\": \"immediate\", \"transition\": {\"duration\": 300}}], \"label\": 2014, \"method\": \"animate\"}, {\"args\": [[2015], {\"frame\": {\"duration\": 300, \"redraw\": false}, \"mode\": \"immediate\", \"transition\": {\"duration\": 300}}], \"label\": 2015, \"method\": \"animate\"}, {\"args\": [[2016], {\"frame\": {\"duration\": 300, \"redraw\": false}, \"mode\": \"immediate\", \"transition\": {\"duration\": 300}}], \"label\": 2016, \"method\": \"animate\"}, {\"args\": [[2017], {\"frame\": {\"duration\": 300, \"redraw\": false}, \"mode\": \"immediate\", \"transition\": {\"duration\": 300}}], \"label\": 2017, \"method\": \"animate\"}]}], \"updatemenus\": [{\"buttons\": [{\"args\": [null, {\"frame\": {\"duration\": 500, \"redraw\": false}, \"fromcurrent\": true, \"transition\": {\"duration\": 300, \"easing\": \"quadratic-in-out\"}}], \"label\": \"Play\", \"method\": \"animate\"}, {\"args\": [[null], {\"frame\": {\"duration\": 0, \"redraw\": false}, \"mode\": \"immediate\", \"transition\": {\"duration\": 0}}], \"label\": \"Pause\", \"method\": \"animate\"}], \"direction\": \"left\", \"pad\": {\"r\": 10, \"t\": 87}, \"showactive\": false, \"type\": \"buttons\", \"x\": 0.1, \"xanchor\": \"right\", \"y\": 0, \"yanchor\": \"top\"}]},\n",
       "            {\"showLink\": true, \"linkText\": \"Export to plot.ly\"}\n",
       "        ).then(function () {return Plotly.addFrames('5b276ef3-fd8b-4067-8065-297d523bfd4e',[{\"data\": [{\"x\": [596.0, 709.0, 539.0, 21.0, 24.0, 467.0, 451.0, 116.0, 891.0, 200.0, 359.0], \"y\": [0.0, 0.0, 0.0, 0.0, 0.0, 0.0, 0.0, 0.0, 0.0, 0.0, 0.0], \"mode\": \"markers\", \"text\": [\"Spanish Language\", \"French Language\", \"Italian Language\", \"Cultural Diversity\", \"Cultural Activities\", \"Japanese Language\", \"English Language\", \"Mandarin Language\", \"Culture Exchange\", \"Latino Culture\", \"Chinese language\"], \"marker\": {\"sizemode\": \"area\", \"sizeref\": 5, \"size\": [23.0, 23.0, 11.0, 3.0, 4.0, 17.0, 8.0, 7.0, 24.0, 14.0, 23.0]}, \"name\": \"Language & Ethnic Identity\"}, {\"x\": [1759.0, 1759.0, 201.0, 248.0], \"y\": [0.0, 0.0, 0.0, 0.0], \"mode\": \"markers\", \"text\": [\"Photography\", \"Photography\", \"Model Photography\", \"Fashion Photography\"], \"marker\": {\"sizemode\": \"area\", \"sizeref\": 5, \"size\": [54.0, 54.0, 8.0, 11.0]}, \"name\": \"Photography\"}, {\"x\": [481.0, 243.0, 322.0], \"y\": [0.0, 0.0, 0.0], \"mode\": \"markers\", \"text\": [\"Game Development\", \"Games\", \"Game Design\"], \"marker\": {\"sizemode\": \"area\", \"sizeref\": 5, \"size\": [12.0, 10.0, 7.0]}, \"name\": \"Games\"}, {\"x\": [2712.0], \"y\": [0.0], \"mode\": \"markers\", \"text\": [\"Wine\"], \"marker\": {\"sizemode\": \"area\", \"sizeref\": 5, \"size\": [85.0]}, \"name\": \"Food & Drink\"}, {\"x\": [77.0, 14164.0, 189.0, 1941.0, 37.0, 115.0, 202.0, 391.0, 125.0, 61.0], \"y\": [0.0, 0.0, 0.0, 0.0, 0.0, 0.0, 0.0, 0.0, 0.0, 0.0], \"mode\": \"markers\", \"text\": [\"Corporate Social Responsibility\", \"Social Networking\", \"Social Enterprise\", \"Social Media Marketing\", \"20's Social\", \"Social Justice\", \"Women's Business Networking\", \"Social Entrepreneurship\", \"Women's Networking\", \"B2B Networking\"], \"marker\": {\"sizemode\": \"area\", \"sizeref\": 5, \"size\": [3.0, 487.0, 5.0, 56.0, 5.0, 7.0, 13.0, 14.0, 6.0, 3.0]}, \"name\": \"Socializing\"}, {\"x\": [920.0, 854.0, 40.0, 261.0, 379.0, 194.0], \"y\": [0.0, 0.0, 0.0, 0.0, 0.0, 0.0], \"mode\": \"markers\", \"text\": [\"Fashion Industry\", \"Fashion and Style\", \"Restaurant Industry\", \"Fashion Entrepreneurs\", \"Fashion Design\", \"Clothing and Fashion Designers\"], \"marker\": {\"sizemode\": \"area\", \"sizeref\": 5, \"size\": [26.0, 23.0, 2.0, 8.0, 13.0, 4.0]}, \"name\": \"Fashion & Beauty\"}, {\"x\": [], \"y\": [], \"mode\": \"markers\", \"text\": [], \"marker\": {\"sizemode\": \"area\", \"sizeref\": 5, \"size\": []}, \"name\": null}, {\"x\": [154.0, 41.0, 35.0, 68.0, 103.0], \"y\": [0.0, 0.0, 0.0, 0.0, 0.0], \"mode\": \"markers\", \"text\": [\"Education\", \"Financial Education\", \"Real Estate Investment Education\", \"Higher Education\", \"Business Education\"], \"marker\": {\"sizemode\": \"area\", \"sizeref\": 5, \"size\": [13.0, 7.0, 8.0, 1.0, 2.0]}, \"name\": \"Education & Learning\"}, {\"x\": [5334.0, 2670.0], \"y\": [0.0, 0.0], \"mode\": \"markers\", \"text\": [\"New Technology\", \"Mobile Technology\"], \"marker\": {\"sizemode\": \"area\", \"sizeref\": 5, \"size\": [113.0, 41.0]}, \"name\": \"Tech\"}, {\"x\": [207.0, 21.0], \"y\": [0.0, 0.0], \"mode\": \"markers\", \"text\": [\"Literature\", \"Modern literature\"], \"marker\": {\"sizemode\": \"area\", \"sizeref\": 5, \"size\": [18.0, 1.0]}, \"name\": \"Literature\"}, {\"x\": [299.0, 1481.0, 66.0], \"y\": [0.0, 0.0, 0.0], \"mode\": \"markers\", \"text\": [\"Creative Writing\", \"Writing\", \"Writing Workshops\"], \"marker\": {\"sizemode\": \"area\", \"sizeref\": 5, \"size\": [16.0, 74.0, 4.0]}, \"name\": \"Writing\"}, {\"x\": [114.0, 1401.0, 2.0], \"y\": [0.0, 0.0, 0.0], \"mode\": \"markers\", \"text\": [\"Fine Arts\", \"Performing Arts\", \"Art Exhibit\"], \"marker\": {\"sizemode\": \"area\", \"sizeref\": 5, \"size\": [5.0, 57.0, 1.0]}, \"name\": \"Art & Culture\"}, {\"x\": [21.0], \"y\": [0.0], \"mode\": \"markers\", \"text\": [\"Handmade Crafts\"], \"marker\": {\"sizemode\": \"area\", \"sizeref\": 5, \"size\": [5.0]}, \"name\": \"Hobbies & Crafts\"}, {\"x\": [3432.0, 309.0], \"y\": [0.0, 0.0], \"mode\": \"markers\", \"text\": [\"Dancing\", \"Dance Lessons\"], \"marker\": {\"sizemode\": \"area\", \"sizeref\": 5, \"size\": [128.0, 21.0]}, \"name\": \"Dancing\"}, {\"x\": [45.0], \"y\": [0.0], \"mode\": \"markers\", \"text\": [\"LGBT Social Group\"], \"marker\": {\"sizemode\": \"area\", \"sizeref\": 5, \"size\": [14.0]}, \"name\": \"LGBT\"}, {\"x\": [], \"y\": [], \"mode\": \"markers\", \"text\": [], \"marker\": {\"sizemode\": \"area\", \"sizeref\": 5, \"size\": []}, \"name\": \"Sports & Recreation\"}, {\"x\": [], \"y\": [], \"mode\": \"markers\", \"text\": [], \"marker\": {\"sizemode\": \"area\", \"sizeref\": 5, \"size\": []}, \"name\": \"Book Club\"}], \"name\": \"2010\"}, {\"data\": [{\"x\": [596.0, 789.0, 621.0, 186.0, 495.0, 458.0, 177.0, 1034.0, 277.0, 563.0], \"y\": [0.0, 0.0, 0.0, 0.0, 0.0, 0.0, 0.0, 0.0, 0.0, 0.0], \"mode\": \"markers\", \"text\": [\"Spanish Language\", \"French Language\", \"Italian Language\", \"Cultural Activities\", \"Japanese Language\", \"English Language\", \"Mandarin Language\", \"Culture Exchange\", \"Latino Culture\", \"Chinese language\"], \"marker\": {\"sizemode\": \"area\", \"sizeref\": 5, \"size\": [24.0, 25.0, 13.0, 8.0, 19.0, 10.0, 10.0, 30.0, 15.0, 28.0]}, \"name\": \"Language & Ethnic Identity\"}, {\"x\": [2416.0, 2416.0, 322.0, 400.0], \"y\": [0.0, 12.0, 0.0, 0.0], \"mode\": \"markers\", \"text\": [\"Photography\", \"Photography\", \"Model Photography\", \"Fashion Photography\"], \"marker\": {\"sizemode\": \"area\", \"sizeref\": 5, \"size\": [71.0, 71.0, 11.0, 15.0]}, \"name\": \"Photography\"}, {\"x\": [1152.0, 771.0, 744.0], \"y\": [0.0, 0.0, 0.0], \"mode\": \"markers\", \"text\": [\"Game Development\", \"Games\", \"Game Design\"], \"marker\": {\"sizemode\": \"area\", \"sizeref\": 5, \"size\": [21.0, 17.0, 11.0]}, \"name\": \"Games\"}, {\"x\": [4208.0, 554.0], \"y\": [0.0, 0.0], \"mode\": \"markers\", \"text\": [\"Wine\", \"Food and Drink\"], \"marker\": {\"sizemode\": \"area\", \"sizeref\": 5, \"size\": [103.0, 11.0]}, \"name\": \"Food & Drink\"}, {\"x\": [97.0, 19343.0, 245.0, 3377.0, 69.0, 201.0, 556.0, 442.0, 69.0, 29.0], \"y\": [0.0, 0.0, 0.0, 0.0, 0.0, 0.0, 0.0, 0.0, 0.0, 0.0], \"mode\": \"markers\", \"text\": [\"Corporate Social Responsibility\", \"Social Networking\", \"Social Enterprise\", \"Social Media Marketing\", \"20's Social\", \"Social Justice\", \"Women's Business Networking\", \"Social Entrepreneurship\", \"Social, Social, Social\", \"Networking with HR Professionals\"], \"marker\": {\"sizemode\": \"area\", \"sizeref\": 5, \"size\": [4.0, 612.0, 7.0, 71.0, 7.0, 11.0, 23.0, 16.0, 1.0, 2.0]}, \"name\": \"Socializing\"}, {\"x\": [1322.0, 991.0, 110.0, 316.0, 553.0], \"y\": [0.0, 0.0, 0.0, 0.0, 0.0], \"mode\": \"markers\", \"text\": [\"Fashion Industry\", \"Fashion and Style\", \"Restaurant Industry\", \"Fashion Entrepreneurs\", \"Fashion Design\"], \"marker\": {\"sizemode\": \"area\", \"sizeref\": 5, \"size\": [37.0, 32.0, 3.0, 11.0, 18.0]}, \"name\": \"Fashion & Beauty\"}, {\"x\": [], \"y\": [], \"mode\": \"markers\", \"text\": [], \"marker\": {\"sizemode\": \"area\", \"sizeref\": 5, \"size\": []}, \"name\": null}, {\"x\": [156.0, 57.0, 54.0], \"y\": [0.0, 0.0, 0.0], \"mode\": \"markers\", \"text\": [\"Education\", \"Financial Education\", \"Real Estate Investment Education\"], \"marker\": {\"sizemode\": \"area\", \"sizeref\": 5, \"size\": [15.0, 9.0, 9.0]}, \"name\": \"Education & Learning\"}, {\"x\": [8906.0, 6522.0], \"y\": [0.0, 0.0], \"mode\": \"markers\", \"text\": [\"New Technology\", \"Mobile Technology\"], \"marker\": {\"sizemode\": \"area\", \"sizeref\": 5, \"size\": [169.0, 85.0]}, \"name\": \"Tech\"}, {\"x\": [502.0], \"y\": [0.0], \"mode\": \"markers\", \"text\": [\"Literature\"], \"marker\": {\"sizemode\": \"area\", \"sizeref\": 5, \"size\": [24.0]}, \"name\": \"Literature\"}, {\"x\": [523.0, 2003.0, 132.0], \"y\": [0.0, 0.0, 0.0], \"mode\": \"markers\", \"text\": [\"Creative Writing\", \"Writing\", \"Writing Workshops\"], \"marker\": {\"sizemode\": \"area\", \"sizeref\": 5, \"size\": [18.0, 95.0, 7.0]}, \"name\": \"Writing\"}, {\"x\": [181.0, 1952.0, 2.0, 446.0, 120.0, 183.0, 192.0], \"y\": [0.0, 0.0, 0.0, 0.0, 0.0, 0.0, 0.0], \"mode\": \"markers\", \"text\": [\"Fine Arts\", \"Performing Arts\", \"Art Exhibit\", \"Digital Art\", \"Art History\", \"Art Walks and Tours\", \"Art Museums\"], \"marker\": {\"sizemode\": \"area\", \"sizeref\": 5, \"size\": [8.0, 76.0, 2.0, 7.0, 2.0, 2.0, 6.0]}, \"name\": \"Art & Culture\"}, {\"x\": [187.0], \"y\": [0.0], \"mode\": \"markers\", \"text\": [\"Handmade Crafts\"], \"marker\": {\"sizemode\": \"area\", \"sizeref\": 5, \"size\": [8.0]}, \"name\": \"Hobbies & Crafts\"}, {\"x\": [4694.0, 615.0], \"y\": [0.0, 0.0], \"mode\": \"markers\", \"text\": [\"Dancing\", \"Dance Lessons\"], \"marker\": {\"sizemode\": \"area\", \"sizeref\": 5, \"size\": [161.0, 27.0]}, \"name\": \"Dancing\"}, {\"x\": [104.0, 0.0], \"y\": [0.0, 0.0], \"mode\": \"markers\", \"text\": [\"LGBT Social Group\", \"Friends & Supporters of LGBT/GLBT\"], \"marker\": {\"sizemode\": \"area\", \"sizeref\": 5, \"size\": [22.0, 1.0]}, \"name\": \"LGBT\"}, {\"x\": [19.0], \"y\": [0.0], \"mode\": \"markers\", \"text\": [\"Sport Bikes\"], \"marker\": {\"sizemode\": \"area\", \"sizeref\": 5, \"size\": [5.0]}, \"name\": \"Sports & Recreation\"}, {\"x\": [], \"y\": [], \"mode\": \"markers\", \"text\": [], \"marker\": {\"sizemode\": \"area\", \"sizeref\": 5, \"size\": []}, \"name\": \"Book Club\"}], \"name\": \"2011\"}, {\"data\": [{\"x\": [1852.0, 1928.0, 1756.0, 27.0, 295.0, 1757.0, 1093.0, 201.0, 1504.0, 430.0, 1665.0, 104.0], \"y\": [0.0, 0.0, 0.0, 0.0, 0.0, 0.0, 0.0, 0.0, 12.0, 0.0, 0.0, 0.0], \"mode\": \"markers\", \"text\": [\"Spanish Language\", \"French Language\", \"Italian Language\", \"Cultural Diversity\", \"Cultural Activities\", \"Japanese Language\", \"English Language\", \"Mandarin Language\", \"Culture Exchange\", \"Latino Culture\", \"Chinese language\", \"European Culture\"], \"marker\": {\"sizemode\": \"area\", \"sizeref\": 5, \"size\": [34.0, 31.0, 17.0, 4.0, 12.0, 28.0, 21.0, 12.0, 43.0, 24.0, 30.0, 9.0]}, \"name\": \"Language & Ethnic Identity\"}, {\"x\": [3264.0, 3264.0, 545.0, 623.0, 113.0], \"y\": [100.0, 12.0, 0.0, 0.0, 0.0], \"mode\": \"markers\", \"text\": [\"Photography\", \"Photography\", \"Model Photography\", \"Fashion Photography\", \"Photography Business\"], \"marker\": {\"sizemode\": \"area\", \"sizeref\": 5, \"size\": [94.0, 94.0, 20.0, 25.0, 1.0]}, \"name\": \"Photography\"}, {\"x\": [1236.0, 1169.0, 768.0], \"y\": [0.0, 0.0, 0.0], \"mode\": \"markers\", \"text\": [\"Game Development\", \"Games\", \"Game Design\"], \"marker\": {\"sizemode\": \"area\", \"sizeref\": 5, \"size\": [23.0, 23.0, 13.0]}, \"name\": \"Games\"}, {\"x\": [5481.0, 728.0], \"y\": [0.0, 0.0], \"mode\": \"markers\", \"text\": [\"Wine\", \"Food and Drink\"], \"marker\": {\"sizemode\": \"area\", \"sizeref\": 5, \"size\": [122.0, 13.0]}, \"name\": \"Food & Drink\"}, {\"x\": [137.0, 25805.0, 303.0, 4521.0, 69.0, 224.0, 990.0, 832.0, 228.0, 29.0, 24.0], \"y\": [0.0, 112.0, 0.0, 0.0, 0.0, 0.0, 0.0, 0.0, 0.0, 0.0, 0.0], \"mode\": \"markers\", \"text\": [\"Corporate Social Responsibility\", \"Social Networking\", \"Social Enterprise\", \"Social Media Marketing\", \"20's Social\", \"Social Justice\", \"Women's Business Networking\", \"Social Entrepreneurship\", \"Women's Networking\", \"Networking with HR Professionals\", \"Business Networking International (BNI)\"], \"marker\": {\"sizemode\": \"area\", \"sizeref\": 5, \"size\": [6.0, 721.0, 8.0, 90.0, 8.0, 14.0, 35.0, 23.0, 9.0, 3.0, 1.0]}, \"name\": \"Socializing\"}, {\"x\": [2037.0, 1329.0, 133.0, 618.0, 572.0, 286.0, 208.0], \"y\": [0.0, 100.0, 0.0, 0.0, 0.0, 0.0, 0.0], \"mode\": \"markers\", \"text\": [\"Fashion Industry\", \"Fashion and Style\", \"Restaurant Industry\", \"Fashion Entrepreneurs\", \"Fashion Design\", \"Clothing and Fashion Designers\", \"Theater Industry\"], \"marker\": {\"sizemode\": \"area\", \"sizeref\": 5, \"size\": [52.0, 43.0, 5.0, 16.0, 22.0, 8.0, 5.0]}, \"name\": \"Fashion & Beauty\"}, {\"x\": [], \"y\": [], \"mode\": \"markers\", \"text\": [], \"marker\": {\"sizemode\": \"area\", \"sizeref\": 5, \"size\": []}, \"name\": null}, {\"x\": [256.0, 342.0, 81.0, 571.0, 24.0], \"y\": [0.0, 0.0, 0.0, 0.0, 0.0], \"mode\": \"markers\", \"text\": [\"Education\", \"Financial Education\", \"Real Estate Investment Education\", \"Higher Education\", \"Trader Education\"], \"marker\": {\"sizemode\": \"area\", \"sizeref\": 5, \"size\": [19.0, 14.0, 12.0, 5.0, 3.0]}, \"name\": \"Education & Learning\"}, {\"x\": [18529.0, 10980.0, 119.0], \"y\": [0.0, 0.0, 0.0], \"mode\": \"markers\", \"text\": [\"New Technology\", \"Mobile Technology\", \"Technology Innovation\"], \"marker\": {\"sizemode\": \"area\", \"sizeref\": 5, \"size\": [264.0, 122.0, 1.0]}, \"name\": \"Tech\"}, {\"x\": [842.0, 56.0, 85.0], \"y\": [0.0, 0.0, 0.0], \"mode\": \"markers\", \"text\": [\"Literature\", \"Modern literature\", \"Comparative Literature\"], \"marker\": {\"sizemode\": \"area\", \"sizeref\": 5, \"size\": [34.0, 2.0, 1.0]}, \"name\": \"Literature\"}, {\"x\": [959.0, 3080.0, 294.0], \"y\": [0.0, 100.0, 0.0], \"mode\": \"markers\", \"text\": [\"Creative Writing\", \"Writing\", \"Writing Workshops\"], \"marker\": {\"sizemode\": \"area\", \"sizeref\": 5, \"size\": [27.0, 120.0, 12.0]}, \"name\": \"Writing\"}, {\"x\": [466.0, 3141.0, 93.0, 758.0, 160.0, 539.0, 464.0, 185.0], \"y\": [50.0, 112.0, 0.0, 0.0, 0.0, 0.0, 0.0, 0.0], \"mode\": \"markers\", \"text\": [\"Fine Arts\", \"Performing Arts\", \"Art Exhibit\", \"Digital Art\", \"Art History\", \"Art Walks and Tours\", \"Art Museums\", \"Art and Culture\"], \"marker\": {\"sizemode\": \"area\", \"sizeref\": 5, \"size\": [11.0, 98.0, 3.0, 11.0, 3.0, 4.0, 11.0, 2.0]}, \"name\": \"Art & Culture\"}, {\"x\": [303.0], \"y\": [0.0], \"mode\": \"markers\", \"text\": [\"Handmade Crafts\"], \"marker\": {\"sizemode\": \"area\", \"sizeref\": 5, \"size\": [9.0]}, \"name\": \"Hobbies & Crafts\"}, {\"x\": [5669.0, 806.0], \"y\": [0.0, 0.0], \"mode\": \"markers\", \"text\": [\"Dancing\", \"Dance Lessons\"], \"marker\": {\"sizemode\": \"area\", \"sizeref\": 5, \"size\": [192.0, 34.0]}, \"name\": \"Dancing\"}, {\"x\": [410.0], \"y\": [0.0], \"mode\": \"markers\", \"text\": [\"LGBT Social Group\"], \"marker\": {\"sizemode\": \"area\", \"sizeref\": 5, \"size\": [33.0]}, \"name\": \"LGBT\"}, {\"x\": [], \"y\": [], \"mode\": \"markers\", \"text\": [], \"marker\": {\"sizemode\": \"area\", \"sizeref\": 5, \"size\": []}, \"name\": \"Sports & Recreation\"}, {\"x\": [], \"y\": [], \"mode\": \"markers\", \"text\": [], \"marker\": {\"sizemode\": \"area\", \"sizeref\": 5, \"size\": []}, \"name\": \"Book Club\"}], \"name\": \"2012\"}, {\"data\": [{\"x\": [2310.0, 2363.0, 2153.0, 32.0, 700.0, 2172.0, 1243.0, 522.0, 2010.0, 555.0, 1665.0, 125.0], \"y\": [0.0, 0.0, 0.0, 0.0, 0.0, 0.0, 0.0, 0.0, 12.0, 0.0, 0.0, 0.0], \"mode\": \"markers\", \"text\": [\"Spanish Language\", \"French Language\", \"Italian Language\", \"Cultural Diversity\", \"Cultural Activities\", \"Japanese Language\", \"English Language\", \"Mandarin Language\", \"Culture Exchange\", \"Latino Culture\", \"Chinese language\", \"European Culture\"], \"marker\": {\"sizemode\": \"area\", \"sizeref\": 5, \"size\": [40.0, 37.0, 22.0, 6.0, 16.0, 31.0, 30.0, 13.0, 50.0, 29.0, 31.0, 10.0]}, \"name\": \"Language & Ethnic Identity\"}, {\"x\": [3442.0, 3442.0, 545.0, 623.0], \"y\": [100.0, 12.0, 0.0, 0.0], \"mode\": \"markers\", \"text\": [\"Photography\", \"Photography\", \"Model Photography\", \"Fashion Photography\"], \"marker\": {\"sizemode\": \"area\", \"sizeref\": 5, \"size\": [100.0, 100.0, 24.0, 27.0]}, \"name\": \"Photography\"}, {\"x\": [2131.0, 1514.0, 1912.0, 169.0], \"y\": [0.0, 0.0, 0.0, 0.0], \"mode\": \"markers\", \"text\": [\"Game Development\", \"Games\", \"Game Design\", \"Improv games\"], \"marker\": {\"sizemode\": \"area\", \"sizeref\": 5, \"size\": [35.0, 33.0, 27.0, 1.0]}, \"name\": \"Games\"}, {\"x\": [6747.0, 1406.0], \"y\": [0.0, 0.0], \"mode\": \"markers\", \"text\": [\"Wine\", \"Food and Drink\"], \"marker\": {\"sizemode\": \"area\", \"sizeref\": 5, \"size\": [141.0, 20.0]}, \"name\": \"Food & Drink\"}, {\"x\": [30240.0, 553.0, 6136.0, 301.0, 487.0, 1267.0, 1366.0, 298.0, 371.0, 45.0, 43.0, 669.0], \"y\": [112.0, 0.0, 0.0, 0.0, 0.0, 0.0, 0.0, 0.0, 0.0, 0.0, 0.0, 0.0], \"mode\": \"markers\", \"text\": [\"Social Networking\", \"Social Enterprise\", \"Social Media Marketing\", \"20's Social\", \"Social Justice\", \"Women's Business Networking\", \"Social Entrepreneurship\", \"Women's Networking\", \"B2B Networking\", \"Networking with HR Professionals\", \"Business Networking International (BNI)\", \"Social Marketing\"], \"marker\": {\"sizemode\": \"area\", \"sizeref\": 5, \"size\": [783.0, 11.0, 114.0, 10.0, 19.0, 47.0, 32.0, 11.0, 12.0, 6.0, 2.0, 3.0]}, \"name\": \"Socializing\"}, {\"x\": [2253.0, 2037.0, 865.0, 808.0, 509.0], \"y\": [0.0, 100.0, 0.0, 0.0, 0.0], \"mode\": \"markers\", \"text\": [\"Fashion Industry\", \"Fashion and Style\", \"Fashion Entrepreneurs\", \"Fashion Design\", \"Clothing and Fashion Designers\"], \"marker\": {\"sizemode\": \"area\", \"sizeref\": 5, \"size\": [60.0, 56.0, 20.0, 28.0, 14.0]}, \"name\": \"Fashion & Beauty\"}, {\"x\": [], \"y\": [], \"mode\": \"markers\", \"text\": [], \"marker\": {\"sizemode\": \"area\", \"sizeref\": 5, \"size\": []}, \"name\": null}, {\"x\": [604.0, 591.0, 184.0, 942.0, 5.0], \"y\": [0.0, 0.0, 2.0, 0.0, 0.0], \"mode\": \"markers\", \"text\": [\"Education\", \"Financial Education\", \"Real Estate Investment Education\", \"Higher Education\", \"Investment Education\"], \"marker\": {\"sizemode\": \"area\", \"sizeref\": 5, \"size\": [23.0, 22.0, 23.0, 9.0, 2.0]}, \"name\": \"Education & Learning\"}, {\"x\": [27408.0, 15543.0, 296.0], \"y\": [1.0, 0.0, 0.0], \"mode\": \"markers\", \"text\": [\"New Technology\", \"Mobile Technology\", \"Technology Innovation\"], \"marker\": {\"sizemode\": \"area\", \"sizeref\": 5, \"size\": [345.0, 188.0, 2.0]}, \"name\": \"Tech\"}, {\"x\": [1156.0], \"y\": [0.0], \"mode\": \"markers\", \"text\": [\"Literature\"], \"marker\": {\"sizemode\": \"area\", \"sizeref\": 5, \"size\": [48.0]}, \"name\": \"Literature\"}, {\"x\": [1173.0, 3707.0, 347.0, 71.0], \"y\": [0.0, 100.0, 0.0, 0.0], \"mode\": \"markers\", \"text\": [\"Creative Writing\", \"Writing\", \"Writing Workshops\", \"Journal Writing\"], \"marker\": {\"sizemode\": \"area\", \"sizeref\": 5, \"size\": [39.0, 142.0, 17.0, 2.0]}, \"name\": \"Writing\"}, {\"x\": [630.0, 4673.0, 209.0, 1017.0, 1043.0, 1060.0, 35.0, 136.0], \"y\": [50.0, 112.0, 0.0, 0.0, 0.0, 0.0, 0.0, 0.0], \"mode\": \"markers\", \"text\": [\"Fine Arts\", \"Performing Arts\", \"Art Exhibit\", \"Digital Art\", \"Art Walks and Tours\", \"Art Museums\", \"Art Creating Art and Perfecting Our Art\", \"Arts and Social Arts\"], \"marker\": {\"sizemode\": \"area\", \"sizeref\": 5, \"size\": [13.0, 115.0, 5.0, 14.0, 8.0, 17.0, 1.0, 1.0]}, \"name\": \"Art & Culture\"}, {\"x\": [521.0], \"y\": [0.0], \"mode\": \"markers\", \"text\": [\"Handmade Crafts\"], \"marker\": {\"sizemode\": \"area\", \"sizeref\": 5, \"size\": [14.0]}, \"name\": \"Hobbies & Crafts\"}, {\"x\": [7714.0, 1087.0], \"y\": [0.0, 0.0], \"mode\": \"markers\", \"text\": [\"Dancing\", \"Dance Lessons\"], \"marker\": {\"sizemode\": \"area\", \"sizeref\": 5, \"size\": [216.0, 43.0]}, \"name\": \"Dancing\"}, {\"x\": [926.0, 0.0], \"y\": [0.0, 0.0], \"mode\": \"markers\", \"text\": [\"LGBT Social Group\", \"Friends & Supporters of LGBT/GLBT\"], \"marker\": {\"sizemode\": \"area\", \"sizeref\": 5, \"size\": [45.0, 2.0]}, \"name\": \"LGBT\"}, {\"x\": [19.0], \"y\": [0.0], \"mode\": \"markers\", \"text\": [\"Sport Bikes\"], \"marker\": {\"sizemode\": \"area\", \"sizeref\": 5, \"size\": [6.0]}, \"name\": \"Sports & Recreation\"}, {\"x\": [51.0], \"y\": [0.0], \"mode\": \"markers\", \"text\": [\"Book Club, Movies\"], \"marker\": {\"sizemode\": \"area\", \"sizeref\": 5, \"size\": [2.0]}, \"name\": \"Book Club\"}], \"name\": \"2013\"}, {\"data\": [{\"x\": [2760.0, 2700.0, 2467.0, 39.0, 886.0, 2704.0, 1557.0, 732.0, 2404.0, 570.0, 2358.0, 149.0], \"y\": [0.0, 0.0, 0.0, 0.0, 12.0, 0.0, 0.0, 0.0, 12.0, 0.0, 0.0, 0.0], \"mode\": \"markers\", \"text\": [\"Spanish Language\", \"French Language\", \"Italian Language\", \"Cultural Diversity\", \"Cultural Activities\", \"Japanese Language\", \"English Language\", \"Mandarin Language\", \"Culture Exchange\", \"Latino Culture\", \"Chinese language\", \"European Culture\"], \"marker\": {\"sizemode\": \"area\", \"sizeref\": 5, \"size\": [49.0, 43.0, 29.0, 8.0, 19.0, 37.0, 43.0, 19.0, 66.0, 31.0, 41.0, 13.0]}, \"name\": \"Language & Ethnic Identity\"}, {\"x\": [5198.0, 5198.0, 973.0, 1409.0], \"y\": [100.0, 12.0, 0.0, 0.0], \"mode\": \"markers\", \"text\": [\"Photography\", \"Photography\", \"Model Photography\", \"Fashion Photography\"], \"marker\": {\"sizemode\": \"area\", \"sizeref\": 5, \"size\": [131.0, 131.0, 34.0, 40.0]}, \"name\": \"Photography\"}, {\"x\": [2871.0, 1974.0, 2237.0], \"y\": [0.0, 0.0, 0.0], \"mode\": \"markers\", \"text\": [\"Game Development\", \"Games\", \"Game Design\"], \"marker\": {\"sizemode\": \"area\", \"sizeref\": 5, \"size\": [46.0, 46.0, 35.0]}, \"name\": \"Games\"}, {\"x\": [8388.0, 1506.0], \"y\": [0.0, 0.0], \"mode\": \"markers\", \"text\": [\"Wine\", \"Food and Drink\"], \"marker\": {\"sizemode\": \"area\", \"sizeref\": 5, \"size\": [161.0, 24.0]}, \"name\": \"Food & Drink\"}, {\"x\": [40181.0, 705.0, 7222.0, 428.0, 659.0, 1491.0, 2100.0, 482.0, 787.0, 92.0, 380.0, 356.0], \"y\": [126.0, 0.0, 50.0, 0.0, 0.0, 12.0, 12.0, 0.0, 0.0, 0.0, 0.0, 12.0], \"mode\": \"markers\", \"text\": [\"Social Networking\", \"Social Enterprise\", \"Social Media Marketing\", \"20's Social\", \"Social Justice\", \"Women's Business Networking\", \"Social Entrepreneurship\", \"Women's Networking\", \"B2B Networking\", \"Social, Social, Social\", \"Networking with HR Professionals\", \"Women Business Networking\"], \"marker\": {\"sizemode\": \"area\", \"sizeref\": 5, \"size\": [936.0, 14.0, 135.0, 11.0, 27.0, 58.0, 41.0, 20.0, 14.0, 2.0, 11.0, 6.0]}, \"name\": \"Socializing\"}, {\"x\": [2483.0, 2632.0, 654.0, 953.0, 1124.0, 631.0, 461.0], \"y\": [0.0, 100.0, 0.0, 0.0, 0.0, 0.0, 12.0], \"mode\": \"markers\", \"text\": [\"Fashion Industry\", \"Fashion and Style\", \"Restaurant Industry\", \"Fashion Entrepreneurs\", \"Fashion Design\", \"Clothing and Fashion Designers\", \"Theater Industry\"], \"marker\": {\"sizemode\": \"area\", \"sizeref\": 5, \"size\": [67.0, 71.0, 9.0, 23.0, 35.0, 19.0, 8.0]}, \"name\": \"Fashion & Beauty\"}, {\"x\": [], \"y\": [], \"mode\": \"markers\", \"text\": [], \"marker\": {\"sizemode\": \"area\", \"sizeref\": 5, \"size\": []}, \"name\": null}, {\"x\": [1683.0, 1406.0, 1080.0, 1187.0, 158.0, 56.0], \"y\": [0.0, 0.0, 29.0, 0.0, 0.0, 0.0], \"mode\": \"markers\", \"text\": [\"Education\", \"Financial Education\", \"Real Estate Investment Education\", \"Higher Education\", \"Business Education\", \"Investment Education\"], \"marker\": {\"sizemode\": \"area\", \"sizeref\": 5, \"size\": [40.0, 28.0, 36.0, 11.0, 3.0, 4.0]}, \"name\": \"Education & Learning\"}, {\"x\": [45016.0, 25468.0, 480.0], \"y\": [2.0, 0.0, 0.0], \"mode\": \"markers\", \"text\": [\"New Technology\", \"Mobile Technology\", \"Technology Innovation\"], \"marker\": {\"sizemode\": \"area\", \"sizeref\": 5, \"size\": [498.0, 263.0, 5.0]}, \"name\": \"Tech\"}, {\"x\": [1488.0], \"y\": [112.0], \"mode\": \"markers\", \"text\": [\"Literature\"], \"marker\": {\"sizemode\": \"area\", \"sizeref\": 5, \"size\": [61.0]}, \"name\": \"Literature\"}, {\"x\": [1961.0, 5818.0, 568.0], \"y\": [62.0, 100.0, 0.0], \"mode\": \"markers\", \"text\": [\"Creative Writing\", \"Writing\", \"Writing Workshops\"], \"marker\": {\"sizemode\": \"area\", \"sizeref\": 5, \"size\": [56.0, 181.0, 27.0]}, \"name\": \"Writing\"}, {\"x\": [1085.0, 6883.0, 233.0, 1102.0, 1590.0, 1443.0, 107.0, 164.0], \"y\": [50.0, 174.0, 0.0, 0.0, 0.0, 0.0, 0.0, 0.0], \"mode\": \"markers\", \"text\": [\"Fine Arts\", \"Performing Arts\", \"Art Exhibit\", \"Digital Art\", \"Art Walks and Tours\", \"Art Museums\", \"Art Creating Art and Perfecting Our Art\", \"Arts and Social Arts\"], \"marker\": {\"sizemode\": \"area\", \"sizeref\": 5, \"size\": [23.0, 149.0, 6.0, 16.0, 10.0, 22.0, 3.0, 3.0]}, \"name\": \"Art & Culture\"}, {\"x\": [759.0], \"y\": [0.0], \"mode\": \"markers\", \"text\": [\"Handmade Crafts\"], \"marker\": {\"sizemode\": \"area\", \"sizeref\": 5, \"size\": [20.0]}, \"name\": \"Hobbies & Crafts\"}, {\"x\": [11751.0, 1701.0], \"y\": [0.0, 0.0], \"mode\": \"markers\", \"text\": [\"Dancing\", \"Dance Lessons\"], \"marker\": {\"sizemode\": \"area\", \"sizeref\": 5, \"size\": [265.0, 64.0]}, \"name\": \"Dancing\"}, {\"x\": [1928.0, 58.0], \"y\": [0.0, 0.0], \"mode\": \"markers\", \"text\": [\"LGBT Social Group\", \"Friends & Supporters of LGBT/GLBT\"], \"marker\": {\"sizemode\": \"area\", \"sizeref\": 5, \"size\": [67.0, 3.0]}, \"name\": \"LGBT\"}, {\"x\": [44.0], \"y\": [0.0], \"mode\": \"markers\", \"text\": [\"Sport Bikes\"], \"marker\": {\"sizemode\": \"area\", \"sizeref\": 5, \"size\": [8.0]}, \"name\": \"Sports & Recreation\"}, {\"x\": [102.0], \"y\": [0.0], \"mode\": \"markers\", \"text\": [\"Book Club, Movies\"], \"marker\": {\"sizemode\": \"area\", \"sizeref\": 5, \"size\": [3.0]}, \"name\": \"Book Club\"}], \"name\": \"2014\"}, {\"data\": [{\"x\": [4654.0, 5190.0, 3303.0, 389.0, 2707.0, 2728.0, 3751.0, 1319.0, 8977.0, 896.0, 3457.0, 181.0], \"y\": [0.0, 0.0, 0.0, 0.0, 12.0, 0.0, 0.0, 0.0, 12.0, 0.0, 0.0, 0.0], \"mode\": \"markers\", \"text\": [\"Spanish Language\", \"French Language\", \"Italian Language\", \"Cultural Diversity\", \"Cultural Activities\", \"Japanese Language\", \"English Language\", \"Mandarin Language\", \"Culture Exchange\", \"Latino Culture\", \"Chinese language\", \"European Culture\"], \"marker\": {\"sizemode\": \"area\", \"sizeref\": 5, \"size\": [64.0, 55.0, 33.0, 12.0, 27.0, 40.0, 54.0, 24.0, 106.0, 40.0, 49.0, 14.0]}, \"name\": \"Language & Ethnic Identity\"}, {\"x\": [9683.0, 9683.0, 1382.0, 2074.0, 858.0], \"y\": [112.0, 12.0, 0.0, 0.0, 0.0], \"mode\": \"markers\", \"text\": [\"Photography\", \"Photography\", \"Model Photography\", \"Fashion Photography\", \"Photography Business\"], \"marker\": {\"sizemode\": \"area\", \"sizeref\": 5, \"size\": [157.0, 157.0, 42.0, 47.0, 4.0]}, \"name\": \"Photography\"}, {\"x\": [4085.0, 4835.0, 2860.0], \"y\": [0.0, 0.0, 0.0], \"mode\": \"markers\", \"text\": [\"Game Development\", \"Games\", \"Game Design\"], \"marker\": {\"sizemode\": \"area\", \"sizeref\": 5, \"size\": [58.0, 76.0, 44.0]}, \"name\": \"Games\"}, {\"x\": [14126.0, 4783.0], \"y\": [0.0, 0.0], \"mode\": \"markers\", \"text\": [\"Wine\", \"Food and Drink\"], \"marker\": {\"sizemode\": \"area\", \"sizeref\": 5, \"size\": [195.0, 59.0]}, \"name\": \"Food & Drink\"}, {\"x\": [168.0, 73835.0, 1236.0, 9643.0, 1787.0, 1365.0, 3765.0, 3249.0, 2337.0, 2415.0, 92.0, 1022.0, 99.0, 395.0, 62.0], \"y\": [0.0, 151.0, 0.0, 62.0, 0.0, 0.0, 35.0, 12.0, 0.0, 0.0, 0.0, 0.0, 50.0, 12.0, 0.0], \"mode\": \"markers\", \"text\": [\"Corporate Social Responsibility\", \"Social Networking\", \"Social Enterprise\", \"Social Media Marketing\", \"20's Social\", \"Social Justice\", \"Women's Business Networking\", \"Social Entrepreneurship\", \"Women's Networking\", \"B2B Networking\", \"Social, Social, Social\", \"Networking with HR Professionals\", \"Business Networking International (BNI)\", \"Women Business Networking\", \"Professional Networking for Actors\"], \"marker\": {\"sizemode\": \"area\", \"sizeref\": 5, \"size\": [7.0, 1144.0, 19.0, 160.0, 14.0, 45.0, 82.0, 61.0, 43.0, 25.0, 3.0, 21.0, 4.0, 7.0, 1.0]}, \"name\": \"Socializing\"}, {\"x\": [3674.0, 4756.0, 739.0, 1204.0, 2494.0, 1204.0, 791.0], \"y\": [0.0, 112.0, 0.0, 0.0, 0.0, 0.0, 12.0], \"mode\": \"markers\", \"text\": [\"Fashion Industry\", \"Fashion and Style\", \"Restaurant Industry\", \"Fashion Entrepreneurs\", \"Fashion Design\", \"Clothing and Fashion Designers\", \"Theater Industry\"], \"marker\": {\"sizemode\": \"area\", \"sizeref\": 5, \"size\": [78.0, 83.0, 12.0, 27.0, 42.0, 23.0, 10.0]}, \"name\": \"Fashion & Beauty\"}, {\"x\": [], \"y\": [], \"mode\": \"markers\", \"text\": [], \"marker\": {\"sizemode\": \"area\", \"sizeref\": 5, \"size\": []}, \"name\": null}, {\"x\": [2999.0, 2870.0, 2884.0, 1282.0, 183.0, 63.0], \"y\": [0.0, 0.0, 56.0, 0.0, 0.0, 0.0], \"mode\": \"markers\", \"text\": [\"Education\", \"Financial Education\", \"Real Estate Investment Education\", \"Higher Education\", \"Business Education\", \"Investment Education\"], \"marker\": {\"sizemode\": \"area\", \"sizeref\": 5, \"size\": [57.0, 48.0, 65.0, 14.0, 4.0, 5.0]}, \"name\": \"Education & Learning\"}, {\"x\": [69737.0, 39259.0, 480.0], \"y\": [3.0, 0.0, 0.0], \"mode\": \"markers\", \"text\": [\"New Technology\", \"Mobile Technology\", \"Technology Innovation\"], \"marker\": {\"sizemode\": \"area\", \"sizeref\": 5, \"size\": [673.0, 346.0, 7.0]}, \"name\": \"Tech\"}, {\"x\": [2781.0, 153.0], \"y\": [112.0, 0.0], \"mode\": \"markers\", \"text\": [\"Literature\", \"Modern literature\"], \"marker\": {\"sizemode\": \"area\", \"sizeref\": 5, \"size\": [79.0, 3.0]}, \"name\": \"Literature\"}, {\"x\": [3478.0, 8339.0, 1176.0, 89.0, 158.0], \"y\": [62.0, 112.0, 0.0, 0.0, 0.0], \"mode\": \"markers\", \"text\": [\"Creative Writing\", \"Writing\", \"Writing Workshops\", \"Journal Writing\", \"Acting and Writing\"], \"marker\": {\"sizemode\": \"area\", \"sizeref\": 5, \"size\": [71.0, 209.0, 35.0, 3.0, 1.0]}, \"name\": \"Writing\"}, {\"x\": [3821.0, 16286.0, 274.0, 1132.0, 2775.0, 3676.0, 1041.0, 73.0], \"y\": [112.0, 286.0, 0.0, 0.0, 0.0, 0.0, 0.0, 0.0], \"mode\": \"markers\", \"text\": [\"Fine Arts\", \"Performing Arts\", \"Art Exhibit\", \"Digital Art\", \"Art Walks and Tours\", \"Art Museums\", \"Art and Culture\", \"Art Classes\"], \"marker\": {\"sizemode\": \"area\", \"sizeref\": 5, \"size\": [38.0, 187.0, 8.0, 17.0, 13.0, 32.0, 3.0, 2.0]}, \"name\": \"Art & Culture\"}, {\"x\": [1957.0], \"y\": [0.0], \"mode\": \"markers\", \"text\": [\"Handmade Crafts\"], \"marker\": {\"sizemode\": \"area\", \"sizeref\": 5, \"size\": [28.0]}, \"name\": \"Hobbies & Crafts\"}, {\"x\": [21408.0, 3355.0], \"y\": [0.0, 0.0], \"mode\": \"markers\", \"text\": [\"Dancing\", \"Dance Lessons\"], \"marker\": {\"sizemode\": \"area\", \"sizeref\": 5, \"size\": [315.0, 86.0]}, \"name\": \"Dancing\"}, {\"x\": [3423.0, 67.0], \"y\": [0.0, 0.0], \"mode\": \"markers\", \"text\": [\"LGBT Social Group\", \"Friends & Supporters of LGBT/GLBT\"], \"marker\": {\"sizemode\": \"area\", \"sizeref\": 5, \"size\": [93.0, 5.0]}, \"name\": \"LGBT\"}, {\"x\": [44.0], \"y\": [0.0], \"mode\": \"markers\", \"text\": [\"Sport Bikes\"], \"marker\": {\"sizemode\": \"area\", \"sizeref\": 5, \"size\": [9.0]}, \"name\": \"Sports & Recreation\"}, {\"x\": [102.0], \"y\": [0.0], \"mode\": \"markers\", \"text\": [\"Book Club, Movies\"], \"marker\": {\"sizemode\": \"area\", \"sizeref\": 5, \"size\": [6.0]}, \"name\": \"Book Club\"}], \"name\": \"2015\"}, {\"data\": [{\"x\": [9188.0, 7308.0, 3931.0, 745.0, 4829.0, 4113.0, 7051.0, 2323.0, 17335.0, 1709.0, 5570.0, 487.0], \"y\": [0.0, 0.0, 0.0, 0.0, 12.0, 0.0, 0.0, 0.0, 12.0, 0.0, 0.0, 0.0], \"mode\": \"markers\", \"text\": [\"Spanish Language\", \"French Language\", \"Italian Language\", \"Cultural Diversity\", \"Cultural Activities\", \"Japanese Language\", \"English Language\", \"Mandarin Language\", \"Culture Exchange\", \"Latino Culture\", \"Chinese language\", \"European Culture\"], \"marker\": {\"sizemode\": \"area\", \"sizeref\": 5, \"size\": [85.0, 78.0, 37.0, 15.0, 44.0, 51.0, 72.0, 32.0, 150.0, 45.0, 64.0, 17.0]}, \"name\": \"Language & Ethnic Identity\"}, {\"x\": [20841.0, 20841.0, 2208.0, 4541.0, 949.0], \"y\": [174.0, 12.0, 0.0, 0.0, 12.0], \"mode\": \"markers\", \"text\": [\"Photography\", \"Photography\", \"Model Photography\", \"Fashion Photography\", \"Photography Business\"], \"marker\": {\"sizemode\": \"area\", \"sizeref\": 5, \"size\": [203.0, 203.0, 50.0, 65.0, 5.0]}, \"name\": \"Photography\"}, {\"x\": [5766.0, 7567.0, 4337.0, 322.0, 0.0], \"y\": [0.0, 0.0, 0.0, 0.0, 0.0], \"mode\": \"markers\", \"text\": [\"Game Development\", \"Games\", \"Game Design\", \"Improv games\", \"Storytelling Games\"], \"marker\": {\"sizemode\": \"area\", \"sizeref\": 5, \"size\": [69.0, 107.0, 56.0, 2.0, 1.0]}, \"name\": \"Games\"}, {\"x\": [29855.0, 8094.0], \"y\": [12.0, 0.0], \"mode\": \"markers\", \"text\": [\"Wine\", \"Food and Drink\"], \"marker\": {\"sizemode\": \"area\", \"sizeref\": 5, \"size\": [265.0, 95.0]}, \"name\": \"Food & Drink\"}, {\"x\": [208.0, 113586.0, 1584.0, 14973.0, 2425.0, 2207.0, 6921.0, 5993.0, 6222.0, 2625.0, 107.0, 2432.0, 154.0, 485.0, 557.0], \"y\": [0.0, 361.0, 0.0, 182.0, 0.0, 0.0, 119.0, 24.0, 0.0, 12.0, 0.0, 0.0, 50.0, 12.0, 0.0], \"mode\": \"markers\", \"text\": [\"Corporate Social Responsibility\", \"Social Networking\", \"Social Enterprise\", \"Social Media Marketing\", \"20's Social\", \"Social Justice\", \"Women's Business Networking\", \"Social Entrepreneurship\", \"Women's Networking\", \"B2B Networking\", \"Social, Social, Social\", \"Networking with HR Professionals\", \"Business Networking International (BNI)\", \"Women Business Networking\", \"Professional Networking for Actors\"], \"marker\": {\"sizemode\": \"area\", \"sizeref\": 5, \"size\": [8.0, 1376.0, 23.0, 211.0, 20.0, 61.0, 124.0, 97.0, 78.0, 32.0, 7.0, 39.0, 6.0, 10.0, 3.0]}, \"name\": \"Socializing\"}, {\"x\": [6308.0, 10868.0, 765.0, 3515.0, 4551.0, 3159.0, 1639.0], \"y\": [11.0, 124.0, 0.0, 0.0, 0.0, 0.0, 38.0], \"mode\": \"markers\", \"text\": [\"Fashion Industry\", \"Fashion and Style\", \"Restaurant Industry\", \"Fashion Entrepreneurs\", \"Fashion Design\", \"Clothing and Fashion Designers\", \"Theater Industry\"], \"marker\": {\"sizemode\": \"area\", \"sizeref\": 5, \"size\": [107.0, 138.0, 14.0, 50.0, 65.0, 43.0, 15.0]}, \"name\": \"Fashion & Beauty\"}, {\"x\": [], \"y\": [], \"mode\": \"markers\", \"text\": [], \"marker\": {\"sizemode\": \"area\", \"sizeref\": 5, \"size\": []}, \"name\": null}, {\"x\": [6440.0, 4568.0, 5255.0, 1495.0, 234.0, 528.0], \"y\": [50.0, 0.0, 68.0, 0.0, 0.0, 0.0], \"mode\": \"markers\", \"text\": [\"Education\", \"Financial Education\", \"Real Estate Investment Education\", \"Higher Education\", \"Business Education\", \"Investment Education\"], \"marker\": {\"sizemode\": \"area\", \"sizeref\": 5, \"size\": [95.0, 70.0, 97.0, 17.0, 6.0, 6.0]}, \"name\": \"Education & Learning\"}, {\"x\": [103062.0, 47655.0, 997.0], \"y\": [126.0, 25.0, 0.0], \"mode\": \"markers\", \"text\": [\"New Technology\", \"Mobile Technology\", \"Technology Innovation\"], \"marker\": {\"sizemode\": \"area\", \"sizeref\": 5, \"size\": [895.0, 412.0, 10.0]}, \"name\": \"Tech\"}, {\"x\": [5406.0, 223.0, 316.0, 70.0], \"y\": [113.0, 1.0, 0.0, 1.0], \"mode\": \"markers\", \"text\": [\"Literature\", \"Modern literature\", \"African American Literature\", \"Classic literature\"], \"marker\": {\"sizemode\": \"area\", \"sizeref\": 5, \"size\": [101.0, 4.0, 1.0, 1.0]}, \"name\": \"Literature\"}, {\"x\": [6313.0, 12886.0, 2744.0, 97.0, 254.0], \"y\": [123.0, 322.0, 0.0, 0.0, 0.0], \"mode\": \"markers\", \"text\": [\"Creative Writing\", \"Writing\", \"Writing Workshops\", \"Journal Writing\", \"Acting and Writing\"], \"marker\": {\"sizemode\": \"area\", \"sizeref\": 5, \"size\": [101.0, 249.0, 56.0, 4.0, 4.0]}, \"name\": \"Writing\"}, {\"x\": [7218.0, 33019.0, 1317.0, 1054.0, 3788.0, 7039.0, 1063.0, 156.0, 1634.0, 1338.0, 17.0], \"y\": [174.0, 462.0, 0.0, 0.0, 0.0, 12.0, 0.0, 0.0, 0.0, 0.0, 0.0], \"mode\": \"markers\", \"text\": [\"Fine Arts\", \"Performing Arts\", \"Art Exhibit\", \"Art History\", \"Art Walks and Tours\", \"Art Museums\", \"Art and Culture\", \"Art Creating Art and Perfecting Our Art\", \"Arts and Social Arts\", \"Art Classes\", \"Ceramic Arts\"], \"marker\": {\"sizemode\": \"area\", \"sizeref\": 5, \"size\": [55.0, 237.0, 11.0, 6.0, 17.0, 45.0, 6.0, 4.0, 6.0, 5.0, 1.0]}, \"name\": \"Art & Culture\"}, {\"x\": [2639.0], \"y\": [0.0], \"mode\": \"markers\", \"text\": [\"Handmade Crafts\"], \"marker\": {\"sizemode\": \"area\", \"sizeref\": 5, \"size\": [34.0]}, \"name\": \"Hobbies & Crafts\"}, {\"x\": [33728.0, 13132.0], \"y\": [50.0, 50.0], \"mode\": \"markers\", \"text\": [\"Dancing\", \"Dance Lessons\"], \"marker\": {\"sizemode\": \"area\", \"sizeref\": 5, \"size\": [380.0, 113.0]}, \"name\": \"Dancing\"}, {\"x\": [7933.0, 576.0], \"y\": [0.0, 0.0], \"mode\": \"markers\", \"text\": [\"LGBT Social Group\", \"Friends & Supporters of LGBT/GLBT\"], \"marker\": {\"sizemode\": \"area\", \"sizeref\": 5, \"size\": [137.0, 12.0]}, \"name\": \"LGBT\"}, {\"x\": [44.0], \"y\": [0.0], \"mode\": \"markers\", \"text\": [\"Sport Bikes\"], \"marker\": {\"sizemode\": \"area\", \"sizeref\": 5, \"size\": [10.0]}, \"name\": \"Sports & Recreation\"}, {\"x\": [127.0], \"y\": [0.0], \"mode\": \"markers\", \"text\": [\"Book Club, Movies\"], \"marker\": {\"sizemode\": \"area\", \"sizeref\": 5, \"size\": [7.0]}, \"name\": \"Book Club\"}], \"name\": \"2016\"}, {\"data\": [{\"x\": [11754.0, 9339.0, 4890.0, 830.0, 7365.0, 5528.0, 10863.0, 3055.0, 29908.0, 3119.0, 6827.0, 693.0], \"y\": [5.0, 29.0, 51.0, 25.0, 15.0, 4.0, 2.0, 50.0, 40.0, 3.0, 51.0, 1.0], \"mode\": \"markers\", \"text\": [\"Spanish Language\", \"French Language\", \"Italian Language\", \"Cultural Diversity\", \"Cultural Activities\", \"Japanese Language\", \"English Language\", \"Mandarin Language\", \"Culture Exchange\", \"Latino Culture\", \"Chinese language\", \"European Culture\"], \"marker\": {\"sizemode\": \"area\", \"sizeref\": 5, \"size\": [111.0, 97.0, 44.0, 23.0, 67.0, 64.0, 106.0, 38.0, 245.0, 64.0, 77.0, 19.0]}, \"name\": \"Language & Ethnic Identity\"}, {\"x\": [32308.0, 32308.0, 6682.0, 8606.0, 1008.0], \"y\": [266.0, 12.0, 5.0, 4.0, 13.0], \"mode\": \"markers\", \"text\": [\"Photography\", \"Photography\", \"Model Photography\", \"Fashion Photography\", \"Photography Business\"], \"marker\": {\"sizemode\": \"area\", \"sizeref\": 5, \"size\": [263.0, 263.0, 68.0, 88.0, 6.0]}, \"name\": \"Photography\"}, {\"x\": [6703.0, 9883.0, 4736.0, 322.0, 190.0], \"y\": [1.0, 3.0, 2.0, 4.0, 3.0], \"mode\": \"markers\", \"text\": [\"Game Development\", \"Games\", \"Game Design\", \"Improv games\", \"Storytelling Games\"], \"marker\": {\"sizemode\": \"area\", \"sizeref\": 5, \"size\": [79.0, 168.0, 65.0, 3.0, 3.0]}, \"name\": \"Games\"}, {\"x\": [45112.0, 18388.0], \"y\": [48.0, 1.0], \"mode\": \"markers\", \"text\": [\"Wine\", \"Food and Drink\"], \"marker\": {\"sizemode\": \"area\", \"sizeref\": 5, \"size\": [356.0, 184.0]}, \"name\": \"Food & Drink\"}, {\"x\": [489.0, 152158.0, 2182.0, 20977.0, 2966.0, 8549.0, 13001.0, 8029.0, 11298.0, 3511.0, 481.0, 3481.0, 309.0, 692.0, 1162.0, 2691.0], \"y\": [1.0, 702.0, 12.0, 261.0, 1.0, 2.0, 310.0, 57.0, 18.0, 24.0, 1.0, 1.0, 51.0, 14.0, 12.0, 3.0], \"mode\": \"markers\", \"text\": [\"Corporate Social Responsibility\", \"Social Networking\", \"Social Enterprise\", \"Social Media Marketing\", \"20's Social\", \"Social Justice\", \"Women's Business Networking\", \"Social Entrepreneurship\", \"Women's Networking\", \"B2B Networking\", \"Social, Social, Social\", \"Networking with HR Professionals\", \"Business Networking International (BNI)\", \"Social Marketing\", \"Women Business Networking\", \"Professional Networking for Actors\"], \"marker\": {\"sizemode\": \"area\", \"sizeref\": 5, \"size\": [13.0, 1848.0, 29.0, 283.0, 30.0, 101.0, 215.0, 128.0, 147.0, 53.0, 17.0, 50.0, 8.0, 4.0, 23.0, 5.0]}, \"name\": \"Socializing\"}, {\"x\": [9154.0, 16751.0, 810.0, 4874.0, 5173.0, 3236.0, 1807.0], \"y\": [14.0, 134.0, 1.0, 2.0, 7.0, 1.0, 50.0], \"mode\": \"markers\", \"text\": [\"Fashion Industry\", \"Fashion and Style\", \"Restaurant Industry\", \"Fashion Entrepreneurs\", \"Fashion Design\", \"Clothing and Fashion Designers\", \"Theater Industry\"], \"marker\": {\"sizemode\": \"area\", \"sizeref\": 5, \"size\": [136.0, 202.0, 19.0, 70.0, 85.0, 51.0, 16.0]}, \"name\": \"Fashion & Beauty\"}, {\"x\": [], \"y\": [], \"mode\": \"markers\", \"text\": [], \"marker\": {\"sizemode\": \"area\", \"sizeref\": 5, \"size\": []}, \"name\": null}, {\"x\": [12334.0, 6006.0, 10133.0, 1543.0, 331.0, 692.0], \"y\": [76.0, 18.0, 94.0, 1.0, 3.0, 13.0], \"mode\": \"markers\", \"text\": [\"Education\", \"Financial Education\", \"Real Estate Investment Education\", \"Higher Education\", \"Business Education\", \"Investment Education\"], \"marker\": {\"sizemode\": \"area\", \"sizeref\": 5, \"size\": [160.0, 105.0, 156.0, 19.0, 8.0, 11.0]}, \"name\": \"Education & Learning\"}, {\"x\": [141630.0, 55104.0, 1144.0], \"y\": [242.0, 45.0, 4.0], \"mode\": \"markers\", \"text\": [\"New Technology\", \"Mobile Technology\", \"Technology Innovation\"], \"marker\": {\"sizemode\": \"area\", \"sizeref\": 5, \"size\": [1239.0, 474.0, 14.0]}, \"name\": \"Tech\"}, {\"x\": [7156.0, 257.0, 70.0], \"y\": [269.0, 5.0, 1.0], \"mode\": \"markers\", \"text\": [\"Literature\", \"Modern literature\", \"Classic literature\"], \"marker\": {\"sizemode\": \"area\", \"sizeref\": 5, \"size\": [133.0, 6.0, 2.0]}, \"name\": \"Literature\"}, {\"x\": [11132.0, 17342.0, 4646.0, 671.0], \"y\": [282.0, 576.0, 32.0, 7.0], \"mode\": \"markers\", \"text\": [\"Creative Writing\", \"Writing\", \"Writing Workshops\", \"Acting and Writing\"], \"marker\": {\"sizemode\": \"area\", \"sizeref\": 5, \"size\": [156.0, 311.0, 81.0, 10.0]}, \"name\": \"Writing\"}, {\"x\": [11498.0, 44001.0, 1402.0, 1353.0, 4422.0, 7995.0, 1127.0, 276.0, 213.0], \"y\": [507.0, 824.0, 3.0, 12.0, 8.0, 20.0, 6.0, 1.0, 13.0], \"mode\": \"markers\", \"text\": [\"Fine Arts\", \"Performing Arts\", \"Art Exhibit\", \"Digital Art\", \"Art Walks and Tours\", \"Art Museums\", \"Art and Culture\", \"Art Creating Art and Perfecting Our Art\", \"Ceramic Arts\"], \"marker\": {\"sizemode\": \"area\", \"sizeref\": 5, \"size\": [94.0, 348.0, 14.0, 19.0, 22.0, 53.0, 7.0, 6.0, 4.0]}, \"name\": \"Art & Culture\"}, {\"x\": [4797.0], \"y\": [18.0], \"mode\": \"markers\", \"text\": [\"Handmade Crafts\"], \"marker\": {\"sizemode\": \"area\", \"sizeref\": 5, \"size\": [48.0]}, \"name\": \"Hobbies & Crafts\"}, {\"x\": [41978.0, 19028.0], \"y\": [97.0, 136.0], \"mode\": \"markers\", \"text\": [\"Dancing\", \"Dance Lessons\"], \"marker\": {\"sizemode\": \"area\", \"sizeref\": 5, \"size\": [477.0, 169.0]}, \"name\": \"Dancing\"}, {\"x\": [14956.0, 1444.0], \"y\": [1.0, 1.0], \"mode\": \"markers\", \"text\": [\"LGBT Social Group\", \"Friends & Supporters of LGBT/GLBT\"], \"marker\": {\"sizemode\": \"area\", \"sizeref\": 5, \"size\": [197.0, 21.0]}, \"name\": \"LGBT\"}, {\"x\": [266.0], \"y\": [3.0], \"mode\": \"markers\", \"text\": [\"Sport Bikes\"], \"marker\": {\"sizemode\": \"area\", \"sizeref\": 5, \"size\": [18.0]}, \"name\": \"Sports & Recreation\"}, {\"x\": [], \"y\": [], \"mode\": \"markers\", \"text\": [], \"marker\": {\"sizemode\": \"area\", \"sizeref\": 5, \"size\": []}, \"name\": \"Book Club\"}], \"name\": \"2017\"}]);}).then(function(){Plotly.animate('5b276ef3-fd8b-4067-8065-297d523bfd4e');})\n",
       "        });</script>"
      ]
     },
     "metadata": {},
     "output_type": "display_data"
    }
   ],
   "source": [
    "years = list(dataset.year.unique())\n",
    "# make list of main_topics\n",
    "main_topics = []\n",
    "for main_topic in dataset['main_topic']:\n",
    "    if main_topic not in main_topics:\n",
    "        main_topics.append(main_topic)\n",
    "# make figure\n",
    "figure = {\n",
    "    'data': [],\n",
    "    'layout': {},\n",
    "    'frames': []\n",
    "}\n",
    "\n",
    "# fill in most of layout\n",
    "figure['layout']['xaxis'] = {'range': [0, 160000.0], 'title': 'Number of Members'}\n",
    "figure['layout']['yaxis'] = {'range':[0,1000],'title': 'Number of Events'}\n",
    "figure['layout']['hovermode'] = 'closest'\n",
    "figure['layout']['sliders'] = {\n",
    "    'args': [\n",
    "        'transition', {\n",
    "            'duration': 400,\n",
    "            'easing': 'cubic-in-out'\n",
    "        }\n",
    "    ],\n",
    "    'initialValue': '1952',\n",
    "    'plotlycommand': 'animate',\n",
    "    'values': years,\n",
    "    'visible': True\n",
    "}\n",
    "figure['layout']['updatemenus'] = [\n",
    "    {\n",
    "        'buttons': [\n",
    "            {\n",
    "                'args': [None, {'frame': {'duration': 500, 'redraw': False},\n",
    "                         'fromcurrent': True, 'transition': {'duration': 300, 'easing': 'quadratic-in-out'}}],\n",
    "                'label': 'Play',\n",
    "                'method': 'animate'\n",
    "            },\n",
    "            {\n",
    "                'args': [[None], {'frame': {'duration': 0, 'redraw': False}, 'mode': 'immediate',\n",
    "                'transition': {'duration': 0}}],\n",
    "                'label': 'Pause',\n",
    "                'method': 'animate'\n",
    "            }\n",
    "        ],\n",
    "        'direction': 'left',\n",
    "        'pad': {'r': 10, 't': 87},\n",
    "        'showactive': False,\n",
    "        'type': 'buttons',\n",
    "        'x': 0.1,\n",
    "        'xanchor': 'right',\n",
    "        'y': 0,\n",
    "        'yanchor': 'top'\n",
    "    }\n",
    "]\n",
    "\n",
    "sliders_dict = {\n",
    "    'active': 0,\n",
    "    'yanchor': 'top',\n",
    "    'xanchor': 'left',\n",
    "    'currentvalue': {\n",
    "        'font': {'size': 20},\n",
    "        'prefix': 'Year:',\n",
    "        'visible': True,\n",
    "        'xanchor': 'right'\n",
    "    },\n",
    "    'transition': {'duration': 300, 'easing': 'cubic-in-out'},\n",
    "    'pad': {'b': 10, 't': 50},\n",
    "    'len': 0.9,\n",
    "    'x': 0.1,\n",
    "    'y': 0,\n",
    "    'steps': []\n",
    "}\n",
    "\n",
    "# make data\n",
    "year = 2010\n",
    "for main_topic in main_topics:\n",
    "    dataset_by_year = dataset[dataset['year'] == year]\n",
    "    dataset_by_year_and_cont = dataset_by_year[dataset_by_year['main_topic'] == main_topic]\n",
    "\n",
    "    data_dict = {\n",
    "        'x': list(dataset_by_year_and_cont['member_number']),\n",
    "        'y': list(dataset_by_year_and_cont['event_count']),\n",
    "        'mode': 'markers',\n",
    "        'text': list(dataset_by_year_and_cont['topic_name']),\n",
    "        'marker': {\n",
    "            'sizemode': 'area',\n",
    "            'sizeref': 5,\n",
    "            'size': list(dataset_by_year_and_cont['number_of_join'])\n",
    "        },\n",
    "        'name': main_topic\n",
    "    }\n",
    "    figure['data'].append(data_dict)\n",
    "    \n",
    "# make frames\n",
    "for year in years:\n",
    "    frame = {'data': [], 'name': str(year)}\n",
    "    for main_topic in main_topics:\n",
    "        dataset_by_year = dataset[dataset['year'] == int(year)]\n",
    "        dataset_by_year_and_cont = dataset_by_year[dataset_by_year['main_topic'] == main_topic]\n",
    "\n",
    "        data_dict = {\n",
    "            'x': list(dataset_by_year_and_cont['member_number']),\n",
    "            'y': list(dataset_by_year_and_cont['event_count']),\n",
    "            'mode': 'markers',\n",
    "            'text': list(dataset_by_year_and_cont['topic_name']),\n",
    "            'marker': {\n",
    "                'sizemode': 'area',\n",
    "                'sizeref': 5,\n",
    "                'size': list(dataset_by_year_and_cont['number_of_join'])\n",
    "            },\n",
    "            'name': main_topic\n",
    "        }\n",
    "        frame['data'].append(data_dict)\n",
    "\n",
    "    figure['frames'].append(frame)\n",
    "    slider_step = {'args': [\n",
    "        [year],\n",
    "        {'frame': {'duration': 300, 'redraw': False},\n",
    "         'mode': 'immediate',\n",
    "       'transition': {'duration': 300}}\n",
    "     ],\n",
    "     'label': year,\n",
    "     'method': 'animate'}\n",
    "    sliders_dict['steps'].append(slider_step)\n",
    "\n",
    "    \n",
    "figure['layout']['sliders'] = [sliders_dict]\n",
    "\n",
    "iplot(figure)"
   ]
  },
  {
   "cell_type": "code",
   "execution_count": null,
   "metadata": {
    "collapsed": true
   },
   "outputs": [],
   "source": []
  }
 ],
 "metadata": {
  "kernelspec": {
   "display_name": "Python 3",
   "language": "python",
   "name": "python3"
  },
  "language_info": {
   "codemirror_mode": {
    "name": "ipython",
    "version": 3
   },
   "file_extension": ".py",
   "mimetype": "text/x-python",
   "name": "python",
   "nbconvert_exporter": "python",
   "pygments_lexer": "ipython3",
   "version": "3.6.3"
  }
 },
 "nbformat": 4,
 "nbformat_minor": 2
}
